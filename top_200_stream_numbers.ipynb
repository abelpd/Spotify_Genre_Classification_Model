{
 "cells": [
  {
   "cell_type": "markdown",
   "metadata": {},
   "source": [
    "### Basic EDA on stream numbers\n",
    "### Questions to answer:\n",
    "1) Does featuring another artist on a track correlate to higher stream numbers?  \n",
    "<br/><b>Yes, featuring an artist on a track will lead to higher stream numbers.</b>\n",
    "\n",
    "2) What kind of growth in stream numbers has Spotify achieved over the past two years?\n",
    "\n",
    "3) When do Spotify users tend to stream the most (day of week, time of year, etc.)?\n",
    "\n",
    "4) What types of genres tend to be on the top 200 charts?\n",
    "\n",
    "5) Who is the most popular artist in the last 2 years?\n",
    "\n",
    "\n",
    "\n",
    "6)\n"
   ]
  },
  {
   "cell_type": "code",
   "execution_count": 120,
   "metadata": {},
   "outputs": [],
   "source": [
    "import pandas as pd\n",
    "import numpy as np\n",
    "import os\n",
    "import matplotlib.pyplot as plt\n",
    "import seaborn as sns\n",
    "import re\n",
    "import math\n",
    "from scipy import stats\n",
    "import random\n",
    "import datetime\n",
    "import pandas.plotting._converter as pandacnv\n",
    "pandacnv.register()\n",
    "sns.set()\n",
    "sns.set_style(\"darkgrid\")\n"
   ]
  },
  {
   "cell_type": "code",
   "execution_count": 3,
   "metadata": {},
   "outputs": [],
   "source": [
    "cwd = os.getcwd()"
   ]
  },
  {
   "cell_type": "code",
   "execution_count": 4,
   "metadata": {},
   "outputs": [
    {
     "data": {
      "text/plain": [
       "['.git',\n",
       " '.gitignore',\n",
       " '.ipynb_checkpoints',\n",
       " 'API_KEYS.txt',\n",
       " 'Capstone1_Analysis_of_top_200_Spotify.pdf',\n",
       " 'Data_Wrangling',\n",
       " 'Genre_analysis.ipynb',\n",
       " 'README.md',\n",
       " 'song_analysis_graphs.ipynb',\n",
       " 'Streams_Over_Time.ipynb',\n",
       " 'top_200_stream_numbers.ipynb',\n",
       " '__pycache__']"
      ]
     },
     "execution_count": 4,
     "metadata": {},
     "output_type": "execute_result"
    }
   ],
   "source": [
    "os.listdir()"
   ]
  },
  {
   "cell_type": "code",
   "execution_count": 5,
   "metadata": {},
   "outputs": [],
   "source": [
    "csv_path = os.getcwd() + '\\\\Data_Wrangling\\\\Top_200_Spotify_Data\\\\'"
   ]
  },
  {
   "cell_type": "code",
   "execution_count": 6,
   "metadata": {},
   "outputs": [],
   "source": [
    "def csv_amalgimation(filename):\n",
    "    csv_df = pd.read_csv(filename, encoding=\"latin1\", parse_dates=[5])\n",
    "    columns = ['Position', 'Track Name', 'Artist', 'Streams', 'URL', 'Date']\n",
    "    csv_df.columns = columns\n",
    "    return csv_df"
   ]
  },
  {
   "cell_type": "code",
   "execution_count": 7,
   "metadata": {},
   "outputs": [],
   "source": [
    "csv_list = []\n",
    "for subdir, dirs, files in os.walk(csv_path):\n",
    "    for file in files:\n",
    "        csv_list.append(os.path.join(subdir, file))"
   ]
  },
  {
   "cell_type": "code",
   "execution_count": 8,
   "metadata": {},
   "outputs": [],
   "source": [
    "dfs_to_append = []\n",
    "error_csvs = []\n",
    "for csv in csv_list:\n",
    "    try:\n",
    "        dfs_to_append.append(csv_amalgimation(csv))\n",
    "    except:\n",
    "        error_csvs.append(csv)\n",
    "        pass"
   ]
  },
  {
   "cell_type": "code",
   "execution_count": 9,
   "metadata": {},
   "outputs": [],
   "source": [
    "df = pd.DataFrame()\n",
    "df = df.append(dfs_to_append, ignore_index=True)"
   ]
  },
  {
   "cell_type": "code",
   "execution_count": 10,
   "metadata": {},
   "outputs": [],
   "source": [
    "#C:\\Users\\abels\\Desktop\\spotify_scrape\\Data\\csv_files\\\n",
    "df.to_csv(cwd + '\\\\Data_Wrangling\\\\final_csv_files\\\\Combined_Top_200_Stream_Numbers.csv')"
   ]
  },
  {
   "cell_type": "code",
   "execution_count": 11,
   "metadata": {},
   "outputs": [
    {
     "name": "stdout",
     "output_type": "stream",
     "text": [
      "(170046, 6)\n"
     ]
    },
    {
     "data": {
      "text/html": [
       "<div>\n",
       "<style scoped>\n",
       "    .dataframe tbody tr th:only-of-type {\n",
       "        vertical-align: middle;\n",
       "    }\n",
       "\n",
       "    .dataframe tbody tr th {\n",
       "        vertical-align: top;\n",
       "    }\n",
       "\n",
       "    .dataframe thead th {\n",
       "        text-align: right;\n",
       "    }\n",
       "</style>\n",
       "<table border=\"1\" class=\"dataframe\">\n",
       "  <thead>\n",
       "    <tr style=\"text-align: right;\">\n",
       "      <th></th>\n",
       "      <th>Position</th>\n",
       "      <th>Track Name</th>\n",
       "      <th>Artist</th>\n",
       "      <th>Streams</th>\n",
       "      <th>URL</th>\n",
       "      <th>Date</th>\n",
       "    </tr>\n",
       "  </thead>\n",
       "  <tbody>\n",
       "    <tr>\n",
       "      <th>0</th>\n",
       "      <td>Position</td>\n",
       "      <td>Track Name</td>\n",
       "      <td>Artist</td>\n",
       "      <td>Streams</td>\n",
       "      <td>URL</td>\n",
       "      <td>2017-01-01</td>\n",
       "    </tr>\n",
       "    <tr>\n",
       "      <th>1</th>\n",
       "      <td>1</td>\n",
       "      <td>Starboy</td>\n",
       "      <td>The Weeknd</td>\n",
       "      <td>3135625</td>\n",
       "      <td>https://open.spotify.com/track/5aAx2yezTd8zXrk...</td>\n",
       "      <td>2017-01-01</td>\n",
       "    </tr>\n",
       "    <tr>\n",
       "      <th>2</th>\n",
       "      <td>2</td>\n",
       "      <td>Closer</td>\n",
       "      <td>The Chainsmokers</td>\n",
       "      <td>3015525</td>\n",
       "      <td>https://open.spotify.com/track/7BKLCZ1jbUBVqRi...</td>\n",
       "      <td>2017-01-01</td>\n",
       "    </tr>\n",
       "    <tr>\n",
       "      <th>3</th>\n",
       "      <td>3</td>\n",
       "      <td>Let Me Love You</td>\n",
       "      <td>DJ Snake</td>\n",
       "      <td>2545384</td>\n",
       "      <td>https://open.spotify.com/track/4pdPtRcBmOSQDlJ...</td>\n",
       "      <td>2017-01-01</td>\n",
       "    </tr>\n",
       "    <tr>\n",
       "      <th>4</th>\n",
       "      <td>4</td>\n",
       "      <td>Rockabye (feat. Sean Paul &amp; Anne-Marie)</td>\n",
       "      <td>Clean Bandit</td>\n",
       "      <td>2356604</td>\n",
       "      <td>https://open.spotify.com/track/5knuzwU65gJK7IF...</td>\n",
       "      <td>2017-01-01</td>\n",
       "    </tr>\n",
       "  </tbody>\n",
       "</table>\n",
       "</div>"
      ],
      "text/plain": [
       "   Position                               Track Name            Artist  \\\n",
       "0  Position                               Track Name            Artist   \n",
       "1         1                                  Starboy        The Weeknd   \n",
       "2         2                                   Closer  The Chainsmokers   \n",
       "3         3                          Let Me Love You          DJ Snake   \n",
       "4         4  Rockabye (feat. Sean Paul & Anne-Marie)      Clean Bandit   \n",
       "\n",
       "   Streams                                                URL       Date  \n",
       "0  Streams                                                URL 2017-01-01  \n",
       "1  3135625  https://open.spotify.com/track/5aAx2yezTd8zXrk... 2017-01-01  \n",
       "2  3015525  https://open.spotify.com/track/7BKLCZ1jbUBVqRi... 2017-01-01  \n",
       "3  2545384  https://open.spotify.com/track/4pdPtRcBmOSQDlJ... 2017-01-01  \n",
       "4  2356604  https://open.spotify.com/track/5knuzwU65gJK7IF... 2017-01-01  "
      ]
     },
     "execution_count": 11,
     "metadata": {},
     "output_type": "execute_result"
    }
   ],
   "source": [
    "print (df.shape)\n",
    "df.head()"
   ]
  },
  {
   "cell_type": "code",
   "execution_count": 12,
   "metadata": {},
   "outputs": [],
   "source": [
    "df['Streams'] = pd.to_numeric(df['Streams'], errors='coerce')"
   ]
  },
  {
   "cell_type": "code",
   "execution_count": 13,
   "metadata": {},
   "outputs": [
    {
     "data": {
      "text/plain": [
       "dtype('float64')"
      ]
     },
     "execution_count": 13,
     "metadata": {},
     "output_type": "execute_result"
    }
   ],
   "source": [
    "df['Streams'].dtype"
   ]
  },
  {
   "cell_type": "code",
   "execution_count": 14,
   "metadata": {},
   "outputs": [
    {
     "data": {
      "text/plain": [
       "0          NaN\n",
       "1    3135625.0\n",
       "2    3015525.0\n",
       "3    2545384.0\n",
       "4    2356604.0\n",
       "Name: Streams, dtype: float64"
      ]
     },
     "execution_count": 14,
     "metadata": {},
     "output_type": "execute_result"
    }
   ],
   "source": [
    "df['Streams'].head()"
   ]
  },
  {
   "cell_type": "code",
   "execution_count": 15,
   "metadata": {},
   "outputs": [],
   "source": [
    "mask = (~np.isnan(df['Streams']))"
   ]
  },
  {
   "cell_type": "code",
   "execution_count": 16,
   "metadata": {},
   "outputs": [
    {
     "data": {
      "text/plain": [
       "(170046,)"
      ]
     },
     "execution_count": 16,
     "metadata": {},
     "output_type": "execute_result"
    }
   ],
   "source": [
    "mask.shape"
   ]
  },
  {
   "cell_type": "code",
   "execution_count": 17,
   "metadata": {},
   "outputs": [
    {
     "data": {
      "text/plain": [
       "0    False\n",
       "1     True\n",
       "2     True\n",
       "3     True\n",
       "4     True\n",
       "Name: Streams, dtype: bool"
      ]
     },
     "execution_count": 17,
     "metadata": {},
     "output_type": "execute_result"
    }
   ],
   "source": [
    "mask.head()"
   ]
  },
  {
   "cell_type": "code",
   "execution_count": 18,
   "metadata": {},
   "outputs": [
    {
     "data": {
      "text/plain": [
       "(170046, 6)"
      ]
     },
     "execution_count": 18,
     "metadata": {},
     "output_type": "execute_result"
    }
   ],
   "source": [
    "df.shape"
   ]
  },
  {
   "cell_type": "code",
   "execution_count": 19,
   "metadata": {},
   "outputs": [],
   "source": [
    "df = df[mask]"
   ]
  },
  {
   "cell_type": "code",
   "execution_count": 20,
   "metadata": {},
   "outputs": [
    {
     "data": {
      "text/plain": [
       "(169200, 6)"
      ]
     },
     "execution_count": 20,
     "metadata": {},
     "output_type": "execute_result"
    }
   ],
   "source": [
    "df.shape"
   ]
  },
  {
   "cell_type": "code",
   "execution_count": 21,
   "metadata": {},
   "outputs": [
    {
     "data": {
      "text/html": [
       "<div>\n",
       "<style scoped>\n",
       "    .dataframe tbody tr th:only-of-type {\n",
       "        vertical-align: middle;\n",
       "    }\n",
       "\n",
       "    .dataframe tbody tr th {\n",
       "        vertical-align: top;\n",
       "    }\n",
       "\n",
       "    .dataframe thead th {\n",
       "        text-align: right;\n",
       "    }\n",
       "</style>\n",
       "<table border=\"1\" class=\"dataframe\">\n",
       "  <thead>\n",
       "    <tr style=\"text-align: right;\">\n",
       "      <th></th>\n",
       "      <th>Position</th>\n",
       "      <th>Track Name</th>\n",
       "      <th>Artist</th>\n",
       "      <th>Streams</th>\n",
       "      <th>URL</th>\n",
       "      <th>Date</th>\n",
       "    </tr>\n",
       "  </thead>\n",
       "  <tbody>\n",
       "    <tr>\n",
       "      <th>1</th>\n",
       "      <td>1</td>\n",
       "      <td>Starboy</td>\n",
       "      <td>The Weeknd</td>\n",
       "      <td>3135625.0</td>\n",
       "      <td>https://open.spotify.com/track/5aAx2yezTd8zXrk...</td>\n",
       "      <td>2017-01-01</td>\n",
       "    </tr>\n",
       "    <tr>\n",
       "      <th>2</th>\n",
       "      <td>2</td>\n",
       "      <td>Closer</td>\n",
       "      <td>The Chainsmokers</td>\n",
       "      <td>3015525.0</td>\n",
       "      <td>https://open.spotify.com/track/7BKLCZ1jbUBVqRi...</td>\n",
       "      <td>2017-01-01</td>\n",
       "    </tr>\n",
       "    <tr>\n",
       "      <th>3</th>\n",
       "      <td>3</td>\n",
       "      <td>Let Me Love You</td>\n",
       "      <td>DJ Snake</td>\n",
       "      <td>2545384.0</td>\n",
       "      <td>https://open.spotify.com/track/4pdPtRcBmOSQDlJ...</td>\n",
       "      <td>2017-01-01</td>\n",
       "    </tr>\n",
       "    <tr>\n",
       "      <th>4</th>\n",
       "      <td>4</td>\n",
       "      <td>Rockabye (feat. Sean Paul &amp; Anne-Marie)</td>\n",
       "      <td>Clean Bandit</td>\n",
       "      <td>2356604.0</td>\n",
       "      <td>https://open.spotify.com/track/5knuzwU65gJK7IF...</td>\n",
       "      <td>2017-01-01</td>\n",
       "    </tr>\n",
       "    <tr>\n",
       "      <th>5</th>\n",
       "      <td>5</td>\n",
       "      <td>One Dance</td>\n",
       "      <td>Drake</td>\n",
       "      <td>2259887.0</td>\n",
       "      <td>https://open.spotify.com/track/1xznGGDReH1oQq0...</td>\n",
       "      <td>2017-01-01</td>\n",
       "    </tr>\n",
       "  </tbody>\n",
       "</table>\n",
       "</div>"
      ],
      "text/plain": [
       "  Position                               Track Name            Artist  \\\n",
       "1        1                                  Starboy        The Weeknd   \n",
       "2        2                                   Closer  The Chainsmokers   \n",
       "3        3                          Let Me Love You          DJ Snake   \n",
       "4        4  Rockabye (feat. Sean Paul & Anne-Marie)      Clean Bandit   \n",
       "5        5                                One Dance             Drake   \n",
       "\n",
       "     Streams                                                URL       Date  \n",
       "1  3135625.0  https://open.spotify.com/track/5aAx2yezTd8zXrk... 2017-01-01  \n",
       "2  3015525.0  https://open.spotify.com/track/7BKLCZ1jbUBVqRi... 2017-01-01  \n",
       "3  2545384.0  https://open.spotify.com/track/4pdPtRcBmOSQDlJ... 2017-01-01  \n",
       "4  2356604.0  https://open.spotify.com/track/5knuzwU65gJK7IF... 2017-01-01  \n",
       "5  2259887.0  https://open.spotify.com/track/1xznGGDReH1oQq0... 2017-01-01  "
      ]
     },
     "execution_count": 21,
     "metadata": {},
     "output_type": "execute_result"
    }
   ],
   "source": [
    "df.head()"
   ]
  },
  {
   "cell_type": "markdown",
   "metadata": {},
   "source": [
    "## 1) Does featuring another artist lead to higher stream numbers?"
   ]
  },
  {
   "cell_type": "code",
   "execution_count": 22,
   "metadata": {},
   "outputs": [
    {
     "name": "stderr",
     "output_type": "stream",
     "text": [
      "C:\\Users\\abels\\Anaconda3\\lib\\site-packages\\ipykernel_launcher.py:6: UserWarning: This pattern has match groups. To actually get the groups, use str.extract.\n",
      "  \n"
     ]
    },
    {
     "data": {
      "text/html": [
       "<div>\n",
       "<style scoped>\n",
       "    .dataframe tbody tr th:only-of-type {\n",
       "        vertical-align: middle;\n",
       "    }\n",
       "\n",
       "    .dataframe tbody tr th {\n",
       "        vertical-align: top;\n",
       "    }\n",
       "\n",
       "    .dataframe thead th {\n",
       "        text-align: right;\n",
       "    }\n",
       "</style>\n",
       "<table border=\"1\" class=\"dataframe\">\n",
       "  <thead>\n",
       "    <tr style=\"text-align: right;\">\n",
       "      <th></th>\n",
       "      <th>Position</th>\n",
       "      <th>Track Name</th>\n",
       "      <th>Artist</th>\n",
       "      <th>Streams</th>\n",
       "      <th>URL</th>\n",
       "      <th>Date</th>\n",
       "      <th>is_featured</th>\n",
       "    </tr>\n",
       "  </thead>\n",
       "  <tbody>\n",
       "    <tr>\n",
       "      <th>1</th>\n",
       "      <td>1</td>\n",
       "      <td>Starboy</td>\n",
       "      <td>The Weeknd</td>\n",
       "      <td>3135625.0</td>\n",
       "      <td>https://open.spotify.com/track/5aAx2yezTd8zXrk...</td>\n",
       "      <td>2017-01-01</td>\n",
       "      <td>False</td>\n",
       "    </tr>\n",
       "    <tr>\n",
       "      <th>2</th>\n",
       "      <td>2</td>\n",
       "      <td>Closer</td>\n",
       "      <td>The Chainsmokers</td>\n",
       "      <td>3015525.0</td>\n",
       "      <td>https://open.spotify.com/track/7BKLCZ1jbUBVqRi...</td>\n",
       "      <td>2017-01-01</td>\n",
       "      <td>False</td>\n",
       "    </tr>\n",
       "    <tr>\n",
       "      <th>3</th>\n",
       "      <td>3</td>\n",
       "      <td>Let Me Love You</td>\n",
       "      <td>DJ Snake</td>\n",
       "      <td>2545384.0</td>\n",
       "      <td>https://open.spotify.com/track/4pdPtRcBmOSQDlJ...</td>\n",
       "      <td>2017-01-01</td>\n",
       "      <td>False</td>\n",
       "    </tr>\n",
       "    <tr>\n",
       "      <th>4</th>\n",
       "      <td>4</td>\n",
       "      <td>Rockabye (feat. Sean Paul &amp; Anne-Marie)</td>\n",
       "      <td>Clean Bandit</td>\n",
       "      <td>2356604.0</td>\n",
       "      <td>https://open.spotify.com/track/5knuzwU65gJK7IF...</td>\n",
       "      <td>2017-01-01</td>\n",
       "      <td>True</td>\n",
       "    </tr>\n",
       "    <tr>\n",
       "      <th>5</th>\n",
       "      <td>5</td>\n",
       "      <td>One Dance</td>\n",
       "      <td>Drake</td>\n",
       "      <td>2259887.0</td>\n",
       "      <td>https://open.spotify.com/track/1xznGGDReH1oQq0...</td>\n",
       "      <td>2017-01-01</td>\n",
       "      <td>False</td>\n",
       "    </tr>\n",
       "    <tr>\n",
       "      <th>6</th>\n",
       "      <td>6</td>\n",
       "      <td>Fake Love</td>\n",
       "      <td>Drake</td>\n",
       "      <td>2137437.0</td>\n",
       "      <td>https://open.spotify.com/track/343YBumqHu19cGo...</td>\n",
       "      <td>2017-01-01</td>\n",
       "      <td>False</td>\n",
       "    </tr>\n",
       "    <tr>\n",
       "      <th>7</th>\n",
       "      <td>7</td>\n",
       "      <td>24K Magic</td>\n",
       "      <td>Bruno Mars</td>\n",
       "      <td>2111599.0</td>\n",
       "      <td>https://open.spotify.com/track/6b8Be6ljOzmkOmF...</td>\n",
       "      <td>2017-01-01</td>\n",
       "      <td>False</td>\n",
       "    </tr>\n",
       "    <tr>\n",
       "      <th>8</th>\n",
       "      <td>8</td>\n",
       "      <td>Don't Wanna Know</td>\n",
       "      <td>Maroon 5</td>\n",
       "      <td>2107137.0</td>\n",
       "      <td>https://open.spotify.com/track/5MFzQMkrl1FOOng...</td>\n",
       "      <td>2017-01-01</td>\n",
       "      <td>False</td>\n",
       "    </tr>\n",
       "    <tr>\n",
       "      <th>9</th>\n",
       "      <td>9</td>\n",
       "      <td>Black Beatles</td>\n",
       "      <td>Rae Sremmurd</td>\n",
       "      <td>2075732.0</td>\n",
       "      <td>https://open.spotify.com/track/6fujklziTHa8uoM...</td>\n",
       "      <td>2017-01-01</td>\n",
       "      <td>False</td>\n",
       "    </tr>\n",
       "    <tr>\n",
       "      <th>10</th>\n",
       "      <td>10</td>\n",
       "      <td>I Feel It Coming</td>\n",
       "      <td>The Weeknd</td>\n",
       "      <td>1949575.0</td>\n",
       "      <td>https://open.spotify.com/track/5GXAXm5YOmYT0kL...</td>\n",
       "      <td>2017-01-01</td>\n",
       "      <td>False</td>\n",
       "    </tr>\n",
       "    <tr>\n",
       "      <th>11</th>\n",
       "      <td>11</td>\n",
       "      <td>Chantaje (feat. Maluma)</td>\n",
       "      <td>Shakira</td>\n",
       "      <td>1893214.0</td>\n",
       "      <td>https://open.spotify.com/track/6mICuAdrwEjh6Y6...</td>\n",
       "      <td>2017-01-01</td>\n",
       "      <td>True</td>\n",
       "    </tr>\n",
       "    <tr>\n",
       "      <th>12</th>\n",
       "      <td>12</td>\n",
       "      <td>I Dont Wanna Live Forever (Fifty Shades Darke...</td>\n",
       "      <td>ZAYN</td>\n",
       "      <td>1857252.0</td>\n",
       "      <td>https://open.spotify.com/track/3NdDpSvN911VPGi...</td>\n",
       "      <td>2017-01-01</td>\n",
       "      <td>False</td>\n",
       "    </tr>\n",
       "    <tr>\n",
       "      <th>13</th>\n",
       "      <td>13</td>\n",
       "      <td>Say You Won't Let Go</td>\n",
       "      <td>James Arthur</td>\n",
       "      <td>1812335.0</td>\n",
       "      <td>https://open.spotify.com/track/5uCax9HTNlzGybI...</td>\n",
       "      <td>2017-01-01</td>\n",
       "      <td>False</td>\n",
       "    </tr>\n",
       "    <tr>\n",
       "      <th>14</th>\n",
       "      <td>14</td>\n",
       "      <td>Bad and Boujee (feat. Lil Uzi Vert)</td>\n",
       "      <td>Migos</td>\n",
       "      <td>1801707.0</td>\n",
       "      <td>https://open.spotify.com/track/4Km5HrUvYTaSUfi...</td>\n",
       "      <td>2017-01-01</td>\n",
       "      <td>True</td>\n",
       "    </tr>\n",
       "    <tr>\n",
       "      <th>15</th>\n",
       "      <td>15</td>\n",
       "      <td>Cold Water (feat. Justin Bieber &amp; MØ)</td>\n",
       "      <td>Major Lazer</td>\n",
       "      <td>1731191.0</td>\n",
       "      <td>https://open.spotify.com/track/6DNtNfH8hXkqOX1...</td>\n",
       "      <td>2017-01-01</td>\n",
       "      <td>True</td>\n",
       "    </tr>\n",
       "    <tr>\n",
       "      <th>16</th>\n",
       "      <td>16</td>\n",
       "      <td>In the Name of Love</td>\n",
       "      <td>Martin Garrix</td>\n",
       "      <td>1647944.0</td>\n",
       "      <td>https://open.spotify.com/track/04DwTuZ2VBdJCCC...</td>\n",
       "      <td>2017-01-01</td>\n",
       "      <td>False</td>\n",
       "    </tr>\n",
       "    <tr>\n",
       "      <th>17</th>\n",
       "      <td>17</td>\n",
       "      <td>Side To Side</td>\n",
       "      <td>Ariana Grande</td>\n",
       "      <td>1527676.0</td>\n",
       "      <td>https://open.spotify.com/track/4pLwZjInHj3SimI...</td>\n",
       "      <td>2017-01-01</td>\n",
       "      <td>False</td>\n",
       "    </tr>\n",
       "    <tr>\n",
       "      <th>18</th>\n",
       "      <td>18</td>\n",
       "      <td>Call On Me - Ryan Riback Extended Remix</td>\n",
       "      <td>Starley</td>\n",
       "      <td>1507320.0</td>\n",
       "      <td>https://open.spotify.com/track/78rIJddV4X0HkNA...</td>\n",
       "      <td>2017-01-01</td>\n",
       "      <td>False</td>\n",
       "    </tr>\n",
       "    <tr>\n",
       "      <th>19</th>\n",
       "      <td>19</td>\n",
       "      <td>CAN'T STOP THE FEELING! (Original Song from Dr...</td>\n",
       "      <td>Justin Timberlake</td>\n",
       "      <td>1480601.0</td>\n",
       "      <td>https://open.spotify.com/track/6JV2JOEocMgcZxY...</td>\n",
       "      <td>2017-01-01</td>\n",
       "      <td>False</td>\n",
       "    </tr>\n",
       "    <tr>\n",
       "      <th>20</th>\n",
       "      <td>20</td>\n",
       "      <td>Don't Let Me Down</td>\n",
       "      <td>The Chainsmokers</td>\n",
       "      <td>1438471.0</td>\n",
       "      <td>https://open.spotify.com/track/0QsvXIfqM0zZoer...</td>\n",
       "      <td>2017-01-01</td>\n",
       "      <td>False</td>\n",
       "    </tr>\n",
       "    <tr>\n",
       "      <th>21</th>\n",
       "      <td>21</td>\n",
       "      <td>Treat You Better</td>\n",
       "      <td>Shawn Mendes</td>\n",
       "      <td>1409430.0</td>\n",
       "      <td>https://open.spotify.com/track/4Hf7WnR761jpxPr...</td>\n",
       "      <td>2017-01-01</td>\n",
       "      <td>False</td>\n",
       "    </tr>\n",
       "    <tr>\n",
       "      <th>22</th>\n",
       "      <td>22</td>\n",
       "      <td>Just Hold On</td>\n",
       "      <td>Steve Aoki</td>\n",
       "      <td>1375005.0</td>\n",
       "      <td>https://open.spotify.com/track/3EmmCZoqpWOTY1g...</td>\n",
       "      <td>2017-01-01</td>\n",
       "      <td>False</td>\n",
       "    </tr>\n",
       "    <tr>\n",
       "      <th>23</th>\n",
       "      <td>23</td>\n",
       "      <td>My Way</td>\n",
       "      <td>Calvin Harris</td>\n",
       "      <td>1341827.0</td>\n",
       "      <td>https://open.spotify.com/track/1vvNmPOiUuyCbgW...</td>\n",
       "      <td>2017-01-01</td>\n",
       "      <td>False</td>\n",
       "    </tr>\n",
       "    <tr>\n",
       "      <th>24</th>\n",
       "      <td>24</td>\n",
       "      <td>Starving</td>\n",
       "      <td>Hailee Steinfeld</td>\n",
       "      <td>1338596.0</td>\n",
       "      <td>https://open.spotify.com/track/1qOLh0tI7trd1zd...</td>\n",
       "      <td>2017-01-01</td>\n",
       "      <td>False</td>\n",
       "    </tr>\n",
       "    <tr>\n",
       "      <th>25</th>\n",
       "      <td>25</td>\n",
       "      <td>Bad Things (with Camila Cabello)</td>\n",
       "      <td>Machine Gun Kelly</td>\n",
       "      <td>1257334.0</td>\n",
       "      <td>https://open.spotify.com/track/1PSBzsahR2AKwLJ...</td>\n",
       "      <td>2017-01-01</td>\n",
       "      <td>True</td>\n",
       "    </tr>\n",
       "    <tr>\n",
       "      <th>26</th>\n",
       "      <td>26</td>\n",
       "      <td>Heathens</td>\n",
       "      <td>Twenty One Pilots</td>\n",
       "      <td>1255839.0</td>\n",
       "      <td>https://open.spotify.com/track/6i0V12jOa3mr6uu...</td>\n",
       "      <td>2017-01-01</td>\n",
       "      <td>False</td>\n",
       "    </tr>\n",
       "    <tr>\n",
       "      <th>27</th>\n",
       "      <td>27</td>\n",
       "      <td>Cheap Thrills</td>\n",
       "      <td>Sia</td>\n",
       "      <td>1238279.0</td>\n",
       "      <td>https://open.spotify.com/track/27SdWb2rFzO6GWi...</td>\n",
       "      <td>2017-01-01</td>\n",
       "      <td>False</td>\n",
       "    </tr>\n",
       "    <tr>\n",
       "      <th>28</th>\n",
       "      <td>28</td>\n",
       "      <td>All We Know</td>\n",
       "      <td>The Chainsmokers</td>\n",
       "      <td>1238138.0</td>\n",
       "      <td>https://open.spotify.com/track/2rizacJSyD9S1IQ...</td>\n",
       "      <td>2017-01-01</td>\n",
       "      <td>False</td>\n",
       "    </tr>\n",
       "    <tr>\n",
       "      <th>29</th>\n",
       "      <td>29</td>\n",
       "      <td>Mercy</td>\n",
       "      <td>Shawn Mendes</td>\n",
       "      <td>1215550.0</td>\n",
       "      <td>https://open.spotify.com/track/4TZy1wLyHec06pw...</td>\n",
       "      <td>2017-01-01</td>\n",
       "      <td>False</td>\n",
       "    </tr>\n",
       "    <tr>\n",
       "      <th>30</th>\n",
       "      <td>30</td>\n",
       "      <td>Reggaetón Lento (Bailemos)</td>\n",
       "      <td>CNCO</td>\n",
       "      <td>1164530.0</td>\n",
       "      <td>https://open.spotify.com/track/3AEZUABDXNtecAO...</td>\n",
       "      <td>2017-01-01</td>\n",
       "      <td>False</td>\n",
       "    </tr>\n",
       "    <tr>\n",
       "      <th>...</th>\n",
       "      <td>...</td>\n",
       "      <td>...</td>\n",
       "      <td>...</td>\n",
       "      <td>...</td>\n",
       "      <td>...</td>\n",
       "      <td>...</td>\n",
       "      <td>...</td>\n",
       "    </tr>\n",
       "    <tr>\n",
       "      <th>71</th>\n",
       "      <td>71</td>\n",
       "      <td>Traicionera</td>\n",
       "      <td>Sebastian Yatra</td>\n",
       "      <td>685732.0</td>\n",
       "      <td>https://open.spotify.com/track/5J1c3M4EldCfNxX...</td>\n",
       "      <td>2017-01-01</td>\n",
       "      <td>False</td>\n",
       "    </tr>\n",
       "    <tr>\n",
       "      <th>72</th>\n",
       "      <td>72</td>\n",
       "      <td>X (feat. Future)</td>\n",
       "      <td>21 Savage</td>\n",
       "      <td>673320.0</td>\n",
       "      <td>https://open.spotify.com/track/6fwdbPMwP1zVStm...</td>\n",
       "      <td>2017-01-01</td>\n",
       "      <td>True</td>\n",
       "    </tr>\n",
       "    <tr>\n",
       "      <th>73</th>\n",
       "      <td>73</td>\n",
       "      <td>Send My Love (To Your New Lover)</td>\n",
       "      <td>Adele</td>\n",
       "      <td>672465.0</td>\n",
       "      <td>https://open.spotify.com/track/4BHzQ9C00ceJxfG...</td>\n",
       "      <td>2017-01-01</td>\n",
       "      <td>False</td>\n",
       "    </tr>\n",
       "    <tr>\n",
       "      <th>74</th>\n",
       "      <td>74</td>\n",
       "      <td>Juju On That Beat (TZ Anthem)</td>\n",
       "      <td>Zay Hilfigerrr</td>\n",
       "      <td>672103.0</td>\n",
       "      <td>https://open.spotify.com/track/1lItf5ZXJc1by9S...</td>\n",
       "      <td>2017-01-01</td>\n",
       "      <td>False</td>\n",
       "    </tr>\n",
       "    <tr>\n",
       "      <th>75</th>\n",
       "      <td>75</td>\n",
       "      <td>DUELE EL CORAZON</td>\n",
       "      <td>Enrique Iglesias</td>\n",
       "      <td>666941.0</td>\n",
       "      <td>https://open.spotify.com/track/6YZdkObH88npeKr...</td>\n",
       "      <td>2017-01-01</td>\n",
       "      <td>False</td>\n",
       "    </tr>\n",
       "    <tr>\n",
       "      <th>76</th>\n",
       "      <td>76</td>\n",
       "      <td>Hymn for the Weekend - Seeb Remix</td>\n",
       "      <td>Coldplay</td>\n",
       "      <td>655597.0</td>\n",
       "      <td>https://open.spotify.com/track/1OAiWI2oPmglaOi...</td>\n",
       "      <td>2017-01-01</td>\n",
       "      <td>False</td>\n",
       "    </tr>\n",
       "    <tr>\n",
       "      <th>77</th>\n",
       "      <td>77</td>\n",
       "      <td>i hate u, i love u (feat. olivia o'brien)</td>\n",
       "      <td>gnash</td>\n",
       "      <td>653547.0</td>\n",
       "      <td>https://open.spotify.com/track/7vRriwrloYVaoAe...</td>\n",
       "      <td>2017-01-01</td>\n",
       "      <td>True</td>\n",
       "    </tr>\n",
       "    <tr>\n",
       "      <th>78</th>\n",
       "      <td>78</td>\n",
       "      <td>Sucker For Pain (with Wiz Khalifa, Imagine Dra...</td>\n",
       "      <td>Lil Wayne</td>\n",
       "      <td>650717.0</td>\n",
       "      <td>https://open.spotify.com/track/4dASQiO1Eoo3RJv...</td>\n",
       "      <td>2017-01-01</td>\n",
       "      <td>True</td>\n",
       "    </tr>\n",
       "    <tr>\n",
       "      <th>79</th>\n",
       "      <td>79</td>\n",
       "      <td>Solo Dance</td>\n",
       "      <td>Martin Jensen</td>\n",
       "      <td>647007.0</td>\n",
       "      <td>https://open.spotify.com/track/6HUnnBwYZqcED1e...</td>\n",
       "      <td>2017-01-01</td>\n",
       "      <td>False</td>\n",
       "    </tr>\n",
       "    <tr>\n",
       "      <th>80</th>\n",
       "      <td>80</td>\n",
       "      <td>Chill Bill</td>\n",
       "      <td>Rob $tone</td>\n",
       "      <td>646550.0</td>\n",
       "      <td>https://open.spotify.com/track/5uDASfU19gDxSjW...</td>\n",
       "      <td>2017-01-01</td>\n",
       "      <td>False</td>\n",
       "    </tr>\n",
       "    <tr>\n",
       "      <th>81</th>\n",
       "      <td>81</td>\n",
       "      <td>Deu Onda</td>\n",
       "      <td>MC G15</td>\n",
       "      <td>640703.0</td>\n",
       "      <td>https://open.spotify.com/track/0EPxmvsG1BY5td4...</td>\n",
       "      <td>2017-01-01</td>\n",
       "      <td>False</td>\n",
       "    </tr>\n",
       "    <tr>\n",
       "      <th>82</th>\n",
       "      <td>82</td>\n",
       "      <td>The Ocean (feat. Shy Martin)</td>\n",
       "      <td>Mike Perry</td>\n",
       "      <td>621355.0</td>\n",
       "      <td>https://open.spotify.com/track/2CPqh63wRVscbce...</td>\n",
       "      <td>2017-01-01</td>\n",
       "      <td>True</td>\n",
       "    </tr>\n",
       "    <tr>\n",
       "      <th>83</th>\n",
       "      <td>83</td>\n",
       "      <td>Needed Me</td>\n",
       "      <td>Rihanna</td>\n",
       "      <td>618514.0</td>\n",
       "      <td>https://open.spotify.com/track/1Tt4sE4pXi57mTD...</td>\n",
       "      <td>2017-01-01</td>\n",
       "      <td>False</td>\n",
       "    </tr>\n",
       "    <tr>\n",
       "      <th>84</th>\n",
       "      <td>84</td>\n",
       "      <td>Human</td>\n",
       "      <td>Rag'n'Bone Man</td>\n",
       "      <td>615851.0</td>\n",
       "      <td>https://open.spotify.com/track/58zsLZPvfflaiIb...</td>\n",
       "      <td>2017-01-01</td>\n",
       "      <td>False</td>\n",
       "    </tr>\n",
       "    <tr>\n",
       "      <th>85</th>\n",
       "      <td>85</td>\n",
       "      <td>Setting Fires</td>\n",
       "      <td>The Chainsmokers</td>\n",
       "      <td>599513.0</td>\n",
       "      <td>https://open.spotify.com/track/0B8B8cVRFIG1yzn...</td>\n",
       "      <td>2017-01-01</td>\n",
       "      <td>False</td>\n",
       "    </tr>\n",
       "    <tr>\n",
       "      <th>86</th>\n",
       "      <td>86</td>\n",
       "      <td>The Greatest</td>\n",
       "      <td>Sia</td>\n",
       "      <td>597051.0</td>\n",
       "      <td>https://open.spotify.com/track/6bLopGnirdrilrp...</td>\n",
       "      <td>2017-01-01</td>\n",
       "      <td>False</td>\n",
       "    </tr>\n",
       "    <tr>\n",
       "      <th>87</th>\n",
       "      <td>87</td>\n",
       "      <td>7 Years</td>\n",
       "      <td>Lukas Graham</td>\n",
       "      <td>593676.0</td>\n",
       "      <td>https://open.spotify.com/track/7129iqBafaphfc3...</td>\n",
       "      <td>2017-01-01</td>\n",
       "      <td>False</td>\n",
       "    </tr>\n",
       "    <tr>\n",
       "      <th>88</th>\n",
       "      <td>88</td>\n",
       "      <td>This Girl (Kungs Vs. Cookin' On 3 Burners) - K...</td>\n",
       "      <td>Kungs</td>\n",
       "      <td>586302.0</td>\n",
       "      <td>https://open.spotify.com/track/0tICYNayWWhH9GP...</td>\n",
       "      <td>2017-01-01</td>\n",
       "      <td>False</td>\n",
       "    </tr>\n",
       "    <tr>\n",
       "      <th>89</th>\n",
       "      <td>89</td>\n",
       "      <td>Sneakin</td>\n",
       "      <td>Drake</td>\n",
       "      <td>580939.0</td>\n",
       "      <td>https://open.spotify.com/track/4ckuS4Nj4FZ7i3D...</td>\n",
       "      <td>2017-01-01</td>\n",
       "      <td>False</td>\n",
       "    </tr>\n",
       "    <tr>\n",
       "      <th>90</th>\n",
       "      <td>90</td>\n",
       "      <td>OOOUUU</td>\n",
       "      <td>Young M.A</td>\n",
       "      <td>580826.0</td>\n",
       "      <td>https://open.spotify.com/track/7JYsArznYOjX2js...</td>\n",
       "      <td>2017-01-01</td>\n",
       "      <td>False</td>\n",
       "    </tr>\n",
       "    <tr>\n",
       "      <th>91</th>\n",
       "      <td>91</td>\n",
       "      <td>Trust Nobody (feat. Selena Gomez &amp; Tory Lanez)</td>\n",
       "      <td>Cashmere Cat</td>\n",
       "      <td>579504.0</td>\n",
       "      <td>https://open.spotify.com/track/2wDjpPW3HZdA9qu...</td>\n",
       "      <td>2017-01-01</td>\n",
       "      <td>True</td>\n",
       "    </tr>\n",
       "    <tr>\n",
       "      <th>92</th>\n",
       "      <td>92</td>\n",
       "      <td>Make Me (Cry)</td>\n",
       "      <td>Noah Cyrus</td>\n",
       "      <td>577810.0</td>\n",
       "      <td>https://open.spotify.com/track/2BrzlUj1u1CtvaJ...</td>\n",
       "      <td>2017-01-01</td>\n",
       "      <td>False</td>\n",
       "    </tr>\n",
       "    <tr>\n",
       "      <th>93</th>\n",
       "      <td>93</td>\n",
       "      <td>Lot to Learn</td>\n",
       "      <td>Luke Christopher</td>\n",
       "      <td>570299.0</td>\n",
       "      <td>https://open.spotify.com/track/2HzfRSfCogBSsgW...</td>\n",
       "      <td>2017-01-01</td>\n",
       "      <td>False</td>\n",
       "    </tr>\n",
       "    <tr>\n",
       "      <th>94</th>\n",
       "      <td>94</td>\n",
       "      <td>Fast Car</td>\n",
       "      <td>Jonas Blue</td>\n",
       "      <td>567927.0</td>\n",
       "      <td>https://open.spotify.com/track/6OZh916QF8XNunW...</td>\n",
       "      <td>2017-01-01</td>\n",
       "      <td>False</td>\n",
       "    </tr>\n",
       "    <tr>\n",
       "      <th>95</th>\n",
       "      <td>95</td>\n",
       "      <td>No Problem (feat. Lil Wayne &amp; 2 Chainz)</td>\n",
       "      <td>Chance the Rapper</td>\n",
       "      <td>567639.0</td>\n",
       "      <td>https://open.spotify.com/track/0v9Wz8o0BT8DU38...</td>\n",
       "      <td>2017-01-01</td>\n",
       "      <td>True</td>\n",
       "    </tr>\n",
       "    <tr>\n",
       "      <th>96</th>\n",
       "      <td>96</td>\n",
       "      <td>Water Under the Bridge</td>\n",
       "      <td>Adele</td>\n",
       "      <td>565509.0</td>\n",
       "      <td>https://open.spotify.com/track/4vb4mFvYsr2h6en...</td>\n",
       "      <td>2017-01-01</td>\n",
       "      <td>False</td>\n",
       "    </tr>\n",
       "    <tr>\n",
       "      <th>97</th>\n",
       "      <td>97</td>\n",
       "      <td>Shout Out to My Ex</td>\n",
       "      <td>Little Mix</td>\n",
       "      <td>561342.0</td>\n",
       "      <td>https://open.spotify.com/track/0YHUITU3w6ws1v8...</td>\n",
       "      <td>2017-01-01</td>\n",
       "      <td>False</td>\n",
       "    </tr>\n",
       "    <tr>\n",
       "      <th>98</th>\n",
       "      <td>98</td>\n",
       "      <td>No Heart</td>\n",
       "      <td>21 Savage</td>\n",
       "      <td>553704.0</td>\n",
       "      <td>https://open.spotify.com/track/4gmmRb6bZJffOOi...</td>\n",
       "      <td>2017-01-01</td>\n",
       "      <td>False</td>\n",
       "    </tr>\n",
       "    <tr>\n",
       "      <th>99</th>\n",
       "      <td>99</td>\n",
       "      <td>Middle</td>\n",
       "      <td>DJ Snake</td>\n",
       "      <td>552314.0</td>\n",
       "      <td>https://open.spotify.com/track/4OZEu0Vwq0RB2LA...</td>\n",
       "      <td>2017-01-01</td>\n",
       "      <td>False</td>\n",
       "    </tr>\n",
       "    <tr>\n",
       "      <th>100</th>\n",
       "      <td>100</td>\n",
       "      <td>Dile Que Tu Me Quieres</td>\n",
       "      <td>Ozuna</td>\n",
       "      <td>549784.0</td>\n",
       "      <td>https://open.spotify.com/track/20ZAJdsKB5IGbGj...</td>\n",
       "      <td>2017-01-01</td>\n",
       "      <td>False</td>\n",
       "    </tr>\n",
       "  </tbody>\n",
       "</table>\n",
       "<p>100 rows × 7 columns</p>\n",
       "</div>"
      ],
      "text/plain": [
       "    Position                                         Track Name  \\\n",
       "1          1                                            Starboy   \n",
       "2          2                                             Closer   \n",
       "3          3                                    Let Me Love You   \n",
       "4          4            Rockabye (feat. Sean Paul & Anne-Marie)   \n",
       "5          5                                          One Dance   \n",
       "6          6                                          Fake Love   \n",
       "7          7                                          24K Magic   \n",
       "8          8                                   Don't Wanna Know   \n",
       "9          9                                      Black Beatles   \n",
       "10        10                                   I Feel It Coming   \n",
       "11        11                            Chantaje (feat. Maluma)   \n",
       "12        12  I Dont Wanna Live Forever (Fifty Shades Darke...   \n",
       "13        13                               Say You Won't Let Go   \n",
       "14        14                Bad and Boujee (feat. Lil Uzi Vert)   \n",
       "15        15              Cold Water (feat. Justin Bieber & MØ)   \n",
       "16        16                                In the Name of Love   \n",
       "17        17                                       Side To Side   \n",
       "18        18            Call On Me - Ryan Riback Extended Remix   \n",
       "19        19  CAN'T STOP THE FEELING! (Original Song from Dr...   \n",
       "20        20                                  Don't Let Me Down   \n",
       "21        21                                   Treat You Better   \n",
       "22        22                                       Just Hold On   \n",
       "23        23                                             My Way   \n",
       "24        24                                           Starving   \n",
       "25        25                   Bad Things (with Camila Cabello)   \n",
       "26        26                                           Heathens   \n",
       "27        27                                      Cheap Thrills   \n",
       "28        28                                        All We Know   \n",
       "29        29                                              Mercy   \n",
       "30        30                         Reggaetón Lento (Bailemos)   \n",
       "..       ...                                                ...   \n",
       "71        71                                        Traicionera   \n",
       "72        72                                   X (feat. Future)   \n",
       "73        73                   Send My Love (To Your New Lover)   \n",
       "74        74                      Juju On That Beat (TZ Anthem)   \n",
       "75        75                                   DUELE EL CORAZON   \n",
       "76        76                  Hymn for the Weekend - Seeb Remix   \n",
       "77        77          i hate u, i love u (feat. olivia o'brien)   \n",
       "78        78  Sucker For Pain (with Wiz Khalifa, Imagine Dra...   \n",
       "79        79                                         Solo Dance   \n",
       "80        80                                         Chill Bill   \n",
       "81        81                                           Deu Onda   \n",
       "82        82                       The Ocean (feat. Shy Martin)   \n",
       "83        83                                          Needed Me   \n",
       "84        84                                              Human   \n",
       "85        85                                      Setting Fires   \n",
       "86        86                                       The Greatest   \n",
       "87        87                                            7 Years   \n",
       "88        88  This Girl (Kungs Vs. Cookin' On 3 Burners) - K...   \n",
       "89        89                                           Sneakin   \n",
       "90        90                                             OOOUUU   \n",
       "91        91     Trust Nobody (feat. Selena Gomez & Tory Lanez)   \n",
       "92        92                                      Make Me (Cry)   \n",
       "93        93                                       Lot to Learn   \n",
       "94        94                                           Fast Car   \n",
       "95        95            No Problem (feat. Lil Wayne & 2 Chainz)   \n",
       "96        96                             Water Under the Bridge   \n",
       "97        97                                 Shout Out to My Ex   \n",
       "98        98                                           No Heart   \n",
       "99        99                                             Middle   \n",
       "100      100                             Dile Que Tu Me Quieres   \n",
       "\n",
       "                Artist    Streams  \\\n",
       "1           The Weeknd  3135625.0   \n",
       "2     The Chainsmokers  3015525.0   \n",
       "3             DJ Snake  2545384.0   \n",
       "4         Clean Bandit  2356604.0   \n",
       "5                Drake  2259887.0   \n",
       "6                Drake  2137437.0   \n",
       "7           Bruno Mars  2111599.0   \n",
       "8             Maroon 5  2107137.0   \n",
       "9         Rae Sremmurd  2075732.0   \n",
       "10          The Weeknd  1949575.0   \n",
       "11             Shakira  1893214.0   \n",
       "12                ZAYN  1857252.0   \n",
       "13        James Arthur  1812335.0   \n",
       "14               Migos  1801707.0   \n",
       "15         Major Lazer  1731191.0   \n",
       "16       Martin Garrix  1647944.0   \n",
       "17       Ariana Grande  1527676.0   \n",
       "18             Starley  1507320.0   \n",
       "19   Justin Timberlake  1480601.0   \n",
       "20    The Chainsmokers  1438471.0   \n",
       "21        Shawn Mendes  1409430.0   \n",
       "22          Steve Aoki  1375005.0   \n",
       "23       Calvin Harris  1341827.0   \n",
       "24    Hailee Steinfeld  1338596.0   \n",
       "25   Machine Gun Kelly  1257334.0   \n",
       "26   Twenty One Pilots  1255839.0   \n",
       "27                 Sia  1238279.0   \n",
       "28    The Chainsmokers  1238138.0   \n",
       "29        Shawn Mendes  1215550.0   \n",
       "30                CNCO  1164530.0   \n",
       "..                 ...        ...   \n",
       "71     Sebastian Yatra   685732.0   \n",
       "72           21 Savage   673320.0   \n",
       "73               Adele   672465.0   \n",
       "74      Zay Hilfigerrr   672103.0   \n",
       "75    Enrique Iglesias   666941.0   \n",
       "76            Coldplay   655597.0   \n",
       "77               gnash   653547.0   \n",
       "78           Lil Wayne   650717.0   \n",
       "79       Martin Jensen   647007.0   \n",
       "80           Rob $tone   646550.0   \n",
       "81              MC G15   640703.0   \n",
       "82          Mike Perry   621355.0   \n",
       "83             Rihanna   618514.0   \n",
       "84      Rag'n'Bone Man   615851.0   \n",
       "85    The Chainsmokers   599513.0   \n",
       "86                 Sia   597051.0   \n",
       "87        Lukas Graham   593676.0   \n",
       "88               Kungs   586302.0   \n",
       "89               Drake   580939.0   \n",
       "90           Young M.A   580826.0   \n",
       "91        Cashmere Cat   579504.0   \n",
       "92          Noah Cyrus   577810.0   \n",
       "93    Luke Christopher   570299.0   \n",
       "94          Jonas Blue   567927.0   \n",
       "95   Chance the Rapper   567639.0   \n",
       "96               Adele   565509.0   \n",
       "97          Little Mix   561342.0   \n",
       "98           21 Savage   553704.0   \n",
       "99            DJ Snake   552314.0   \n",
       "100              Ozuna   549784.0   \n",
       "\n",
       "                                                   URL       Date is_featured  \n",
       "1    https://open.spotify.com/track/5aAx2yezTd8zXrk... 2017-01-01       False  \n",
       "2    https://open.spotify.com/track/7BKLCZ1jbUBVqRi... 2017-01-01       False  \n",
       "3    https://open.spotify.com/track/4pdPtRcBmOSQDlJ... 2017-01-01       False  \n",
       "4    https://open.spotify.com/track/5knuzwU65gJK7IF... 2017-01-01        True  \n",
       "5    https://open.spotify.com/track/1xznGGDReH1oQq0... 2017-01-01       False  \n",
       "6    https://open.spotify.com/track/343YBumqHu19cGo... 2017-01-01       False  \n",
       "7    https://open.spotify.com/track/6b8Be6ljOzmkOmF... 2017-01-01       False  \n",
       "8    https://open.spotify.com/track/5MFzQMkrl1FOOng... 2017-01-01       False  \n",
       "9    https://open.spotify.com/track/6fujklziTHa8uoM... 2017-01-01       False  \n",
       "10   https://open.spotify.com/track/5GXAXm5YOmYT0kL... 2017-01-01       False  \n",
       "11   https://open.spotify.com/track/6mICuAdrwEjh6Y6... 2017-01-01        True  \n",
       "12   https://open.spotify.com/track/3NdDpSvN911VPGi... 2017-01-01       False  \n",
       "13   https://open.spotify.com/track/5uCax9HTNlzGybI... 2017-01-01       False  \n",
       "14   https://open.spotify.com/track/4Km5HrUvYTaSUfi... 2017-01-01        True  \n",
       "15   https://open.spotify.com/track/6DNtNfH8hXkqOX1... 2017-01-01        True  \n",
       "16   https://open.spotify.com/track/04DwTuZ2VBdJCCC... 2017-01-01       False  \n",
       "17   https://open.spotify.com/track/4pLwZjInHj3SimI... 2017-01-01       False  \n",
       "18   https://open.spotify.com/track/78rIJddV4X0HkNA... 2017-01-01       False  \n",
       "19   https://open.spotify.com/track/6JV2JOEocMgcZxY... 2017-01-01       False  \n",
       "20   https://open.spotify.com/track/0QsvXIfqM0zZoer... 2017-01-01       False  \n",
       "21   https://open.spotify.com/track/4Hf7WnR761jpxPr... 2017-01-01       False  \n",
       "22   https://open.spotify.com/track/3EmmCZoqpWOTY1g... 2017-01-01       False  \n",
       "23   https://open.spotify.com/track/1vvNmPOiUuyCbgW... 2017-01-01       False  \n",
       "24   https://open.spotify.com/track/1qOLh0tI7trd1zd... 2017-01-01       False  \n",
       "25   https://open.spotify.com/track/1PSBzsahR2AKwLJ... 2017-01-01        True  \n",
       "26   https://open.spotify.com/track/6i0V12jOa3mr6uu... 2017-01-01       False  \n",
       "27   https://open.spotify.com/track/27SdWb2rFzO6GWi... 2017-01-01       False  \n",
       "28   https://open.spotify.com/track/2rizacJSyD9S1IQ... 2017-01-01       False  \n",
       "29   https://open.spotify.com/track/4TZy1wLyHec06pw... 2017-01-01       False  \n",
       "30   https://open.spotify.com/track/3AEZUABDXNtecAO... 2017-01-01       False  \n",
       "..                                                 ...        ...         ...  \n",
       "71   https://open.spotify.com/track/5J1c3M4EldCfNxX... 2017-01-01       False  \n",
       "72   https://open.spotify.com/track/6fwdbPMwP1zVStm... 2017-01-01        True  \n",
       "73   https://open.spotify.com/track/4BHzQ9C00ceJxfG... 2017-01-01       False  \n",
       "74   https://open.spotify.com/track/1lItf5ZXJc1by9S... 2017-01-01       False  \n",
       "75   https://open.spotify.com/track/6YZdkObH88npeKr... 2017-01-01       False  \n",
       "76   https://open.spotify.com/track/1OAiWI2oPmglaOi... 2017-01-01       False  \n",
       "77   https://open.spotify.com/track/7vRriwrloYVaoAe... 2017-01-01        True  \n",
       "78   https://open.spotify.com/track/4dASQiO1Eoo3RJv... 2017-01-01        True  \n",
       "79   https://open.spotify.com/track/6HUnnBwYZqcED1e... 2017-01-01       False  \n",
       "80   https://open.spotify.com/track/5uDASfU19gDxSjW... 2017-01-01       False  \n",
       "81   https://open.spotify.com/track/0EPxmvsG1BY5td4... 2017-01-01       False  \n",
       "82   https://open.spotify.com/track/2CPqh63wRVscbce... 2017-01-01        True  \n",
       "83   https://open.spotify.com/track/1Tt4sE4pXi57mTD... 2017-01-01       False  \n",
       "84   https://open.spotify.com/track/58zsLZPvfflaiIb... 2017-01-01       False  \n",
       "85   https://open.spotify.com/track/0B8B8cVRFIG1yzn... 2017-01-01       False  \n",
       "86   https://open.spotify.com/track/6bLopGnirdrilrp... 2017-01-01       False  \n",
       "87   https://open.spotify.com/track/7129iqBafaphfc3... 2017-01-01       False  \n",
       "88   https://open.spotify.com/track/0tICYNayWWhH9GP... 2017-01-01       False  \n",
       "89   https://open.spotify.com/track/4ckuS4Nj4FZ7i3D... 2017-01-01       False  \n",
       "90   https://open.spotify.com/track/7JYsArznYOjX2js... 2017-01-01       False  \n",
       "91   https://open.spotify.com/track/2wDjpPW3HZdA9qu... 2017-01-01        True  \n",
       "92   https://open.spotify.com/track/2BrzlUj1u1CtvaJ... 2017-01-01       False  \n",
       "93   https://open.spotify.com/track/2HzfRSfCogBSsgW... 2017-01-01       False  \n",
       "94   https://open.spotify.com/track/6OZh916QF8XNunW... 2017-01-01       False  \n",
       "95   https://open.spotify.com/track/0v9Wz8o0BT8DU38... 2017-01-01        True  \n",
       "96   https://open.spotify.com/track/4vb4mFvYsr2h6en... 2017-01-01       False  \n",
       "97   https://open.spotify.com/track/0YHUITU3w6ws1v8... 2017-01-01       False  \n",
       "98   https://open.spotify.com/track/4gmmRb6bZJffOOi... 2017-01-01       False  \n",
       "99   https://open.spotify.com/track/4OZEu0Vwq0RB2LA... 2017-01-01       False  \n",
       "100  https://open.spotify.com/track/20ZAJdsKB5IGbGj... 2017-01-01       False  \n",
       "\n",
       "[100 rows x 7 columns]"
      ]
     },
     "execution_count": 22,
     "metadata": {},
     "output_type": "execute_result"
    }
   ],
   "source": [
    "#Looking through a few of the csv files, Spotify signifies that an artist is featuring someone when the title\n",
    "#of the song has the keywords \"feat\" or \"with\".\n",
    "\n",
    "#regex to find songs that feature another artist\n",
    "#df['is_featured'] = df['is_featured'].replace(to_replace=True, value=1, inplace=True, regex=False)\n",
    "df['is_featured'] = df['Track Name'].str.contains(r'([\\(]+feat|[\\(]+with)',regex=True)\n",
    "#df['is_featured'] = df['is_featured'].apply(lambda x: 'featured' if x == 'NaN' else 'Not Featured')\n",
    "df.head(100)\n"
   ]
  },
  {
   "cell_type": "code",
   "execution_count": 23,
   "metadata": {},
   "outputs": [
    {
     "name": "stdout",
     "output_type": "stream",
     "text": [
      "not-featured    1.100355e+06\n",
      "featured        1.165902e+06\n",
      "Name: Streams, dtype: float64\n",
      "not-featured    809467.151141\n",
      "featured        787310.052788\n",
      "Name: Streams, dtype: float64\n"
     ]
    }
   ],
   "source": [
    "#determine if a featured song generally has more streams\n",
    "is_featured_mean = df.groupby('is_featured')['Streams'].mean()\n",
    "is_featured_mean.index = ['not-featured', 'featured']\n",
    "is_featured_std = df.groupby('is_featured')['Streams'].std()\n",
    "is_featured_std.index = ['not-featured', 'featured']\n",
    "\n",
    "print (is_featured_mean)\n",
    "print (is_featured_std)"
   ]
  },
  {
   "cell_type": "code",
   "execution_count": 24,
   "metadata": {},
   "outputs": [
    {
     "data": {
      "image/png": "[encoded data removed]",
      "text/plain": [
       "<Figure size 864x432 with 2 Axes>"
      ]
     },
     "metadata": {
      "needs_background": "light"
     },
     "output_type": "display_data"
    }
   ],
   "source": [
    "#charting featured vs non-featured\n",
    "_, axes = plt.subplots(1, 2,figsize=(12,6))\n",
    "_ = sns.barplot(is_featured_mean.index, is_featured_mean,ax=axes[0])\n",
    "_ = _.set(label='# of streams', title='Mean streams for featured and non-featured songs')\n",
    "_ = sns.barplot(is_featured_std.index, is_featured_std,ax=axes[1])\n",
    "_ = _.set(label='# of streams', title='Standard deviation of streams for featured and non-featured songs')"
   ]
  },
  {
   "cell_type": "code",
   "execution_count": 53,
   "metadata": {},
   "outputs": [
    {
     "name": "stdout",
     "output_type": "stream",
     "text": [
      "1113531.4904186025\n",
      "1113531.4904186025\n",
      "1113531.4904186025\n",
      "The difference between the sample means is 65547.10255772131\n"
     ]
    }
   ],
   "source": [
    "#To determine if the means are significantly different, a bootstrap sampling of the means was performed\n",
    "\n",
    "#loading the songs into numpy arrays\n",
    "featured_songs = np.array(df['Streams'][df['is_featured']==1])\n",
    "not_featured_songs = np.array(df['Streams'][df['is_featured']==0])\n",
    "\n",
    "#calculate the difference in means\n",
    "difference_in_mean = np.mean(featured_songs) - np.mean(not_featured_songs)\n",
    "\n",
    "#compute mean stream of both samples\n",
    "mean_streams = np.mean(np.append(featured_songs, not_featured_songs))\n",
    "print (mean_streams)\n",
    "\n",
    "#adjusting the two samples to have the same mean\n",
    "featured_songs = featured_songs - np.mean(featured_songs) + mean_streams\n",
    "not_featured_songs = not_featured_songs - np.mean(not_featured_songs) + mean_streams\n",
    "\n",
    "print (np.mean(featured_songs))\n",
    "print (np.mean(not_featured_songs))\n",
    "print ('The difference between the sample means is %s' %difference_in_mean)"
   ]
  },
  {
   "cell_type": "code",
   "execution_count": 50,
   "metadata": {},
   "outputs": [],
   "source": [
    "#generate replicates for each sample\n",
    "featured_replicates = np.array([np.random.choice(featured_songs, len(not_featured_songs), replace=True).mean() for x in range(10000)])\n",
    "not_featured_replicates = np.array([np.random.choice(not_featured_songs, len(not_featured_songs), replace=True).mean() for x in range(10000)])"
   ]
  },
  {
   "cell_type": "code",
   "execution_count": 57,
   "metadata": {},
   "outputs": [
    {
     "name": "stdout",
     "output_type": "stream",
     "text": [
      "0.0\n"
     ]
    }
   ],
   "source": [
    "replicate_differences = featured_replicates - not_featured_replicates\n",
    "pvalue = np.sum(replicate_differences >= difference_in_mean) / len(replicate_differences)\n",
    "print (pvalue)"
   ]
  },
  {
   "cell_type": "markdown",
   "metadata": {},
   "source": [
    "## With a pvalue of 0, we can reject the null hypothesis that the average stream numbers between songs that feature another artist are higher than those that are not featured."
   ]
  },
  {
   "cell_type": "markdown",
   "metadata": {},
   "source": [
    "## 2) What kind of growth in stream numbers has Spotify achieved over the past two years?"
   ]
  },
  {
   "cell_type": "code",
   "execution_count": 73,
   "metadata": {},
   "outputs": [
    {
     "data": {
      "text/plain": [
       "pandas._libs.tslibs.timestamps.Timestamp"
      ]
     },
     "execution_count": 73,
     "metadata": {},
     "output_type": "execute_result"
    }
   ],
   "source": [
    "#confirming datatype\n",
    "type(df.iloc[0]['Date'])"
   ]
  },
  {
   "cell_type": "code",
   "execution_count": 87,
   "metadata": {},
   "outputs": [],
   "source": [
    "#converting timestamp object to datetime\n",
    "df['Date'] = pd.to_datetime(df['Date']).apply(lambda x: x.date())"
   ]
  },
  {
   "cell_type": "code",
   "execution_count": 89,
   "metadata": {},
   "outputs": [
    {
     "data": {
      "text/plain": [
       "datetime.date"
      ]
     },
     "execution_count": 89,
     "metadata": {},
     "output_type": "execute_result"
    }
   ],
   "source": [
    "#confirming\n",
    "type(df.iloc[0]['Date'])"
   ]
  },
  {
   "cell_type": "code",
   "execution_count": 109,
   "metadata": {},
   "outputs": [],
   "source": [
    "df2.index = pd.to_datetime(df2.index)"
   ]
  },
  {
   "cell_type": "code",
   "execution_count": 128,
   "metadata": {},
   "outputs": [
    {
     "data": {
      "image/png": "[encoded data removed]",
      "text/plain": [
       "<Figure size 864x432 with 1 Axes>"
      ]
     },
     "metadata": {},
     "output_type": "display_data"
    }
   ],
   "source": [
    "monthly_resample = df2['Streams'].resample('M').mean()\n",
    "monthly_resample.head()\n",
    "plt.figure(figsize = (12,6))\n",
    "_ = sns.lineplot(monthly_resample.index, monthly_resample).set_title('Sum of Monthly Streams over time')"
   ]
  },
  {
   "cell_type": "markdown",
   "metadata": {},
   "source": [
    "#### The above plot shows significant growth over time. \n",
    "\n",
    "\n",
    "However we can resample to a smaller timeframe to see if anything can be observed"
   ]
  },
  {
   "cell_type": "markdown",
   "metadata": {},
   "source": [
    "## 3) When do Spotify users tend to stream the most (day of week, time of year, etc.)?"
   ]
  },
  {
   "cell_type": "code",
   "execution_count": 248,
   "metadata": {},
   "outputs": [
    {
     "data": {
      "image/png": "[encoded data removed]",
      "text/plain": [
       "<Figure size 864x432 with 1 Axes>"
      ]
     },
     "metadata": {},
     "output_type": "display_data"
    }
   ],
   "source": [
    "#resampling by day of week and plotting the results\n",
    "weekly_resample = df2['Streams'].reset_index()\n",
    "weekly_resample['day_of_week'] = weekly_resample['Date'].dt.dayofweek\n",
    "weekly_resample = weekly_resample.groupby('day_of_week')['Streams'].sum().reset_index()\n",
    "day_dict = {0:'Monday',1:'Tuesday',2:'Wednesday',3:'Thursday',4:'Friday',5:'Saturday',6:'Sunday'}\n",
    "weekly_resample['day_of_week'] = weekly_resample['day_of_week'].map(day_dict)\n",
    "weekly_resample['Streams'] = weekly_resample['Streams'] / 1000000000\n",
    "\n",
    "_ = plt.figure(figsize=(12,6))\n",
    "\n",
    "_ = sns.barplot(weekly_resample['day_of_week'], weekly_resample['Streams'])\n",
    "_ =_.set(title='Number of Streams by day of week', xlabel='Day of Week', ylabel='Streams (in billions)')\n",
    "_ = plt.axhline(np.mean(weekly_resample['Streams']), 10,0,color='b',label=str(round(np.mean(weekly_resample['Streams']),2)))\n",
    "_ = plt.legend(title='mean', loc='center right', bbox_to_anchor=(1.13, 0.5))\n"
   ]
  },
  {
   "cell_type": "markdown",
   "metadata": {},
   "source": [
    "#### From the above graph, among the top 200 list of songs, we see that Friday and Saturday have the highest stream numbers with Sunday being the lowest."
   ]
  },
  {
   "cell_type": "code",
   "execution_count": 278,
   "metadata": {},
   "outputs": [],
   "source": [
    "monthly_resample = df2['Streams'].reset_index()\n",
    "mask = (monthly_resample['Date'] >= '2017-01-01') & (monthly_resample['Date'] <= '2018-12-31')\n",
    "monthly_resample = monthly_resample[mask]"
   ]
  },
  {
   "cell_type": "code",
   "execution_count": 279,
   "metadata": {},
   "outputs": [
    {
     "data": {
      "text/html": [
       "<div>\n",
       "<style scoped>\n",
       "    .dataframe tbody tr th:only-of-type {\n",
       "        vertical-align: middle;\n",
       "    }\n",
       "\n",
       "    .dataframe tbody tr th {\n",
       "        vertical-align: top;\n",
       "    }\n",
       "\n",
       "    .dataframe thead th {\n",
       "        text-align: right;\n",
       "    }\n",
       "</style>\n",
       "<table border=\"1\" class=\"dataframe\">\n",
       "  <thead>\n",
       "    <tr style=\"text-align: right;\">\n",
       "      <th></th>\n",
       "      <th>month</th>\n",
       "      <th>Streams</th>\n",
       "    </tr>\n",
       "  </thead>\n",
       "  <tbody>\n",
       "    <tr>\n",
       "      <th>0</th>\n",
       "      <td>January</td>\n",
       "      <td>12.178362</td>\n",
       "    </tr>\n",
       "    <tr>\n",
       "      <th>1</th>\n",
       "      <td>February</td>\n",
       "      <td>11.412064</td>\n",
       "    </tr>\n",
       "    <tr>\n",
       "      <th>2</th>\n",
       "      <td>March</td>\n",
       "      <td>13.889653</td>\n",
       "    </tr>\n",
       "    <tr>\n",
       "      <th>3</th>\n",
       "      <td>April</td>\n",
       "      <td>13.560857</td>\n",
       "    </tr>\n",
       "    <tr>\n",
       "      <th>4</th>\n",
       "      <td>May</td>\n",
       "      <td>13.416111</td>\n",
       "    </tr>\n",
       "  </tbody>\n",
       "</table>\n",
       "</div>"
      ],
      "text/plain": [
       "      month    Streams\n",
       "0   January  12.178362\n",
       "1  February  11.412064\n",
       "2     March  13.889653\n",
       "3     April  13.560857\n",
       "4       May  13.416111"
      ]
     },
     "execution_count": 279,
     "metadata": {},
     "output_type": "execute_result"
    }
   ],
   "source": [
    "#resampling by day of week and plotting the results\n",
    "monthly_resample['month'] = monthly_resample['Date'].dt.month\n",
    "monthly_resample['month'] = monthly_resample['Date'].dt.month\n",
    "monthly_resample = monthly_resample.groupby('month')['Streams'].sum().reset_index()\n",
    "monthly_resample['Streams'] = monthly_resample['Streams'] / 1000000000\n",
    "month_dict = {1:'January', 2:'February', 3:'March', 4:'April',5:'May',6:'June', 7:'July', 8:'August', 9:'September', 10:'October',11:'November',12:'December'}\n",
    "monthly_resample['month'] = monthly_resample['month'].map(month_dict)\n",
    "monthly_resample.head()\n"
   ]
  },
  {
   "cell_type": "code",
   "execution_count": 280,
   "metadata": {},
   "outputs": [
    {
     "data": {
      "image/png": "[encoded data removed]",
      "text/plain": [
       "<Figure size 864x432 with 1 Axes>"
      ]
     },
     "metadata": {},
     "output_type": "display_data"
    }
   ],
   "source": [
    "_ = plt.figure(figsize=(12,6))\n",
    "\n",
    "_ = sns.barplot(monthly_resample['month'], monthly_resample['Streams'])\n",
    "_ =_.set(title='Number of Streams by day of week', xlabel='Month', ylabel='Streams (in billions)')\n",
    "_ = plt.axhline(np.mean(monthly_resample['Streams']), 10,0,color='b',label=str(round(np.mean(monthly_resample['Streams']),2)))\n",
    "_ = plt.legend(title='mean', loc='center right', bbox_to_anchor=(1.13, 0.5))"
   ]
  },
  {
   "cell_type": "markdown",
   "metadata": {},
   "source": [
    "#### Splitting the data into monthly streams, we see that December is significantly higher than other months. While February is the lowest month. Given that Spotify's user demographic is largely younger, one could postulate that the dip in February could be due to school or exams. Additional data is required to confirm this hypothesis"
   ]
  },
  {
   "cell_type": "code",
   "execution_count": null,
   "metadata": {},
   "outputs": [],
   "source": []
  },
  {
   "cell_type": "code",
   "execution_count": null,
   "metadata": {},
   "outputs": [],
   "source": []
  },
  {
   "cell_type": "code",
   "execution_count": 104,
   "metadata": {},
   "outputs": [
    {
     "data": {
      "text/html": [
       "<div>\n",
       "<style scoped>\n",
       "    .dataframe tbody tr th:only-of-type {\n",
       "        vertical-align: middle;\n",
       "    }\n",
       "\n",
       "    .dataframe tbody tr th {\n",
       "        vertical-align: top;\n",
       "    }\n",
       "\n",
       "    .dataframe thead th {\n",
       "        text-align: right;\n",
       "    }\n",
       "</style>\n",
       "<table border=\"1\" class=\"dataframe\">\n",
       "  <thead>\n",
       "    <tr style=\"text-align: right;\">\n",
       "      <th></th>\n",
       "      <th>Position</th>\n",
       "      <th>Track Name</th>\n",
       "      <th>Artist</th>\n",
       "      <th>Streams</th>\n",
       "      <th>URL</th>\n",
       "      <th>is_featured</th>\n",
       "    </tr>\n",
       "    <tr>\n",
       "      <th>Date</th>\n",
       "      <th></th>\n",
       "      <th></th>\n",
       "      <th></th>\n",
       "      <th></th>\n",
       "      <th></th>\n",
       "      <th></th>\n",
       "    </tr>\n",
       "  </thead>\n",
       "  <tbody>\n",
       "    <tr>\n",
       "      <th>2017-01-01</th>\n",
       "      <td>1</td>\n",
       "      <td>Starboy</td>\n",
       "      <td>The Weeknd</td>\n",
       "      <td>3135625.0</td>\n",
       "      <td>https://open.spotify.com/track/5aAx2yezTd8zXrk...</td>\n",
       "      <td>False</td>\n",
       "    </tr>\n",
       "    <tr>\n",
       "      <th>2017-01-01</th>\n",
       "      <td>2</td>\n",
       "      <td>Closer</td>\n",
       "      <td>The Chainsmokers</td>\n",
       "      <td>3015525.0</td>\n",
       "      <td>https://open.spotify.com/track/7BKLCZ1jbUBVqRi...</td>\n",
       "      <td>False</td>\n",
       "    </tr>\n",
       "    <tr>\n",
       "      <th>2017-01-01</th>\n",
       "      <td>3</td>\n",
       "      <td>Let Me Love You</td>\n",
       "      <td>DJ Snake</td>\n",
       "      <td>2545384.0</td>\n",
       "      <td>https://open.spotify.com/track/4pdPtRcBmOSQDlJ...</td>\n",
       "      <td>False</td>\n",
       "    </tr>\n",
       "    <tr>\n",
       "      <th>2017-01-01</th>\n",
       "      <td>4</td>\n",
       "      <td>Rockabye (feat. Sean Paul &amp; Anne-Marie)</td>\n",
       "      <td>Clean Bandit</td>\n",
       "      <td>2356604.0</td>\n",
       "      <td>https://open.spotify.com/track/5knuzwU65gJK7IF...</td>\n",
       "      <td>True</td>\n",
       "    </tr>\n",
       "    <tr>\n",
       "      <th>2017-01-01</th>\n",
       "      <td>5</td>\n",
       "      <td>One Dance</td>\n",
       "      <td>Drake</td>\n",
       "      <td>2259887.0</td>\n",
       "      <td>https://open.spotify.com/track/1xznGGDReH1oQq0...</td>\n",
       "      <td>False</td>\n",
       "    </tr>\n",
       "  </tbody>\n",
       "</table>\n",
       "</div>"
      ],
      "text/plain": [
       "           Position                               Track Name  \\\n",
       "Date                                                           \n",
       "2017-01-01        1                                  Starboy   \n",
       "2017-01-01        2                                   Closer   \n",
       "2017-01-01        3                          Let Me Love You   \n",
       "2017-01-01        4  Rockabye (feat. Sean Paul & Anne-Marie)   \n",
       "2017-01-01        5                                One Dance   \n",
       "\n",
       "                      Artist    Streams  \\\n",
       "Date                                      \n",
       "2017-01-01        The Weeknd  3135625.0   \n",
       "2017-01-01  The Chainsmokers  3015525.0   \n",
       "2017-01-01          DJ Snake  2545384.0   \n",
       "2017-01-01      Clean Bandit  2356604.0   \n",
       "2017-01-01             Drake  2259887.0   \n",
       "\n",
       "                                                          URL is_featured  \n",
       "Date                                                                       \n",
       "2017-01-01  https://open.spotify.com/track/5aAx2yezTd8zXrk...       False  \n",
       "2017-01-01  https://open.spotify.com/track/7BKLCZ1jbUBVqRi...       False  \n",
       "2017-01-01  https://open.spotify.com/track/4pdPtRcBmOSQDlJ...       False  \n",
       "2017-01-01  https://open.spotify.com/track/5knuzwU65gJK7IF...        True  \n",
       "2017-01-01  https://open.spotify.com/track/1xznGGDReH1oQq0...       False  "
      ]
     },
     "execution_count": 104,
     "metadata": {},
     "output_type": "execute_result"
    }
   ],
   "source": [
    "df2.head()"
   ]
  },
  {
   "cell_type": "code",
   "execution_count": null,
   "metadata": {},
   "outputs": [],
   "source": []
  },
  {
   "cell_type": "code",
   "execution_count": null,
   "metadata": {},
   "outputs": [],
   "source": []
  },
  {
   "cell_type": "code",
   "execution_count": 1,
   "metadata": {},
   "outputs": [
    {
     "ename": "NameError",
     "evalue": "name 'df' is not defined",
     "output_type": "error",
     "traceback": [
      "\u001b[1;31m---------------------------------------------------------------------------\u001b[0m",
      "\u001b[1;31mNameError\u001b[0m                                 Traceback (most recent call last)",
      "\u001b[1;32m<ipython-input-1-956491b8ba91>\u001b[0m in \u001b[0;36m<module>\u001b[1;34m\u001b[0m\n\u001b[1;32m----> 1\u001b[1;33m \u001b[0mtop_artists\u001b[0m \u001b[1;33m=\u001b[0m \u001b[0mdf\u001b[0m\u001b[1;33m.\u001b[0m\u001b[0mgroupby\u001b[0m\u001b[1;33m(\u001b[0m\u001b[1;34m'Artist'\u001b[0m\u001b[1;33m)\u001b[0m\u001b[1;33m[\u001b[0m\u001b[1;34m'Streams'\u001b[0m\u001b[1;33m]\u001b[0m\u001b[1;33m.\u001b[0m\u001b[0msum\u001b[0m\u001b[1;33m(\u001b[0m\u001b[1;33m)\u001b[0m\u001b[1;33m.\u001b[0m\u001b[0mreset_index\u001b[0m\u001b[1;33m(\u001b[0m\u001b[1;33m)\u001b[0m\u001b[1;33m\u001b[0m\u001b[1;33m\u001b[0m\u001b[0m\n\u001b[0m\u001b[0;32m      2\u001b[0m \u001b[0mtop_artists\u001b[0m \u001b[1;33m=\u001b[0m \u001b[0mtop_artists\u001b[0m\u001b[1;33m.\u001b[0m\u001b[0msort_values\u001b[0m\u001b[1;33m(\u001b[0m\u001b[1;34m'Streams'\u001b[0m\u001b[1;33m,\u001b[0m \u001b[0mascending\u001b[0m\u001b[1;33m=\u001b[0m\u001b[1;32mFalse\u001b[0m\u001b[1;33m)\u001b[0m\u001b[1;33m\u001b[0m\u001b[1;33m\u001b[0m\u001b[0m\n",
      "\u001b[1;31mNameError\u001b[0m: name 'df' is not defined"
     ]
    }
   ],
   "source": [
    "top_artists = df.groupby('Artist')['Streams'].sum().reset_index()\n",
    "top_artists = top_artists.sort_values('Streams', ascending=False)"
   ]
  },
  {
   "cell_type": "code",
   "execution_count": null,
   "metadata": {},
   "outputs": [],
   "source": [
    "print (top_artists.head())"
   ]
  },
  {
   "cell_type": "code",
   "execution_count": null,
   "metadata": {},
   "outputs": [],
   "source": [
    "top_song = df.groupby(['Track Name','Artist']).sum().sort_values('Streams', ascending=False)"
   ]
  },
  {
   "cell_type": "code",
   "execution_count": null,
   "metadata": {},
   "outputs": [],
   "source": [
    "top_song.head()"
   ]
  },
  {
   "cell_type": "code",
   "execution_count": null,
   "metadata": {},
   "outputs": [],
   "source": []
  },
  {
   "cell_type": "code",
   "execution_count": null,
   "metadata": {},
   "outputs": [],
   "source": []
  },
  {
   "cell_type": "code",
   "execution_count": null,
   "metadata": {},
   "outputs": [],
   "source": [
    "#df = df.set_index('Date')"
   ]
  },
  {
   "cell_type": "code",
   "execution_count": null,
   "metadata": {},
   "outputs": [],
   "source": [
    "df.head()"
   ]
  },
  {
   "cell_type": "code",
   "execution_count": null,
   "metadata": {},
   "outputs": [],
   "source": [
    "df.head()"
   ]
  },
  {
   "cell_type": "code",
   "execution_count": null,
   "metadata": {},
   "outputs": [],
   "source": [
    "streams_over_time = df.groupby('Date').sum()\n",
    "streams_over_time_month = streams_over_time.resample('m').sum()"
   ]
  },
  {
   "cell_type": "code",
   "execution_count": null,
   "metadata": {},
   "outputs": [],
   "source": [
    "print (streams_over_time_month)"
   ]
  },
  {
   "cell_type": "code",
   "execution_count": null,
   "metadata": {},
   "outputs": [],
   "source": [
    "pd.plotting.register_matplotlib_converters()\n",
    "%matplotlib inline\n",
    "_ = plt.figure(figsize=(15,8))\n",
    "_ = plt.plot(df['Date'], df['Streams'])\n",
    "plt.show()"
   ]
  },
  {
   "cell_type": "code",
   "execution_count": null,
   "metadata": {},
   "outputs": [],
   "source": [
    "streams_over_time_month.index"
   ]
  },
  {
   "cell_type": "code",
   "execution_count": null,
   "metadata": {},
   "outputs": [],
   "source": [
    "%matplotlib inline\n",
    "fig = plt.figure()\n",
    "fig.set_size_inches(15, 8, forward=True)\n",
    "_ = plt.plot(streams_over_time_month.index, streams_over_time_month['Streams'])\n",
    "_ = plt.xlabel('Date')\n",
    "_ = plt.ylabel('# of Top 200 Streams')\n",
    "plt.show()"
   ]
  },
  {
   "cell_type": "code",
   "execution_count": null,
   "metadata": {},
   "outputs": [],
   "source": [
    "top_one = df[df['Position'] == '1']\n",
    "top_one.head()"
   ]
  },
  {
   "cell_type": "code",
   "execution_count": null,
   "metadata": {},
   "outputs": [],
   "source": [
    "from sklearn import linear_model\n",
    "\n",
    "%matplotlib inline\n",
    "fig = plt.figure()\n",
    "fig.set_size_inches(15, 8, forward=True)\n",
    "_ = plt.plot(top_one.Date, top_one['Streams'])\n",
    "_ = plt.xlabel('Date')\n",
    "_ = plt.ylabel('# of Top 200 Streams')\n",
    "\n",
    "reg = linear_model.LinearRegression()\n",
    "reg.fit(top_one['Streams'], top_one.Date)\n",
    "\n",
    "plt.show()"
   ]
  },
  {
   "cell_type": "code",
   "execution_count": null,
   "metadata": {},
   "outputs": [],
   "source": [
    "df"
   ]
  },
  {
   "cell_type": "code",
   "execution_count": null,
   "metadata": {},
   "outputs": [],
   "source": []
  }
 ],
 "metadata": {
  "kernelspec": {
   "display_name": "Python 3",
   "language": "python",
   "name": "python3"
  },
  "language_info": {
   "codemirror_mode": {
    "name": "ipython",
    "version": 3
   },
   "file_extension": ".py",
   "mimetype": "text/x-python",
   "name": "python",
   "nbconvert_exporter": "python",
   "pygments_lexer": "ipython3",
   "version": "3.7.3"
  }
 },
 "nbformat": 4,
 "nbformat_minor": 2
}
