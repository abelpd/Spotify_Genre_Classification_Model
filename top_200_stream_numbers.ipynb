{
 "cells": [
  {
   "cell_type": "code",
   "execution_count": 1,
   "metadata": {},
   "outputs": [],
   "source": [
    "import pandas as pd\n",
    "import numpy as np\n",
    "import os\n",
    "import matplotlib.pyplot as plt\n",
    "import seaborn as sns\n",
    "import re\n",
    "\n",
    "sns.set()"
   ]
  },
  {
   "cell_type": "code",
   "execution_count": 2,
   "metadata": {},
   "outputs": [
    {
     "data": {
      "text/plain": [
       "'C:\\\\Users\\\\abels\\\\Desktop\\\\spotify_scrape'"
      ]
     },
     "execution_count": 2,
     "metadata": {},
     "output_type": "execute_result"
    }
   ],
   "source": [
    "os.getcwd()"
   ]
  },
  {
   "cell_type": "code",
   "execution_count": 3,
   "metadata": {},
   "outputs": [
    {
     "data": {
      "text/plain": [
       "['.git',\n",
       " '.gitignore',\n",
       " '.ipynb_checkpoints',\n",
       " 'API_KEYS.txt',\n",
       " 'Capstone1_Analysis_of_top_200_Spotify.pdf',\n",
       " 'Data',\n",
       " 'README.md',\n",
       " 'song_analysis_graphs.ipynb',\n",
       " 'Song_Progression_Analysis.ipynb',\n",
       " 'top_200_stream_numbers.ipynb',\n",
       " '__pycache__']"
      ]
     },
     "execution_count": 3,
     "metadata": {},
     "output_type": "execute_result"
    }
   ],
   "source": [
    "os.listdir()"
   ]
  },
  {
   "cell_type": "code",
   "execution_count": 4,
   "metadata": {},
   "outputs": [],
   "source": [
    "csv_path = os.getcwd() + '\\\\Data\\\\Top_200_Spotify_Data\\\\'"
   ]
  },
  {
   "cell_type": "code",
   "execution_count": 5,
   "metadata": {},
   "outputs": [],
   "source": [
    "def csv_amalgimation(filename):\n",
    "    csv_df = pd.read_csv(filename, encoding=\"latin1\", parse_dates=[5])\n",
    "    columns = ['Position', 'Track Name', 'Artist', 'Streams', 'URL', 'Date']\n",
    "    csv_df.columns = columns\n",
    "    return csv_df"
   ]
  },
  {
   "cell_type": "code",
   "execution_count": 6,
   "metadata": {},
   "outputs": [],
   "source": [
    "csv_list = []\n",
    "for subdir, dirs, files in os.walk(csv_path):\n",
    "    for file in files:\n",
    "        csv_list.append(os.path.join(subdir, file))"
   ]
  },
  {
   "cell_type": "code",
   "execution_count": 7,
   "metadata": {},
   "outputs": [],
   "source": [
    "dfs_to_append = []\n",
    "error_csvs = []\n",
    "for csv in csv_list:\n",
    "    try:\n",
    "        dfs_to_append.append(csv_amalgimation(csv))\n",
    "    except:\n",
    "        error_csvs.append(csv)\n",
    "        pass"
   ]
  },
  {
   "cell_type": "code",
   "execution_count": 8,
   "metadata": {},
   "outputs": [],
   "source": [
    "df = pd.DataFrame()\n",
    "df = df.append(dfs_to_append, ignore_index=True)"
   ]
  },
  {
   "cell_type": "code",
   "execution_count": 9,
   "metadata": {},
   "outputs": [],
   "source": [
    "#C:\\Users\\abels\\Desktop\\spotify_scrape\\Data\\csv_files\\\n",
    "df.to_csv(os.getcwd() + '\\\\Data\\\\final_csv_files\\\\Combined_Top_200_Stream_Numbers.csv')"
   ]
  },
  {
   "cell_type": "code",
   "execution_count": 10,
   "metadata": {},
   "outputs": [
    {
     "name": "stdout",
     "output_type": "stream",
     "text": [
      "(170046, 6)\n"
     ]
    },
    {
     "data": {
      "text/html": [
       "<div>\n",
       "<style scoped>\n",
       "    .dataframe tbody tr th:only-of-type {\n",
       "        vertical-align: middle;\n",
       "    }\n",
       "\n",
       "    .dataframe tbody tr th {\n",
       "        vertical-align: top;\n",
       "    }\n",
       "\n",
       "    .dataframe thead th {\n",
       "        text-align: right;\n",
       "    }\n",
       "</style>\n",
       "<table border=\"1\" class=\"dataframe\">\n",
       "  <thead>\n",
       "    <tr style=\"text-align: right;\">\n",
       "      <th></th>\n",
       "      <th>Position</th>\n",
       "      <th>Track Name</th>\n",
       "      <th>Artist</th>\n",
       "      <th>Streams</th>\n",
       "      <th>URL</th>\n",
       "      <th>Date</th>\n",
       "    </tr>\n",
       "  </thead>\n",
       "  <tbody>\n",
       "    <tr>\n",
       "      <th>0</th>\n",
       "      <td>Position</td>\n",
       "      <td>Track Name</td>\n",
       "      <td>Artist</td>\n",
       "      <td>Streams</td>\n",
       "      <td>URL</td>\n",
       "      <td>2017-01-01</td>\n",
       "    </tr>\n",
       "    <tr>\n",
       "      <th>1</th>\n",
       "      <td>1</td>\n",
       "      <td>Starboy</td>\n",
       "      <td>The Weeknd</td>\n",
       "      <td>3135625</td>\n",
       "      <td>https://open.spotify.com/track/5aAx2yezTd8zXrk...</td>\n",
       "      <td>2017-01-01</td>\n",
       "    </tr>\n",
       "    <tr>\n",
       "      <th>2</th>\n",
       "      <td>2</td>\n",
       "      <td>Closer</td>\n",
       "      <td>The Chainsmokers</td>\n",
       "      <td>3015525</td>\n",
       "      <td>https://open.spotify.com/track/7BKLCZ1jbUBVqRi...</td>\n",
       "      <td>2017-01-01</td>\n",
       "    </tr>\n",
       "    <tr>\n",
       "      <th>3</th>\n",
       "      <td>3</td>\n",
       "      <td>Let Me Love You</td>\n",
       "      <td>DJ Snake</td>\n",
       "      <td>2545384</td>\n",
       "      <td>https://open.spotify.com/track/4pdPtRcBmOSQDlJ...</td>\n",
       "      <td>2017-01-01</td>\n",
       "    </tr>\n",
       "    <tr>\n",
       "      <th>4</th>\n",
       "      <td>4</td>\n",
       "      <td>Rockabye (feat. Sean Paul &amp; Anne-Marie)</td>\n",
       "      <td>Clean Bandit</td>\n",
       "      <td>2356604</td>\n",
       "      <td>https://open.spotify.com/track/5knuzwU65gJK7IF...</td>\n",
       "      <td>2017-01-01</td>\n",
       "    </tr>\n",
       "  </tbody>\n",
       "</table>\n",
       "</div>"
      ],
      "text/plain": [
       "   Position                               Track Name            Artist  \\\n",
       "0  Position                               Track Name            Artist   \n",
       "1         1                                  Starboy        The Weeknd   \n",
       "2         2                                   Closer  The Chainsmokers   \n",
       "3         3                          Let Me Love You          DJ Snake   \n",
       "4         4  Rockabye (feat. Sean Paul & Anne-Marie)      Clean Bandit   \n",
       "\n",
       "   Streams                                                URL       Date  \n",
       "0  Streams                                                URL 2017-01-01  \n",
       "1  3135625  https://open.spotify.com/track/5aAx2yezTd8zXrk... 2017-01-01  \n",
       "2  3015525  https://open.spotify.com/track/7BKLCZ1jbUBVqRi... 2017-01-01  \n",
       "3  2545384  https://open.spotify.com/track/4pdPtRcBmOSQDlJ... 2017-01-01  \n",
       "4  2356604  https://open.spotify.com/track/5knuzwU65gJK7IF... 2017-01-01  "
      ]
     },
     "execution_count": 10,
     "metadata": {},
     "output_type": "execute_result"
    }
   ],
   "source": [
    "print (df.shape)\n",
    "df.head()"
   ]
  },
  {
   "cell_type": "code",
   "execution_count": 11,
   "metadata": {},
   "outputs": [],
   "source": [
    "df['Streams'] = pd.to_numeric(df['Streams'], errors='coerce')"
   ]
  },
  {
   "cell_type": "code",
   "execution_count": 12,
   "metadata": {},
   "outputs": [
    {
     "data": {
      "text/plain": [
       "dtype('float64')"
      ]
     },
     "execution_count": 12,
     "metadata": {},
     "output_type": "execute_result"
    }
   ],
   "source": [
    "df['Streams'].dtype"
   ]
  },
  {
   "cell_type": "code",
   "execution_count": 13,
   "metadata": {},
   "outputs": [
    {
     "data": {
      "text/plain": [
       "0          NaN\n",
       "1    3135625.0\n",
       "2    3015525.0\n",
       "3    2545384.0\n",
       "4    2356604.0\n",
       "Name: Streams, dtype: float64"
      ]
     },
     "execution_count": 13,
     "metadata": {},
     "output_type": "execute_result"
    }
   ],
   "source": [
    "df['Streams'].head()"
   ]
  },
  {
   "cell_type": "code",
   "execution_count": 14,
   "metadata": {},
   "outputs": [],
   "source": [
    "mask = (~np.isnan(df['Streams']))"
   ]
  },
  {
   "cell_type": "code",
   "execution_count": 15,
   "metadata": {},
   "outputs": [
    {
     "data": {
      "text/plain": [
       "(170046,)"
      ]
     },
     "execution_count": 15,
     "metadata": {},
     "output_type": "execute_result"
    }
   ],
   "source": [
    "mask.shape"
   ]
  },
  {
   "cell_type": "code",
   "execution_count": 16,
   "metadata": {},
   "outputs": [
    {
     "data": {
      "text/plain": [
       "0    False\n",
       "1     True\n",
       "2     True\n",
       "3     True\n",
       "4     True\n",
       "Name: Streams, dtype: bool"
      ]
     },
     "execution_count": 16,
     "metadata": {},
     "output_type": "execute_result"
    }
   ],
   "source": [
    "mask.head()"
   ]
  },
  {
   "cell_type": "code",
   "execution_count": 17,
   "metadata": {},
   "outputs": [
    {
     "data": {
      "text/plain": [
       "(170046, 6)"
      ]
     },
     "execution_count": 17,
     "metadata": {},
     "output_type": "execute_result"
    }
   ],
   "source": [
    "df.shape"
   ]
  },
  {
   "cell_type": "code",
   "execution_count": 18,
   "metadata": {},
   "outputs": [],
   "source": [
    "df = df[mask]"
   ]
  },
  {
   "cell_type": "code",
   "execution_count": 19,
   "metadata": {},
   "outputs": [
    {
     "data": {
      "text/plain": [
       "(169200, 6)"
      ]
     },
     "execution_count": 19,
     "metadata": {},
     "output_type": "execute_result"
    }
   ],
   "source": [
    "df.shape"
   ]
  },
  {
   "cell_type": "code",
   "execution_count": 20,
   "metadata": {},
   "outputs": [
    {
     "data": {
      "text/html": [
       "<div>\n",
       "<style scoped>\n",
       "    .dataframe tbody tr th:only-of-type {\n",
       "        vertical-align: middle;\n",
       "    }\n",
       "\n",
       "    .dataframe tbody tr th {\n",
       "        vertical-align: top;\n",
       "    }\n",
       "\n",
       "    .dataframe thead th {\n",
       "        text-align: right;\n",
       "    }\n",
       "</style>\n",
       "<table border=\"1\" class=\"dataframe\">\n",
       "  <thead>\n",
       "    <tr style=\"text-align: right;\">\n",
       "      <th></th>\n",
       "      <th>Position</th>\n",
       "      <th>Track Name</th>\n",
       "      <th>Artist</th>\n",
       "      <th>Streams</th>\n",
       "      <th>URL</th>\n",
       "      <th>Date</th>\n",
       "    </tr>\n",
       "  </thead>\n",
       "  <tbody>\n",
       "    <tr>\n",
       "      <th>1</th>\n",
       "      <td>1</td>\n",
       "      <td>Starboy</td>\n",
       "      <td>The Weeknd</td>\n",
       "      <td>3135625.0</td>\n",
       "      <td>https://open.spotify.com/track/5aAx2yezTd8zXrk...</td>\n",
       "      <td>2017-01-01</td>\n",
       "    </tr>\n",
       "    <tr>\n",
       "      <th>2</th>\n",
       "      <td>2</td>\n",
       "      <td>Closer</td>\n",
       "      <td>The Chainsmokers</td>\n",
       "      <td>3015525.0</td>\n",
       "      <td>https://open.spotify.com/track/7BKLCZ1jbUBVqRi...</td>\n",
       "      <td>2017-01-01</td>\n",
       "    </tr>\n",
       "    <tr>\n",
       "      <th>3</th>\n",
       "      <td>3</td>\n",
       "      <td>Let Me Love You</td>\n",
       "      <td>DJ Snake</td>\n",
       "      <td>2545384.0</td>\n",
       "      <td>https://open.spotify.com/track/4pdPtRcBmOSQDlJ...</td>\n",
       "      <td>2017-01-01</td>\n",
       "    </tr>\n",
       "    <tr>\n",
       "      <th>4</th>\n",
       "      <td>4</td>\n",
       "      <td>Rockabye (feat. Sean Paul &amp; Anne-Marie)</td>\n",
       "      <td>Clean Bandit</td>\n",
       "      <td>2356604.0</td>\n",
       "      <td>https://open.spotify.com/track/5knuzwU65gJK7IF...</td>\n",
       "      <td>2017-01-01</td>\n",
       "    </tr>\n",
       "    <tr>\n",
       "      <th>5</th>\n",
       "      <td>5</td>\n",
       "      <td>One Dance</td>\n",
       "      <td>Drake</td>\n",
       "      <td>2259887.0</td>\n",
       "      <td>https://open.spotify.com/track/1xznGGDReH1oQq0...</td>\n",
       "      <td>2017-01-01</td>\n",
       "    </tr>\n",
       "  </tbody>\n",
       "</table>\n",
       "</div>"
      ],
      "text/plain": [
       "  Position                               Track Name            Artist  \\\n",
       "1        1                                  Starboy        The Weeknd   \n",
       "2        2                                   Closer  The Chainsmokers   \n",
       "3        3                          Let Me Love You          DJ Snake   \n",
       "4        4  Rockabye (feat. Sean Paul & Anne-Marie)      Clean Bandit   \n",
       "5        5                                One Dance             Drake   \n",
       "\n",
       "     Streams                                                URL       Date  \n",
       "1  3135625.0  https://open.spotify.com/track/5aAx2yezTd8zXrk... 2017-01-01  \n",
       "2  3015525.0  https://open.spotify.com/track/7BKLCZ1jbUBVqRi... 2017-01-01  \n",
       "3  2545384.0  https://open.spotify.com/track/4pdPtRcBmOSQDlJ... 2017-01-01  \n",
       "4  2356604.0  https://open.spotify.com/track/5knuzwU65gJK7IF... 2017-01-01  \n",
       "5  2259887.0  https://open.spotify.com/track/1xznGGDReH1oQq0... 2017-01-01  "
      ]
     },
     "execution_count": 20,
     "metadata": {},
     "output_type": "execute_result"
    }
   ],
   "source": [
    "df.head()"
   ]
  },
  {
   "cell_type": "code",
   "execution_count": 39,
   "metadata": {},
   "outputs": [
    {
     "name": "stderr",
     "output_type": "stream",
     "text": [
      "C:\\Users\\abels\\Anaconda3\\lib\\site-packages\\ipykernel_launcher.py:2: UserWarning: This pattern has match groups. To actually get the groups, use str.extract.\n",
      "  \n"
     ]
    }
   ],
   "source": [
    "#pandas.Series.str.contains\n"
   ]
  },
  {
   "cell_type": "code",
   "execution_count": 57,
   "metadata": {},
   "outputs": [
    {
     "name": "stderr",
     "output_type": "stream",
     "text": [
      "C:\\Users\\abels\\Anaconda3\\lib\\site-packages\\ipykernel_launcher.py:1: UserWarning: This pattern has match groups. To actually get the groups, use str.extract.\n",
      "  \"\"\"Entry point for launching an IPython kernel.\n"
     ]
    },
    {
     "data": {
      "text/html": [
       "<div>\n",
       "<style scoped>\n",
       "    .dataframe tbody tr th:only-of-type {\n",
       "        vertical-align: middle;\n",
       "    }\n",
       "\n",
       "    .dataframe tbody tr th {\n",
       "        vertical-align: top;\n",
       "    }\n",
       "\n",
       "    .dataframe thead th {\n",
       "        text-align: right;\n",
       "    }\n",
       "</style>\n",
       "<table border=\"1\" class=\"dataframe\">\n",
       "  <thead>\n",
       "    <tr style=\"text-align: right;\">\n",
       "      <th></th>\n",
       "      <th>Position</th>\n",
       "      <th>Track Name</th>\n",
       "      <th>Artist</th>\n",
       "      <th>Streams</th>\n",
       "      <th>URL</th>\n",
       "      <th>Date</th>\n",
       "      <th>is_featuring</th>\n",
       "      <th>is_featured</th>\n",
       "    </tr>\n",
       "  </thead>\n",
       "  <tbody>\n",
       "    <tr>\n",
       "      <th>1</th>\n",
       "      <td>1</td>\n",
       "      <td>Starboy</td>\n",
       "      <td>The Weeknd</td>\n",
       "      <td>3135625.0</td>\n",
       "      <td>https://open.spotify.com/track/5aAx2yezTd8zXrk...</td>\n",
       "      <td>2017-01-01</td>\n",
       "      <td>Starboy</td>\n",
       "      <td>False</td>\n",
       "    </tr>\n",
       "    <tr>\n",
       "      <th>2</th>\n",
       "      <td>2</td>\n",
       "      <td>Closer</td>\n",
       "      <td>The Chainsmokers</td>\n",
       "      <td>3015525.0</td>\n",
       "      <td>https://open.spotify.com/track/7BKLCZ1jbUBVqRi...</td>\n",
       "      <td>2017-01-01</td>\n",
       "      <td>Closer</td>\n",
       "      <td>False</td>\n",
       "    </tr>\n",
       "    <tr>\n",
       "      <th>3</th>\n",
       "      <td>3</td>\n",
       "      <td>Let Me Love You</td>\n",
       "      <td>DJ Snake</td>\n",
       "      <td>2545384.0</td>\n",
       "      <td>https://open.spotify.com/track/4pdPtRcBmOSQDlJ...</td>\n",
       "      <td>2017-01-01</td>\n",
       "      <td>Let Me Love You</td>\n",
       "      <td>False</td>\n",
       "    </tr>\n",
       "    <tr>\n",
       "      <th>4</th>\n",
       "      <td>4</td>\n",
       "      <td>Rockabye (feat. Sean Paul &amp; Anne-Marie)</td>\n",
       "      <td>Clean Bandit</td>\n",
       "      <td>2356604.0</td>\n",
       "      <td>https://open.spotify.com/track/5knuzwU65gJK7IF...</td>\n",
       "      <td>2017-01-01</td>\n",
       "      <td>Rockabye . Sean Paul &amp; Anne-Marie)</td>\n",
       "      <td>True</td>\n",
       "    </tr>\n",
       "    <tr>\n",
       "      <th>5</th>\n",
       "      <td>5</td>\n",
       "      <td>One Dance</td>\n",
       "      <td>Drake</td>\n",
       "      <td>2259887.0</td>\n",
       "      <td>https://open.spotify.com/track/1xznGGDReH1oQq0...</td>\n",
       "      <td>2017-01-01</td>\n",
       "      <td>One Dance</td>\n",
       "      <td>False</td>\n",
       "    </tr>\n",
       "  </tbody>\n",
       "</table>\n",
       "</div>"
      ],
      "text/plain": [
       "  Position                               Track Name            Artist  \\\n",
       "1        1                                  Starboy        The Weeknd   \n",
       "2        2                                   Closer  The Chainsmokers   \n",
       "3        3                          Let Me Love You          DJ Snake   \n",
       "4        4  Rockabye (feat. Sean Paul & Anne-Marie)      Clean Bandit   \n",
       "5        5                                One Dance             Drake   \n",
       "\n",
       "     Streams                                                URL       Date  \\\n",
       "1  3135625.0  https://open.spotify.com/track/5aAx2yezTd8zXrk... 2017-01-01   \n",
       "2  3015525.0  https://open.spotify.com/track/7BKLCZ1jbUBVqRi... 2017-01-01   \n",
       "3  2545384.0  https://open.spotify.com/track/4pdPtRcBmOSQDlJ... 2017-01-01   \n",
       "4  2356604.0  https://open.spotify.com/track/5knuzwU65gJK7IF... 2017-01-01   \n",
       "5  2259887.0  https://open.spotify.com/track/1xznGGDReH1oQq0... 2017-01-01   \n",
       "\n",
       "                         is_featuring is_featured  \n",
       "1                             Starboy       False  \n",
       "2                              Closer       False  \n",
       "3                     Let Me Love You       False  \n",
       "4  Rockabye . Sean Paul & Anne-Marie)        True  \n",
       "5                           One Dance       False  "
      ]
     },
     "execution_count": 57,
     "metadata": {},
     "output_type": "execute_result"
    }
   ],
   "source": []
  },
  {
   "cell_type": "code",
   "execution_count": 65,
   "metadata": {},
   "outputs": [
    {
     "name": "stderr",
     "output_type": "stream",
     "text": [
      "C:\\Users\\abels\\Anaconda3\\lib\\site-packages\\ipykernel_launcher.py:6: UserWarning: This pattern has match groups. To actually get the groups, use str.extract.\n",
      "  \n"
     ]
    },
    {
     "data": {
      "text/html": [
       "<div>\n",
       "<style scoped>\n",
       "    .dataframe tbody tr th:only-of-type {\n",
       "        vertical-align: middle;\n",
       "    }\n",
       "\n",
       "    .dataframe tbody tr th {\n",
       "        vertical-align: top;\n",
       "    }\n",
       "\n",
       "    .dataframe thead th {\n",
       "        text-align: right;\n",
       "    }\n",
       "</style>\n",
       "<table border=\"1\" class=\"dataframe\">\n",
       "  <thead>\n",
       "    <tr style=\"text-align: right;\">\n",
       "      <th></th>\n",
       "      <th>Position</th>\n",
       "      <th>Track Name</th>\n",
       "      <th>Artist</th>\n",
       "      <th>Streams</th>\n",
       "      <th>URL</th>\n",
       "      <th>Date</th>\n",
       "      <th>is_featuring</th>\n",
       "      <th>is_featured</th>\n",
       "    </tr>\n",
       "  </thead>\n",
       "  <tbody>\n",
       "    <tr>\n",
       "      <th>1</th>\n",
       "      <td>1</td>\n",
       "      <td>Starboy</td>\n",
       "      <td>The Weeknd</td>\n",
       "      <td>3135625.0</td>\n",
       "      <td>https://open.spotify.com/track/5aAx2yezTd8zXrk...</td>\n",
       "      <td>2017-01-01</td>\n",
       "      <td>Starboy</td>\n",
       "      <td>0</td>\n",
       "    </tr>\n",
       "    <tr>\n",
       "      <th>2</th>\n",
       "      <td>2</td>\n",
       "      <td>Closer</td>\n",
       "      <td>The Chainsmokers</td>\n",
       "      <td>3015525.0</td>\n",
       "      <td>https://open.spotify.com/track/7BKLCZ1jbUBVqRi...</td>\n",
       "      <td>2017-01-01</td>\n",
       "      <td>Closer</td>\n",
       "      <td>0</td>\n",
       "    </tr>\n",
       "    <tr>\n",
       "      <th>3</th>\n",
       "      <td>3</td>\n",
       "      <td>Let Me Love You</td>\n",
       "      <td>DJ Snake</td>\n",
       "      <td>2545384.0</td>\n",
       "      <td>https://open.spotify.com/track/4pdPtRcBmOSQDlJ...</td>\n",
       "      <td>2017-01-01</td>\n",
       "      <td>Let Me Love You</td>\n",
       "      <td>0</td>\n",
       "    </tr>\n",
       "    <tr>\n",
       "      <th>4</th>\n",
       "      <td>4</td>\n",
       "      <td>Rockabye (feat. Sean Paul &amp; Anne-Marie)</td>\n",
       "      <td>Clean Bandit</td>\n",
       "      <td>2356604.0</td>\n",
       "      <td>https://open.spotify.com/track/5knuzwU65gJK7IF...</td>\n",
       "      <td>2017-01-01</td>\n",
       "      <td>Rockabye . Sean Paul &amp; Anne-Marie)</td>\n",
       "      <td>1</td>\n",
       "    </tr>\n",
       "    <tr>\n",
       "      <th>5</th>\n",
       "      <td>5</td>\n",
       "      <td>One Dance</td>\n",
       "      <td>Drake</td>\n",
       "      <td>2259887.0</td>\n",
       "      <td>https://open.spotify.com/track/1xznGGDReH1oQq0...</td>\n",
       "      <td>2017-01-01</td>\n",
       "      <td>One Dance</td>\n",
       "      <td>0</td>\n",
       "    </tr>\n",
       "  </tbody>\n",
       "</table>\n",
       "</div>"
      ],
      "text/plain": [
       "  Position                               Track Name            Artist  \\\n",
       "1        1                                  Starboy        The Weeknd   \n",
       "2        2                                   Closer  The Chainsmokers   \n",
       "3        3                          Let Me Love You          DJ Snake   \n",
       "4        4  Rockabye (feat. Sean Paul & Anne-Marie)      Clean Bandit   \n",
       "5        5                                One Dance             Drake   \n",
       "\n",
       "     Streams                                                URL       Date  \\\n",
       "1  3135625.0  https://open.spotify.com/track/5aAx2yezTd8zXrk... 2017-01-01   \n",
       "2  3015525.0  https://open.spotify.com/track/7BKLCZ1jbUBVqRi... 2017-01-01   \n",
       "3  2545384.0  https://open.spotify.com/track/4pdPtRcBmOSQDlJ... 2017-01-01   \n",
       "4  2356604.0  https://open.spotify.com/track/5knuzwU65gJK7IF... 2017-01-01   \n",
       "5  2259887.0  https://open.spotify.com/track/1xznGGDReH1oQq0... 2017-01-01   \n",
       "\n",
       "                         is_featuring is_featured  \n",
       "1                             Starboy           0  \n",
       "2                              Closer           0  \n",
       "3                     Let Me Love You           0  \n",
       "4  Rockabye . Sean Paul & Anne-Marie)           1  \n",
       "5                           One Dance           0  "
      ]
     },
     "execution_count": 65,
     "metadata": {},
     "output_type": "execute_result"
    }
   ],
   "source": [
    "#Looking through a few of the csv files, Spotify signifies that an artist is featuring someone when the title\n",
    "#of the song has the keywords \"feat\" or \"with\".\n",
    "\n",
    "#regex to find songs that feature another artist\n",
    "#df['is_featured'] = df['is_featured'].replace(to_replace=True, value=1, inplace=True, regex=False)\n",
    "df['is_featured'] = df['Track Name'].str.contains(r'([\\(]+feat|[\\(]+with)', regex=True)\n",
    "df['is_featured'] = df['is_featured']*1\n",
    "df.head()\n",
    "\n"
   ]
  },
  {
   "cell_type": "code",
   "execution_count": 67,
   "metadata": {},
   "outputs": [
    {
     "name": "stdout",
     "output_type": "stream",
     "text": [
      "is_featured\n",
      "0    1.100355e+06\n",
      "1    1.165902e+06\n",
      "Name: Streams, dtype: float64\n"
     ]
    }
   ],
   "source": [
    "is_featured = df.groupby('is_featured')['Streams'].mean()\n",
    "print (is_featured)"
   ]
  },
  {
   "cell_type": "code",
   "execution_count": 70,
   "metadata": {},
   "outputs": [
    {
     "data": {
      "text/plain": [
       "0    135172\n",
       "1     34010\n",
       "Name: is_featured, dtype: int64"
      ]
     },
     "execution_count": 70,
     "metadata": {},
     "output_type": "execute_result"
    }
   ],
   "source": [
    "df.is_featured.value_counts()"
   ]
  },
  {
   "cell_type": "code",
   "execution_count": null,
   "metadata": {},
   "outputs": [],
   "source": []
  },
  {
   "cell_type": "code",
   "execution_count": null,
   "metadata": {},
   "outputs": [],
   "source": []
  },
  {
   "cell_type": "code",
   "execution_count": 22,
   "metadata": {},
   "outputs": [],
   "source": [
    "top_artists = df.groupby('Artist')['Streams'].sum().reset_index()\n",
    "top_artists = top_artists.sort_values('Streams', ascending=False)"
   ]
  },
  {
   "cell_type": "code",
   "execution_count": 23,
   "metadata": {},
   "outputs": [
    {
     "name": "stdout",
     "output_type": "stream",
     "text": [
      "            Artist       Streams\n",
      "544    Post Malone  7.730977e+09\n",
      "198     Ed Sheeran  6.779223e+09\n",
      "191          Drake  6.622569e+09\n",
      "710   XXXTENTACION  5.110401e+09\n",
      "45   Ariana Grande  4.220703e+09\n"
     ]
    }
   ],
   "source": [
    "print (top_artists.head())"
   ]
  },
  {
   "cell_type": "code",
   "execution_count": 24,
   "metadata": {},
   "outputs": [],
   "source": [
    "top_song = df.groupby(['Track Name','Artist']).sum().sort_values('Streams', ascending=False)"
   ]
  },
  {
   "cell_type": "code",
   "execution_count": 25,
   "metadata": {},
   "outputs": [
    {
     "data": {
      "text/html": [
       "<div>\n",
       "<style scoped>\n",
       "    .dataframe tbody tr th:only-of-type {\n",
       "        vertical-align: middle;\n",
       "    }\n",
       "\n",
       "    .dataframe tbody tr th {\n",
       "        vertical-align: top;\n",
       "    }\n",
       "\n",
       "    .dataframe thead th {\n",
       "        text-align: right;\n",
       "    }\n",
       "</style>\n",
       "<table border=\"1\" class=\"dataframe\">\n",
       "  <thead>\n",
       "    <tr style=\"text-align: right;\">\n",
       "      <th></th>\n",
       "      <th></th>\n",
       "      <th>Streams</th>\n",
       "    </tr>\n",
       "    <tr>\n",
       "      <th>Track Name</th>\n",
       "      <th>Artist</th>\n",
       "      <th></th>\n",
       "    </tr>\n",
       "  </thead>\n",
       "  <tbody>\n",
       "    <tr>\n",
       "      <th>Shape of You</th>\n",
       "      <th>Ed Sheeran</th>\n",
       "      <td>2.090274e+09</td>\n",
       "    </tr>\n",
       "    <tr>\n",
       "      <th>God's Plan</th>\n",
       "      <th>Drake</th>\n",
       "      <td>1.243688e+09</td>\n",
       "    </tr>\n",
       "    <tr>\n",
       "      <th>New Rules</th>\n",
       "      <th>Dua Lipa</th>\n",
       "      <td>1.102638e+09</td>\n",
       "    </tr>\n",
       "    <tr>\n",
       "      <th>Perfect</th>\n",
       "      <th>Ed Sheeran</th>\n",
       "      <td>1.062269e+09</td>\n",
       "    </tr>\n",
       "    <tr>\n",
       "      <th>Despacito - Remix</th>\n",
       "      <th>Luis Fonsi</th>\n",
       "      <td>1.036822e+09</td>\n",
       "    </tr>\n",
       "  </tbody>\n",
       "</table>\n",
       "</div>"
      ],
      "text/plain": [
       "                                   Streams\n",
       "Track Name        Artist                  \n",
       "Shape of You      Ed Sheeran  2.090274e+09\n",
       "God's Plan        Drake       1.243688e+09\n",
       "New Rules         Dua Lipa    1.102638e+09\n",
       "Perfect           Ed Sheeran  1.062269e+09\n",
       "Despacito - Remix Luis Fonsi  1.036822e+09"
      ]
     },
     "execution_count": 25,
     "metadata": {},
     "output_type": "execute_result"
    }
   ],
   "source": [
    "top_song.head()"
   ]
  },
  {
   "cell_type": "code",
   "execution_count": 26,
   "metadata": {},
   "outputs": [],
   "source": [
    "#df = df.set_index('Date')"
   ]
  },
  {
   "cell_type": "code",
   "execution_count": 27,
   "metadata": {},
   "outputs": [
    {
     "data": {
      "text/html": [
       "<div>\n",
       "<style scoped>\n",
       "    .dataframe tbody tr th:only-of-type {\n",
       "        vertical-align: middle;\n",
       "    }\n",
       "\n",
       "    .dataframe tbody tr th {\n",
       "        vertical-align: top;\n",
       "    }\n",
       "\n",
       "    .dataframe thead th {\n",
       "        text-align: right;\n",
       "    }\n",
       "</style>\n",
       "<table border=\"1\" class=\"dataframe\">\n",
       "  <thead>\n",
       "    <tr style=\"text-align: right;\">\n",
       "      <th></th>\n",
       "      <th>Position</th>\n",
       "      <th>Track Name</th>\n",
       "      <th>Artist</th>\n",
       "      <th>Streams</th>\n",
       "      <th>URL</th>\n",
       "      <th>Date</th>\n",
       "    </tr>\n",
       "  </thead>\n",
       "  <tbody>\n",
       "    <tr>\n",
       "      <th>1</th>\n",
       "      <td>1</td>\n",
       "      <td>Starboy</td>\n",
       "      <td>The Weeknd</td>\n",
       "      <td>3135625.0</td>\n",
       "      <td>https://open.spotify.com/track/5aAx2yezTd8zXrk...</td>\n",
       "      <td>2017-01-01</td>\n",
       "    </tr>\n",
       "    <tr>\n",
       "      <th>2</th>\n",
       "      <td>2</td>\n",
       "      <td>Closer</td>\n",
       "      <td>The Chainsmokers</td>\n",
       "      <td>3015525.0</td>\n",
       "      <td>https://open.spotify.com/track/7BKLCZ1jbUBVqRi...</td>\n",
       "      <td>2017-01-01</td>\n",
       "    </tr>\n",
       "    <tr>\n",
       "      <th>3</th>\n",
       "      <td>3</td>\n",
       "      <td>Let Me Love You</td>\n",
       "      <td>DJ Snake</td>\n",
       "      <td>2545384.0</td>\n",
       "      <td>https://open.spotify.com/track/4pdPtRcBmOSQDlJ...</td>\n",
       "      <td>2017-01-01</td>\n",
       "    </tr>\n",
       "    <tr>\n",
       "      <th>4</th>\n",
       "      <td>4</td>\n",
       "      <td>Rockabye (feat. Sean Paul &amp; Anne-Marie)</td>\n",
       "      <td>Clean Bandit</td>\n",
       "      <td>2356604.0</td>\n",
       "      <td>https://open.spotify.com/track/5knuzwU65gJK7IF...</td>\n",
       "      <td>2017-01-01</td>\n",
       "    </tr>\n",
       "    <tr>\n",
       "      <th>5</th>\n",
       "      <td>5</td>\n",
       "      <td>One Dance</td>\n",
       "      <td>Drake</td>\n",
       "      <td>2259887.0</td>\n",
       "      <td>https://open.spotify.com/track/1xznGGDReH1oQq0...</td>\n",
       "      <td>2017-01-01</td>\n",
       "    </tr>\n",
       "  </tbody>\n",
       "</table>\n",
       "</div>"
      ],
      "text/plain": [
       "  Position                               Track Name            Artist  \\\n",
       "1        1                                  Starboy        The Weeknd   \n",
       "2        2                                   Closer  The Chainsmokers   \n",
       "3        3                          Let Me Love You          DJ Snake   \n",
       "4        4  Rockabye (feat. Sean Paul & Anne-Marie)      Clean Bandit   \n",
       "5        5                                One Dance             Drake   \n",
       "\n",
       "     Streams                                                URL       Date  \n",
       "1  3135625.0  https://open.spotify.com/track/5aAx2yezTd8zXrk... 2017-01-01  \n",
       "2  3015525.0  https://open.spotify.com/track/7BKLCZ1jbUBVqRi... 2017-01-01  \n",
       "3  2545384.0  https://open.spotify.com/track/4pdPtRcBmOSQDlJ... 2017-01-01  \n",
       "4  2356604.0  https://open.spotify.com/track/5knuzwU65gJK7IF... 2017-01-01  \n",
       "5  2259887.0  https://open.spotify.com/track/1xznGGDReH1oQq0... 2017-01-01  "
      ]
     },
     "execution_count": 27,
     "metadata": {},
     "output_type": "execute_result"
    }
   ],
   "source": [
    "df.head()"
   ]
  },
  {
   "cell_type": "code",
   "execution_count": 28,
   "metadata": {},
   "outputs": [
    {
     "data": {
      "text/html": [
       "<div>\n",
       "<style scoped>\n",
       "    .dataframe tbody tr th:only-of-type {\n",
       "        vertical-align: middle;\n",
       "    }\n",
       "\n",
       "    .dataframe tbody tr th {\n",
       "        vertical-align: top;\n",
       "    }\n",
       "\n",
       "    .dataframe thead th {\n",
       "        text-align: right;\n",
       "    }\n",
       "</style>\n",
       "<table border=\"1\" class=\"dataframe\">\n",
       "  <thead>\n",
       "    <tr style=\"text-align: right;\">\n",
       "      <th></th>\n",
       "      <th>Position</th>\n",
       "      <th>Track Name</th>\n",
       "      <th>Artist</th>\n",
       "      <th>Streams</th>\n",
       "      <th>URL</th>\n",
       "      <th>Date</th>\n",
       "    </tr>\n",
       "  </thead>\n",
       "  <tbody>\n",
       "    <tr>\n",
       "      <th>1</th>\n",
       "      <td>1</td>\n",
       "      <td>Starboy</td>\n",
       "      <td>The Weeknd</td>\n",
       "      <td>3135625.0</td>\n",
       "      <td>https://open.spotify.com/track/5aAx2yezTd8zXrk...</td>\n",
       "      <td>2017-01-01</td>\n",
       "    </tr>\n",
       "    <tr>\n",
       "      <th>2</th>\n",
       "      <td>2</td>\n",
       "      <td>Closer</td>\n",
       "      <td>The Chainsmokers</td>\n",
       "      <td>3015525.0</td>\n",
       "      <td>https://open.spotify.com/track/7BKLCZ1jbUBVqRi...</td>\n",
       "      <td>2017-01-01</td>\n",
       "    </tr>\n",
       "    <tr>\n",
       "      <th>3</th>\n",
       "      <td>3</td>\n",
       "      <td>Let Me Love You</td>\n",
       "      <td>DJ Snake</td>\n",
       "      <td>2545384.0</td>\n",
       "      <td>https://open.spotify.com/track/4pdPtRcBmOSQDlJ...</td>\n",
       "      <td>2017-01-01</td>\n",
       "    </tr>\n",
       "    <tr>\n",
       "      <th>4</th>\n",
       "      <td>4</td>\n",
       "      <td>Rockabye (feat. Sean Paul &amp; Anne-Marie)</td>\n",
       "      <td>Clean Bandit</td>\n",
       "      <td>2356604.0</td>\n",
       "      <td>https://open.spotify.com/track/5knuzwU65gJK7IF...</td>\n",
       "      <td>2017-01-01</td>\n",
       "    </tr>\n",
       "    <tr>\n",
       "      <th>5</th>\n",
       "      <td>5</td>\n",
       "      <td>One Dance</td>\n",
       "      <td>Drake</td>\n",
       "      <td>2259887.0</td>\n",
       "      <td>https://open.spotify.com/track/1xznGGDReH1oQq0...</td>\n",
       "      <td>2017-01-01</td>\n",
       "    </tr>\n",
       "  </tbody>\n",
       "</table>\n",
       "</div>"
      ],
      "text/plain": [
       "  Position                               Track Name            Artist  \\\n",
       "1        1                                  Starboy        The Weeknd   \n",
       "2        2                                   Closer  The Chainsmokers   \n",
       "3        3                          Let Me Love You          DJ Snake   \n",
       "4        4  Rockabye (feat. Sean Paul & Anne-Marie)      Clean Bandit   \n",
       "5        5                                One Dance             Drake   \n",
       "\n",
       "     Streams                                                URL       Date  \n",
       "1  3135625.0  https://open.spotify.com/track/5aAx2yezTd8zXrk... 2017-01-01  \n",
       "2  3015525.0  https://open.spotify.com/track/7BKLCZ1jbUBVqRi... 2017-01-01  \n",
       "3  2545384.0  https://open.spotify.com/track/4pdPtRcBmOSQDlJ... 2017-01-01  \n",
       "4  2356604.0  https://open.spotify.com/track/5knuzwU65gJK7IF... 2017-01-01  \n",
       "5  2259887.0  https://open.spotify.com/track/1xznGGDReH1oQq0... 2017-01-01  "
      ]
     },
     "execution_count": 28,
     "metadata": {},
     "output_type": "execute_result"
    }
   ],
   "source": [
    "df.head()"
   ]
  },
  {
   "cell_type": "code",
   "execution_count": 29,
   "metadata": {},
   "outputs": [],
   "source": [
    "streams_over_time = df.groupby('Date').sum()\n",
    "streams_over_time_month = streams_over_time.resample('m').sum()"
   ]
  },
  {
   "cell_type": "code",
   "execution_count": 30,
   "metadata": {},
   "outputs": [
    {
     "name": "stdout",
     "output_type": "stream",
     "text": [
      "                 Streams\n",
      "Date                    \n",
      "2017-01-31  5.591482e+09\n",
      "2017-02-28  5.260894e+09\n",
      "2017-03-31  7.027339e+09\n",
      "2017-04-30  6.457311e+09\n",
      "2017-05-31  6.389516e+09\n",
      "2017-06-30  6.204961e+09\n",
      "2017-07-31  6.406648e+09\n",
      "2017-08-31  6.266664e+09\n",
      "2017-09-30  6.317475e+09\n",
      "2017-10-31  6.378529e+09\n",
      "2017-11-30  6.195185e+09\n",
      "2017-12-31  6.784018e+09\n",
      "2018-01-31  6.586879e+09\n",
      "2018-02-28  6.151170e+09\n",
      "2018-03-31  6.862314e+09\n",
      "2018-04-30  7.103546e+09\n",
      "2018-05-31  7.026595e+09\n",
      "2018-06-30  7.013290e+09\n",
      "2018-07-31  7.335921e+09\n",
      "2018-08-31  7.089773e+09\n",
      "2018-09-30  6.849942e+09\n",
      "2018-10-31  7.094069e+09\n",
      "2018-11-30  6.957297e+09\n",
      "2018-12-31  7.800270e+09\n",
      "2019-01-31  7.243675e+09\n",
      "2019-02-28  7.193705e+09\n",
      "2019-03-31  7.505230e+09\n",
      "2019-04-30  7.326940e+09\n"
     ]
    }
   ],
   "source": [
    "print (streams_over_time_month)"
   ]
  },
  {
   "cell_type": "code",
   "execution_count": 31,
   "metadata": {},
   "outputs": [
    {
     "data": {
      "image/png": "[encoded data removed]",
      "text/plain": [
       "<Figure size 1080x576 with 1 Axes>"
      ]
     },
     "metadata": {
      "needs_background": "light"
     },
     "output_type": "display_data"
    }
   ],
   "source": [
    "pd.plotting.register_matplotlib_converters()\n",
    "%matplotlib inline\n",
    "_ = plt.figure(figsize=(15,8))\n",
    "_ = plt.plot(df['Date'], df['Streams'])\n",
    "plt.show()"
   ]
  },
  {
   "cell_type": "code",
   "execution_count": 32,
   "metadata": {},
   "outputs": [
    {
     "data": {
      "text/plain": [
       "DatetimeIndex(['2017-01-31', '2017-02-28', '2017-03-31', '2017-04-30',\n",
       "               '2017-05-31', '2017-06-30', '2017-07-31', '2017-08-31',\n",
       "               '2017-09-30', '2017-10-31', '2017-11-30', '2017-12-31',\n",
       "               '2018-01-31', '2018-02-28', '2018-03-31', '2018-04-30',\n",
       "               '2018-05-31', '2018-06-30', '2018-07-31', '2018-08-31',\n",
       "               '2018-09-30', '2018-10-31', '2018-11-30', '2018-12-31',\n",
       "               '2019-01-31', '2019-02-28', '2019-03-31', '2019-04-30'],\n",
       "              dtype='datetime64[ns]', name='Date', freq='M')"
      ]
     },
     "execution_count": 32,
     "metadata": {},
     "output_type": "execute_result"
    }
   ],
   "source": [
    "streams_over_time_month.index"
   ]
  },
  {
   "cell_type": "code",
   "execution_count": 33,
   "metadata": {},
   "outputs": [
    {
     "data": {
      "image/png": "[encoded data removed]",
      "text/plain": [
       "<Figure size 1080x576 with 1 Axes>"
      ]
     },
     "metadata": {
      "needs_background": "light"
     },
     "output_type": "display_data"
    }
   ],
   "source": [
    "%matplotlib inline\n",
    "fig = plt.figure()\n",
    "fig.set_size_inches(15, 8, forward=True)\n",
    "_ = plt.plot(streams_over_time_month.index, streams_over_time_month['Streams'])\n",
    "_ = plt.xlabel('Date')\n",
    "_ = plt.ylabel('# of Top 200 Streams')\n",
    "plt.show()"
   ]
  },
  {
   "cell_type": "code",
   "execution_count": 81,
   "metadata": {},
   "outputs": [
    {
     "data": {
      "text/html": [
       "<div>\n",
       "<style scoped>\n",
       "    .dataframe tbody tr th:only-of-type {\n",
       "        vertical-align: middle;\n",
       "    }\n",
       "\n",
       "    .dataframe tbody tr th {\n",
       "        vertical-align: top;\n",
       "    }\n",
       "\n",
       "    .dataframe thead th {\n",
       "        text-align: right;\n",
       "    }\n",
       "</style>\n",
       "<table border=\"1\" class=\"dataframe\">\n",
       "  <thead>\n",
       "    <tr style=\"text-align: right;\">\n",
       "      <th></th>\n",
       "      <th>Position</th>\n",
       "      <th>Track Name</th>\n",
       "      <th>Artist</th>\n",
       "      <th>Streams</th>\n",
       "      <th>URL</th>\n",
       "      <th>Date</th>\n",
       "      <th>is_featuring</th>\n",
       "      <th>is_featured</th>\n",
       "    </tr>\n",
       "  </thead>\n",
       "  <tbody>\n",
       "    <tr>\n",
       "      <th>1</th>\n",
       "      <td>1</td>\n",
       "      <td>Starboy</td>\n",
       "      <td>The Weeknd</td>\n",
       "      <td>3135625.0</td>\n",
       "      <td>https://open.spotify.com/track/5aAx2yezTd8zXrk...</td>\n",
       "      <td>2017-01-01</td>\n",
       "      <td>Starboy</td>\n",
       "      <td>0</td>\n",
       "    </tr>\n",
       "    <tr>\n",
       "      <th>202</th>\n",
       "      <td>1</td>\n",
       "      <td>Starboy</td>\n",
       "      <td>The Weeknd</td>\n",
       "      <td>3342769.0</td>\n",
       "      <td>https://open.spotify.com/track/5aAx2yezTd8zXrk...</td>\n",
       "      <td>2017-01-02</td>\n",
       "      <td>Starboy</td>\n",
       "      <td>0</td>\n",
       "    </tr>\n",
       "    <tr>\n",
       "      <th>403</th>\n",
       "      <td>1</td>\n",
       "      <td>Starboy</td>\n",
       "      <td>The Weeknd</td>\n",
       "      <td>3563076.0</td>\n",
       "      <td>https://open.spotify.com/track/5aAx2yezTd8zXrk...</td>\n",
       "      <td>2017-01-03</td>\n",
       "      <td>Starboy</td>\n",
       "      <td>0</td>\n",
       "    </tr>\n",
       "    <tr>\n",
       "      <th>604</th>\n",
       "      <td>1</td>\n",
       "      <td>Starboy</td>\n",
       "      <td>The Weeknd</td>\n",
       "      <td>3619247.0</td>\n",
       "      <td>https://open.spotify.com/track/5aAx2yezTd8zXrk...</td>\n",
       "      <td>2017-01-04</td>\n",
       "      <td>Starboy</td>\n",
       "      <td>0</td>\n",
       "    </tr>\n",
       "    <tr>\n",
       "      <th>805</th>\n",
       "      <td>1</td>\n",
       "      <td>Starboy</td>\n",
       "      <td>The Weeknd</td>\n",
       "      <td>3579206.0</td>\n",
       "      <td>https://open.spotify.com/track/5aAx2yezTd8zXrk...</td>\n",
       "      <td>2017-01-05</td>\n",
       "      <td>Starboy</td>\n",
       "      <td>0</td>\n",
       "    </tr>\n",
       "  </tbody>\n",
       "</table>\n",
       "</div>"
      ],
      "text/plain": [
       "    Position Track Name      Artist    Streams  \\\n",
       "1          1    Starboy  The Weeknd  3135625.0   \n",
       "202        1    Starboy  The Weeknd  3342769.0   \n",
       "403        1    Starboy  The Weeknd  3563076.0   \n",
       "604        1    Starboy  The Weeknd  3619247.0   \n",
       "805        1    Starboy  The Weeknd  3579206.0   \n",
       "\n",
       "                                                   URL       Date  \\\n",
       "1    https://open.spotify.com/track/5aAx2yezTd8zXrk... 2017-01-01   \n",
       "202  https://open.spotify.com/track/5aAx2yezTd8zXrk... 2017-01-02   \n",
       "403  https://open.spotify.com/track/5aAx2yezTd8zXrk... 2017-01-03   \n",
       "604  https://open.spotify.com/track/5aAx2yezTd8zXrk... 2017-01-04   \n",
       "805  https://open.spotify.com/track/5aAx2yezTd8zXrk... 2017-01-05   \n",
       "\n",
       "    is_featuring is_featured  \n",
       "1        Starboy           0  \n",
       "202      Starboy           0  \n",
       "403      Starboy           0  \n",
       "604      Starboy           0  \n",
       "805      Starboy           0  "
      ]
     },
     "execution_count": 81,
     "metadata": {},
     "output_type": "execute_result"
    }
   ],
   "source": [
    "top_one = df[df['Position'] == '1']\n",
    "top_one.head()"
   ]
  },
  {
   "cell_type": "code",
   "execution_count": 89,
   "metadata": {},
   "outputs": [
    {
     "ename": "ModuleNotFoundError",
     "evalue": "No module named 'sklearn'",
     "output_type": "error",
     "traceback": [
      "\u001b[1;31m---------------------------------------------------------------------------\u001b[0m",
      "\u001b[1;31mModuleNotFoundError\u001b[0m                       Traceback (most recent call last)",
      "\u001b[1;32m<ipython-input-89-73867a8650b1>\u001b[0m in \u001b[0;36m<module>\u001b[1;34m\u001b[0m\n\u001b[1;32m----> 1\u001b[1;33m \u001b[1;32mfrom\u001b[0m \u001b[0msklearn\u001b[0m \u001b[1;32mimport\u001b[0m \u001b[0mlinear_model\u001b[0m\u001b[1;33m\u001b[0m\u001b[1;33m\u001b[0m\u001b[0m\n\u001b[0m\u001b[0;32m      2\u001b[0m \u001b[1;33m\u001b[0m\u001b[0m\n\u001b[0;32m      3\u001b[0m \u001b[0mget_ipython\u001b[0m\u001b[1;33m(\u001b[0m\u001b[1;33m)\u001b[0m\u001b[1;33m.\u001b[0m\u001b[0mrun_line_magic\u001b[0m\u001b[1;33m(\u001b[0m\u001b[1;34m'matplotlib'\u001b[0m\u001b[1;33m,\u001b[0m \u001b[1;34m'inline'\u001b[0m\u001b[1;33m)\u001b[0m\u001b[1;33m\u001b[0m\u001b[1;33m\u001b[0m\u001b[0m\n\u001b[0;32m      4\u001b[0m \u001b[0mfig\u001b[0m \u001b[1;33m=\u001b[0m \u001b[0mplt\u001b[0m\u001b[1;33m.\u001b[0m\u001b[0mfigure\u001b[0m\u001b[1;33m(\u001b[0m\u001b[1;33m)\u001b[0m\u001b[1;33m\u001b[0m\u001b[1;33m\u001b[0m\u001b[0m\n\u001b[0;32m      5\u001b[0m \u001b[0mfig\u001b[0m\u001b[1;33m.\u001b[0m\u001b[0mset_size_inches\u001b[0m\u001b[1;33m(\u001b[0m\u001b[1;36m15\u001b[0m\u001b[1;33m,\u001b[0m \u001b[1;36m8\u001b[0m\u001b[1;33m,\u001b[0m \u001b[0mforward\u001b[0m\u001b[1;33m=\u001b[0m\u001b[1;32mTrue\u001b[0m\u001b[1;33m)\u001b[0m\u001b[1;33m\u001b[0m\u001b[1;33m\u001b[0m\u001b[0m\n",
      "\u001b[1;31mModuleNotFoundError\u001b[0m: No module named 'sklearn'"
     ]
    }
   ],
   "source": [
    "from sklearn import linear_model\n",
    "\n",
    "%matplotlib inline\n",
    "fig = plt.figure()\n",
    "fig.set_size_inches(15, 8, forward=True)\n",
    "_ = plt.plot(top_one.Date, top_one['Streams'])\n",
    "_ = plt.xlabel('Date')\n",
    "_ = plt.ylabel('# of Top 200 Streams')\n",
    "\n",
    "reg = linear_model.LinearRegression()\n",
    "reg.fit(top_one['Streams'], top_one.Date)\n",
    "\n",
    "plt.show()"
   ]
  },
  {
   "cell_type": "code",
   "execution_count": null,
   "metadata": {},
   "outputs": [],
   "source": [
    "df"
   ]
  },
  {
   "cell_type": "code",
   "execution_count": null,
   "metadata": {},
   "outputs": [],
   "source": []
  }
 ],
 "metadata": {
  "kernelspec": {
   "display_name": "Python 3",
   "language": "python",
   "name": "python3"
  },
  "language_info": {
   "codemirror_mode": {
    "name": "ipython",
    "version": 3
   },
   "file_extension": ".py",
   "mimetype": "text/x-python",
   "name": "python",
   "nbconvert_exporter": "python",
   "pygments_lexer": "ipython3",
   "version": "3.7.3"
  }
 },
 "nbformat": 4,
 "nbformat_minor": 2
}
