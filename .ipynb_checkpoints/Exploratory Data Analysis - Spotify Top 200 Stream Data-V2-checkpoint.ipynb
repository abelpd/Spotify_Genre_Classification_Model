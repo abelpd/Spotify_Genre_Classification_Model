{
 "cells": [
  {
   "cell_type": "markdown",
   "metadata": {},
   "source": [
    "### EDA on stream numbers\n",
    "### Questions to answer:\n",
    "<u>1) Does featuring another artist on a track correlate to higher stream numbers?</u><br>\n",
    "<b>Yes, featuring an artist on a track will lead to higher stream numbers.</b>\n",
    "\n",
    "<u>2) What kind of growth in stream numbers has Spotify achieved over the past two years?</u>\n",
    "<br/><b>On average, daily stream numbers grew by approximately ~8700 streams month over month.</b><br>\n",
    "<b>ie. taking the average daily stream numbers in a month, we see that the average daily stream numbers grew by ~8700 MoM</b>\n",
    "\n",
    "\n",
    "<u>3) What does the distribution of stream numbers look like for the top 200 stream list?</u>\n",
    "<br/><b>The distribution of stream numbers among the top 200 artist list appears to be exponential.</b>\n",
    "<br/><b>Furthermore, we observe that the log distribution of artist stream numbers appears to be normally distributed.</b>\n",
    "\n",
    "<u>4) When do Spotify users tend to stream the most (day of week, time of year, etc.)?</u>\n",
    "<br/><b>Weekday: Spotify users tend to stream the most on Saturday.</b>\n",
    "<br/><b>Month: Spotify users tend to stream the most in December.</b>\n",
    "<br/><b>There is likely a high correlation between vacation time and stream numbers however further data and EDA would be required to confirm.</b>\n",
    "\n",
    "<u>5) Who is the most popular artist/song in the last 2 years years?</u>\n",
    "<br/><b>Most popular artist: Post Malone</b>\n",
    "<br/><b>Most popular song: Shape of you - Ed Sheeran.</b>\n",
    "\n",
    "<u>6) What types of genres tend to be on the top 200 charts?</u>\n",
    "<br/><b>The top 10 most popular genres among the top 200 song list is as follows:</b>\n",
    "\n",
    "<br/><b>Pop - 268</b>\n",
    "<br/><b>Dance Pop - 154</b>\n",
    "<br/><b>Rap - 103</b>\n",
    "<br/><b>Pop Rap - 101</b>\n",
    "<br/><b>Post-teen Pop - 92</b>\n",
    "<br/><b>Trap Music - 76</b>\n",
    "<br/><b>Tropical house - 71</b>\n",
    "<br/><b>Hip Hop - 66</b>\n",
    "<br/><b>Electronic Dance Music - 53</b>\n",
    "<br/><b>Latin - 53</b>\n"
   ]
  },
  {
   "cell_type": "code",
   "execution_count": 1,
   "metadata": {},
   "outputs": [],
   "source": [
    "#importing modules\n",
    "import pandas as pd\n",
    "import numpy as np\n",
    "import os\n",
    "import matplotlib.pyplot as plt\n",
    "import seaborn as sns\n",
    "import re\n",
    "import math\n",
    "from scipy import stats\n",
    "import random\n",
    "import datetime\n",
    "#import pandas.plotting._converter as pandacnv\n",
    "from sklearn import linear_model\n",
    "import pickle\n",
    "import csv\n",
    "import spotipy\n",
    "import spotipy.util as util\n",
    "from spotipy.oauth2 import SpotifyClientCredentials\n",
    "import spotipy.oauth2 as oauth2\n",
    "from Data_Wrangling.API_KEYS import grab_api_keys\n",
    "from collections import defaultdict\n",
    "from matplotlib import rcParams\n",
    "rcParams.update({'figure.autolayout': True})\n",
    "#pandacnv.register()\n",
    "sns.set()\n",
    "sns.set_style(\"darkgrid\")\n"
   ]
  },
  {
   "cell_type": "code",
   "execution_count": 2,
   "metadata": {},
   "outputs": [],
   "source": [
    "cwd = os.getcwd()"
   ]
  },
  {
   "cell_type": "code",
   "execution_count": 3,
   "metadata": {},
   "outputs": [
    {
     "data": {
      "text/plain": [
       "['.git',\n",
       " '.gitignore',\n",
       " '.ipynb_checkpoints',\n",
       " 'Capstone1_Analysis_of_top_200_Spotify.pdf',\n",
       " 'clustering',\n",
       " 'confusion_matrix.png',\n",
       " 'Data Story',\n",
       " 'Data_Wrangling',\n",
       " 'debug.log',\n",
       " 'Exploratory Data Analysis - Spotify Top 200 Stream Data-V2.ipynb',\n",
       " 'Exploratory Data Analysis - Spotify Top 200 Stream Data.ipynb',\n",
       " 'Genre_analysis-test.ipynb',\n",
       " 'Genre_analysis.ipynb',\n",
       " 'Machine Learning-V2.ipynb',\n",
       " 'Machine Learning.docx',\n",
       " 'Machine Learning.ipynb',\n",
       " 'Machine Learning.pdf',\n",
       " 'Milestone_Report.docx',\n",
       " 'model_accuracy.png',\n",
       " 'Predicting Song Genre.pptx',\n",
       " 'README.md',\n",
       " 'song_analysis_graphs.ipynb',\n",
       " 'song_genres.ipynb',\n",
       " 'Statistical_methods',\n",
       " 'Streams_Over_Time.ipynb',\n",
       " '__pycache__',\n",
       " '~$chine Learning.docx',\n",
       " '~$Predicting Song Genre.pptx',\n",
       " '~WRL2383.tmp']"
      ]
     },
     "execution_count": 3,
     "metadata": {},
     "output_type": "execute_result"
    }
   ],
   "source": [
    "os.listdir()"
   ]
  },
  {
   "cell_type": "code",
   "execution_count": 4,
   "metadata": {},
   "outputs": [],
   "source": [
    "csv_path = os.getcwd() + '\\\\Data_Wrangling\\\\Top_200_Spotify_Data\\\\'"
   ]
  },
  {
   "cell_type": "code",
   "execution_count": 5,
   "metadata": {},
   "outputs": [],
   "source": [
    "def csv_amalgimation(filename):\n",
    "    csv_df = pd.read_csv(filename, encoding=\"latin1\", parse_dates=[5])\n",
    "    columns = ['Position', 'Track Name', 'Artist', 'Streams', 'URL', 'Date']\n",
    "    csv_df.columns = columns\n",
    "    return csv_df"
   ]
  },
  {
   "cell_type": "code",
   "execution_count": 6,
   "metadata": {},
   "outputs": [],
   "source": [
    "csv_list = []\n",
    "for subdir, dirs, files in os.walk(csv_path):\n",
    "    for file in files:\n",
    "        csv_list.append(os.path.join(subdir, file))"
   ]
  },
  {
   "cell_type": "code",
   "execution_count": 7,
   "metadata": {},
   "outputs": [],
   "source": [
    "dfs_to_append = []\n",
    "error_csvs = []\n",
    "for csv in csv_list:\n",
    "    try:\n",
    "        dfs_to_append.append(csv_amalgimation(csv))\n",
    "    except:\n",
    "        error_csvs.append(csv)\n",
    "        pass"
   ]
  },
  {
   "cell_type": "code",
   "execution_count": 8,
   "metadata": {},
   "outputs": [],
   "source": [
    "df = pd.DataFrame()\n",
    "df = df.append(dfs_to_append, ignore_index=True)"
   ]
  },
  {
   "cell_type": "code",
   "execution_count": 9,
   "metadata": {},
   "outputs": [],
   "source": [
    "#C:\\Users\\abels\\Desktop\\spotify_scrape\\Data\\csv_files\\\n",
    "df.to_csv(cwd + '\\\\Data_Wrangling\\\\final_csv_files\\\\Combined_Top_200_Stream_Numbers.csv')"
   ]
  },
  {
   "cell_type": "code",
   "execution_count": 10,
   "metadata": {},
   "outputs": [
    {
     "name": "stdout",
     "output_type": "stream",
     "text": [
      "(170046, 6)\n"
     ]
    },
    {
     "data": {
      "text/html": [
       "<div>\n",
       "<style scoped>\n",
       "    .dataframe tbody tr th:only-of-type {\n",
       "        vertical-align: middle;\n",
       "    }\n",
       "\n",
       "    .dataframe tbody tr th {\n",
       "        vertical-align: top;\n",
       "    }\n",
       "\n",
       "    .dataframe thead th {\n",
       "        text-align: right;\n",
       "    }\n",
       "</style>\n",
       "<table border=\"1\" class=\"dataframe\">\n",
       "  <thead>\n",
       "    <tr style=\"text-align: right;\">\n",
       "      <th></th>\n",
       "      <th>Position</th>\n",
       "      <th>Track Name</th>\n",
       "      <th>Artist</th>\n",
       "      <th>Streams</th>\n",
       "      <th>URL</th>\n",
       "      <th>Date</th>\n",
       "    </tr>\n",
       "  </thead>\n",
       "  <tbody>\n",
       "    <tr>\n",
       "      <th>0</th>\n",
       "      <td>Position</td>\n",
       "      <td>Track Name</td>\n",
       "      <td>Artist</td>\n",
       "      <td>Streams</td>\n",
       "      <td>URL</td>\n",
       "      <td>2017-01-01</td>\n",
       "    </tr>\n",
       "    <tr>\n",
       "      <th>1</th>\n",
       "      <td>1</td>\n",
       "      <td>Starboy</td>\n",
       "      <td>The Weeknd</td>\n",
       "      <td>3135625</td>\n",
       "      <td>https://open.spotify.com/track/5aAx2yezTd8zXrk...</td>\n",
       "      <td>2017-01-01</td>\n",
       "    </tr>\n",
       "    <tr>\n",
       "      <th>2</th>\n",
       "      <td>2</td>\n",
       "      <td>Closer</td>\n",
       "      <td>The Chainsmokers</td>\n",
       "      <td>3015525</td>\n",
       "      <td>https://open.spotify.com/track/7BKLCZ1jbUBVqRi...</td>\n",
       "      <td>2017-01-01</td>\n",
       "    </tr>\n",
       "    <tr>\n",
       "      <th>3</th>\n",
       "      <td>3</td>\n",
       "      <td>Let Me Love You</td>\n",
       "      <td>DJ Snake</td>\n",
       "      <td>2545384</td>\n",
       "      <td>https://open.spotify.com/track/4pdPtRcBmOSQDlJ...</td>\n",
       "      <td>2017-01-01</td>\n",
       "    </tr>\n",
       "    <tr>\n",
       "      <th>4</th>\n",
       "      <td>4</td>\n",
       "      <td>Rockabye (feat. Sean Paul &amp; Anne-Marie)</td>\n",
       "      <td>Clean Bandit</td>\n",
       "      <td>2356604</td>\n",
       "      <td>https://open.spotify.com/track/5knuzwU65gJK7IF...</td>\n",
       "      <td>2017-01-01</td>\n",
       "    </tr>\n",
       "  </tbody>\n",
       "</table>\n",
       "</div>"
      ],
      "text/plain": [
       "   Position                               Track Name            Artist  \\\n",
       "0  Position                               Track Name            Artist   \n",
       "1         1                                  Starboy        The Weeknd   \n",
       "2         2                                   Closer  The Chainsmokers   \n",
       "3         3                          Let Me Love You          DJ Snake   \n",
       "4         4  Rockabye (feat. Sean Paul & Anne-Marie)      Clean Bandit   \n",
       "\n",
       "   Streams                                                URL       Date  \n",
       "0  Streams                                                URL 2017-01-01  \n",
       "1  3135625  https://open.spotify.com/track/5aAx2yezTd8zXrk... 2017-01-01  \n",
       "2  3015525  https://open.spotify.com/track/7BKLCZ1jbUBVqRi... 2017-01-01  \n",
       "3  2545384  https://open.spotify.com/track/4pdPtRcBmOSQDlJ... 2017-01-01  \n",
       "4  2356604  https://open.spotify.com/track/5knuzwU65gJK7IF... 2017-01-01  "
      ]
     },
     "execution_count": 10,
     "metadata": {},
     "output_type": "execute_result"
    }
   ],
   "source": [
    "print (df.shape)\n",
    "df.head()"
   ]
  },
  {
   "cell_type": "code",
   "execution_count": 11,
   "metadata": {},
   "outputs": [],
   "source": [
    "df['Streams'] = pd.to_numeric(df['Streams'], errors='coerce')"
   ]
  },
  {
   "cell_type": "code",
   "execution_count": 12,
   "metadata": {},
   "outputs": [
    {
     "data": {
      "text/plain": [
       "dtype('float64')"
      ]
     },
     "execution_count": 12,
     "metadata": {},
     "output_type": "execute_result"
    }
   ],
   "source": [
    "df['Streams'].dtype"
   ]
  },
  {
   "cell_type": "code",
   "execution_count": 13,
   "metadata": {},
   "outputs": [
    {
     "data": {
      "text/plain": [
       "0          NaN\n",
       "1    3135625.0\n",
       "2    3015525.0\n",
       "3    2545384.0\n",
       "4    2356604.0\n",
       "Name: Streams, dtype: float64"
      ]
     },
     "execution_count": 13,
     "metadata": {},
     "output_type": "execute_result"
    }
   ],
   "source": [
    "df['Streams'].head()"
   ]
  },
  {
   "cell_type": "code",
   "execution_count": 14,
   "metadata": {},
   "outputs": [],
   "source": [
    "mask = (~np.isnan(df['Streams']))"
   ]
  },
  {
   "cell_type": "code",
   "execution_count": 15,
   "metadata": {},
   "outputs": [
    {
     "data": {
      "text/plain": [
       "(170046,)"
      ]
     },
     "execution_count": 15,
     "metadata": {},
     "output_type": "execute_result"
    }
   ],
   "source": [
    "mask.shape"
   ]
  },
  {
   "cell_type": "code",
   "execution_count": 16,
   "metadata": {},
   "outputs": [
    {
     "data": {
      "text/plain": [
       "0    False\n",
       "1     True\n",
       "2     True\n",
       "3     True\n",
       "4     True\n",
       "Name: Streams, dtype: bool"
      ]
     },
     "execution_count": 16,
     "metadata": {},
     "output_type": "execute_result"
    }
   ],
   "source": [
    "mask.head()"
   ]
  },
  {
   "cell_type": "code",
   "execution_count": 17,
   "metadata": {},
   "outputs": [
    {
     "data": {
      "text/plain": [
       "(170046, 6)"
      ]
     },
     "execution_count": 17,
     "metadata": {},
     "output_type": "execute_result"
    }
   ],
   "source": [
    "df.shape"
   ]
  },
  {
   "cell_type": "code",
   "execution_count": 18,
   "metadata": {},
   "outputs": [],
   "source": [
    "df = df[mask]"
   ]
  },
  {
   "cell_type": "code",
   "execution_count": 19,
   "metadata": {},
   "outputs": [
    {
     "data": {
      "text/plain": [
       "(169200, 6)"
      ]
     },
     "execution_count": 19,
     "metadata": {},
     "output_type": "execute_result"
    }
   ],
   "source": [
    "df.shape"
   ]
  },
  {
   "cell_type": "code",
   "execution_count": 20,
   "metadata": {},
   "outputs": [
    {
     "data": {
      "text/html": [
       "<div>\n",
       "<style scoped>\n",
       "    .dataframe tbody tr th:only-of-type {\n",
       "        vertical-align: middle;\n",
       "    }\n",
       "\n",
       "    .dataframe tbody tr th {\n",
       "        vertical-align: top;\n",
       "    }\n",
       "\n",
       "    .dataframe thead th {\n",
       "        text-align: right;\n",
       "    }\n",
       "</style>\n",
       "<table border=\"1\" class=\"dataframe\">\n",
       "  <thead>\n",
       "    <tr style=\"text-align: right;\">\n",
       "      <th></th>\n",
       "      <th>Position</th>\n",
       "      <th>Track Name</th>\n",
       "      <th>Artist</th>\n",
       "      <th>Streams</th>\n",
       "      <th>URL</th>\n",
       "      <th>Date</th>\n",
       "    </tr>\n",
       "  </thead>\n",
       "  <tbody>\n",
       "    <tr>\n",
       "      <th>1</th>\n",
       "      <td>1</td>\n",
       "      <td>Starboy</td>\n",
       "      <td>The Weeknd</td>\n",
       "      <td>3135625.0</td>\n",
       "      <td>https://open.spotify.com/track/5aAx2yezTd8zXrk...</td>\n",
       "      <td>2017-01-01</td>\n",
       "    </tr>\n",
       "    <tr>\n",
       "      <th>2</th>\n",
       "      <td>2</td>\n",
       "      <td>Closer</td>\n",
       "      <td>The Chainsmokers</td>\n",
       "      <td>3015525.0</td>\n",
       "      <td>https://open.spotify.com/track/7BKLCZ1jbUBVqRi...</td>\n",
       "      <td>2017-01-01</td>\n",
       "    </tr>\n",
       "    <tr>\n",
       "      <th>3</th>\n",
       "      <td>3</td>\n",
       "      <td>Let Me Love You</td>\n",
       "      <td>DJ Snake</td>\n",
       "      <td>2545384.0</td>\n",
       "      <td>https://open.spotify.com/track/4pdPtRcBmOSQDlJ...</td>\n",
       "      <td>2017-01-01</td>\n",
       "    </tr>\n",
       "    <tr>\n",
       "      <th>4</th>\n",
       "      <td>4</td>\n",
       "      <td>Rockabye (feat. Sean Paul &amp; Anne-Marie)</td>\n",
       "      <td>Clean Bandit</td>\n",
       "      <td>2356604.0</td>\n",
       "      <td>https://open.spotify.com/track/5knuzwU65gJK7IF...</td>\n",
       "      <td>2017-01-01</td>\n",
       "    </tr>\n",
       "    <tr>\n",
       "      <th>5</th>\n",
       "      <td>5</td>\n",
       "      <td>One Dance</td>\n",
       "      <td>Drake</td>\n",
       "      <td>2259887.0</td>\n",
       "      <td>https://open.spotify.com/track/1xznGGDReH1oQq0...</td>\n",
       "      <td>2017-01-01</td>\n",
       "    </tr>\n",
       "  </tbody>\n",
       "</table>\n",
       "</div>"
      ],
      "text/plain": [
       "  Position                               Track Name            Artist  \\\n",
       "1        1                                  Starboy        The Weeknd   \n",
       "2        2                                   Closer  The Chainsmokers   \n",
       "3        3                          Let Me Love You          DJ Snake   \n",
       "4        4  Rockabye (feat. Sean Paul & Anne-Marie)      Clean Bandit   \n",
       "5        5                                One Dance             Drake   \n",
       "\n",
       "     Streams                                                URL       Date  \n",
       "1  3135625.0  https://open.spotify.com/track/5aAx2yezTd8zXrk... 2017-01-01  \n",
       "2  3015525.0  https://open.spotify.com/track/7BKLCZ1jbUBVqRi... 2017-01-01  \n",
       "3  2545384.0  https://open.spotify.com/track/4pdPtRcBmOSQDlJ... 2017-01-01  \n",
       "4  2356604.0  https://open.spotify.com/track/5knuzwU65gJK7IF... 2017-01-01  \n",
       "5  2259887.0  https://open.spotify.com/track/1xznGGDReH1oQq0... 2017-01-01  "
      ]
     },
     "execution_count": 20,
     "metadata": {},
     "output_type": "execute_result"
    }
   ],
   "source": [
    "df.head()"
   ]
  },
  {
   "cell_type": "markdown",
   "metadata": {},
   "source": [
    "## 1) Does featuring another artist lead to higher stream numbers?"
   ]
  },
  {
   "cell_type": "code",
   "execution_count": 21,
   "metadata": {},
   "outputs": [
    {
     "name": "stderr",
     "output_type": "stream",
     "text": [
      "C:\\Users\\abels\\Anaconda3\\lib\\site-packages\\pandas\\core\\strings.py:1843: UserWarning: This pattern has match groups. To actually get the groups, use str.extract.\n",
      "  return func(self, *args, **kwargs)\n"
     ]
    },
    {
     "data": {
      "text/html": [
       "<div>\n",
       "<style scoped>\n",
       "    .dataframe tbody tr th:only-of-type {\n",
       "        vertical-align: middle;\n",
       "    }\n",
       "\n",
       "    .dataframe tbody tr th {\n",
       "        vertical-align: top;\n",
       "    }\n",
       "\n",
       "    .dataframe thead th {\n",
       "        text-align: right;\n",
       "    }\n",
       "</style>\n",
       "<table border=\"1\" class=\"dataframe\">\n",
       "  <thead>\n",
       "    <tr style=\"text-align: right;\">\n",
       "      <th></th>\n",
       "      <th>Position</th>\n",
       "      <th>Track Name</th>\n",
       "      <th>Artist</th>\n",
       "      <th>Streams</th>\n",
       "      <th>URL</th>\n",
       "      <th>Date</th>\n",
       "      <th>is_featured</th>\n",
       "    </tr>\n",
       "  </thead>\n",
       "  <tbody>\n",
       "    <tr>\n",
       "      <th>1</th>\n",
       "      <td>1</td>\n",
       "      <td>Starboy</td>\n",
       "      <td>The Weeknd</td>\n",
       "      <td>3135625.0</td>\n",
       "      <td>https://open.spotify.com/track/5aAx2yezTd8zXrk...</td>\n",
       "      <td>2017-01-01</td>\n",
       "      <td>False</td>\n",
       "    </tr>\n",
       "    <tr>\n",
       "      <th>2</th>\n",
       "      <td>2</td>\n",
       "      <td>Closer</td>\n",
       "      <td>The Chainsmokers</td>\n",
       "      <td>3015525.0</td>\n",
       "      <td>https://open.spotify.com/track/7BKLCZ1jbUBVqRi...</td>\n",
       "      <td>2017-01-01</td>\n",
       "      <td>False</td>\n",
       "    </tr>\n",
       "    <tr>\n",
       "      <th>3</th>\n",
       "      <td>3</td>\n",
       "      <td>Let Me Love You</td>\n",
       "      <td>DJ Snake</td>\n",
       "      <td>2545384.0</td>\n",
       "      <td>https://open.spotify.com/track/4pdPtRcBmOSQDlJ...</td>\n",
       "      <td>2017-01-01</td>\n",
       "      <td>False</td>\n",
       "    </tr>\n",
       "    <tr>\n",
       "      <th>4</th>\n",
       "      <td>4</td>\n",
       "      <td>Rockabye (feat. Sean Paul &amp; Anne-Marie)</td>\n",
       "      <td>Clean Bandit</td>\n",
       "      <td>2356604.0</td>\n",
       "      <td>https://open.spotify.com/track/5knuzwU65gJK7IF...</td>\n",
       "      <td>2017-01-01</td>\n",
       "      <td>True</td>\n",
       "    </tr>\n",
       "    <tr>\n",
       "      <th>5</th>\n",
       "      <td>5</td>\n",
       "      <td>One Dance</td>\n",
       "      <td>Drake</td>\n",
       "      <td>2259887.0</td>\n",
       "      <td>https://open.spotify.com/track/1xznGGDReH1oQq0...</td>\n",
       "      <td>2017-01-01</td>\n",
       "      <td>False</td>\n",
       "    </tr>\n",
       "    <tr>\n",
       "      <th>...</th>\n",
       "      <td>...</td>\n",
       "      <td>...</td>\n",
       "      <td>...</td>\n",
       "      <td>...</td>\n",
       "      <td>...</td>\n",
       "      <td>...</td>\n",
       "      <td>...</td>\n",
       "    </tr>\n",
       "    <tr>\n",
       "      <th>96</th>\n",
       "      <td>96</td>\n",
       "      <td>Water Under the Bridge</td>\n",
       "      <td>Adele</td>\n",
       "      <td>565509.0</td>\n",
       "      <td>https://open.spotify.com/track/4vb4mFvYsr2h6en...</td>\n",
       "      <td>2017-01-01</td>\n",
       "      <td>False</td>\n",
       "    </tr>\n",
       "    <tr>\n",
       "      <th>97</th>\n",
       "      <td>97</td>\n",
       "      <td>Shout Out to My Ex</td>\n",
       "      <td>Little Mix</td>\n",
       "      <td>561342.0</td>\n",
       "      <td>https://open.spotify.com/track/0YHUITU3w6ws1v8...</td>\n",
       "      <td>2017-01-01</td>\n",
       "      <td>False</td>\n",
       "    </tr>\n",
       "    <tr>\n",
       "      <th>98</th>\n",
       "      <td>98</td>\n",
       "      <td>No Heart</td>\n",
       "      <td>21 Savage</td>\n",
       "      <td>553704.0</td>\n",
       "      <td>https://open.spotify.com/track/4gmmRb6bZJffOOi...</td>\n",
       "      <td>2017-01-01</td>\n",
       "      <td>False</td>\n",
       "    </tr>\n",
       "    <tr>\n",
       "      <th>99</th>\n",
       "      <td>99</td>\n",
       "      <td>Middle</td>\n",
       "      <td>DJ Snake</td>\n",
       "      <td>552314.0</td>\n",
       "      <td>https://open.spotify.com/track/4OZEu0Vwq0RB2LA...</td>\n",
       "      <td>2017-01-01</td>\n",
       "      <td>False</td>\n",
       "    </tr>\n",
       "    <tr>\n",
       "      <th>100</th>\n",
       "      <td>100</td>\n",
       "      <td>Dile Que Tu Me Quieres</td>\n",
       "      <td>Ozuna</td>\n",
       "      <td>549784.0</td>\n",
       "      <td>https://open.spotify.com/track/20ZAJdsKB5IGbGj...</td>\n",
       "      <td>2017-01-01</td>\n",
       "      <td>False</td>\n",
       "    </tr>\n",
       "  </tbody>\n",
       "</table>\n",
       "<p>100 rows × 7 columns</p>\n",
       "</div>"
      ],
      "text/plain": [
       "    Position                               Track Name            Artist  \\\n",
       "1          1                                  Starboy        The Weeknd   \n",
       "2          2                                   Closer  The Chainsmokers   \n",
       "3          3                          Let Me Love You          DJ Snake   \n",
       "4          4  Rockabye (feat. Sean Paul & Anne-Marie)      Clean Bandit   \n",
       "5          5                                One Dance             Drake   \n",
       "..       ...                                      ...               ...   \n",
       "96        96                   Water Under the Bridge             Adele   \n",
       "97        97                       Shout Out to My Ex        Little Mix   \n",
       "98        98                                 No Heart         21 Savage   \n",
       "99        99                                   Middle          DJ Snake   \n",
       "100      100                   Dile Que Tu Me Quieres             Ozuna   \n",
       "\n",
       "       Streams                                                URL       Date  \\\n",
       "1    3135625.0  https://open.spotify.com/track/5aAx2yezTd8zXrk... 2017-01-01   \n",
       "2    3015525.0  https://open.spotify.com/track/7BKLCZ1jbUBVqRi... 2017-01-01   \n",
       "3    2545384.0  https://open.spotify.com/track/4pdPtRcBmOSQDlJ... 2017-01-01   \n",
       "4    2356604.0  https://open.spotify.com/track/5knuzwU65gJK7IF... 2017-01-01   \n",
       "5    2259887.0  https://open.spotify.com/track/1xznGGDReH1oQq0... 2017-01-01   \n",
       "..         ...                                                ...        ...   \n",
       "96    565509.0  https://open.spotify.com/track/4vb4mFvYsr2h6en... 2017-01-01   \n",
       "97    561342.0  https://open.spotify.com/track/0YHUITU3w6ws1v8... 2017-01-01   \n",
       "98    553704.0  https://open.spotify.com/track/4gmmRb6bZJffOOi... 2017-01-01   \n",
       "99    552314.0  https://open.spotify.com/track/4OZEu0Vwq0RB2LA... 2017-01-01   \n",
       "100   549784.0  https://open.spotify.com/track/20ZAJdsKB5IGbGj... 2017-01-01   \n",
       "\n",
       "    is_featured  \n",
       "1         False  \n",
       "2         False  \n",
       "3         False  \n",
       "4          True  \n",
       "5         False  \n",
       "..          ...  \n",
       "96        False  \n",
       "97        False  \n",
       "98        False  \n",
       "99        False  \n",
       "100       False  \n",
       "\n",
       "[100 rows x 7 columns]"
      ]
     },
     "execution_count": 21,
     "metadata": {},
     "output_type": "execute_result"
    }
   ],
   "source": [
    "#Looking through a few of the csv files, Spotify signifies that an artist is featuring someone when the title\n",
    "#of the song has the keywords \"feat\" or \"with\".\n",
    "\n",
    "#regex to find songs that feature another artist\n",
    "#df['is_featured'] = df['is_featured'].replace(to_replace=True, value=1, inplace=True, regex=False)\n",
    "df['is_featured'] = df['Track Name'].str.contains(r'([\\(]+feat|[\\(]+with)',regex=True)\n",
    "#df['is_featured'] = df['is_featured'].apply(lambda x: 'featured' if x == 'NaN' else 'Not Featured')\n",
    "df.head(100)\n"
   ]
  },
  {
   "cell_type": "code",
   "execution_count": 22,
   "metadata": {},
   "outputs": [
    {
     "ename": "NameError",
     "evalue": "name 'is_featured_mean' is not defined",
     "output_type": "error",
     "traceback": [
      "\u001b[1;31m---------------------------------------------------------------------------\u001b[0m",
      "\u001b[1;31mNameError\u001b[0m                                 Traceback (most recent call last)",
      "\u001b[1;32m<ipython-input-22-ed87407d570e>\u001b[0m in \u001b[0;36m<module>\u001b[1;34m\u001b[0m\n\u001b[0;32m      2\u001b[0m \u001b[0mis_featured_pivot\u001b[0m \u001b[1;33m=\u001b[0m \u001b[0mdf\u001b[0m\u001b[1;33m.\u001b[0m\u001b[0mgroupby\u001b[0m\u001b[1;33m(\u001b[0m\u001b[1;33m[\u001b[0m\u001b[1;34m'Artist'\u001b[0m\u001b[1;33m,\u001b[0m\u001b[1;34m'is_featured'\u001b[0m\u001b[1;33m]\u001b[0m\u001b[1;33m)\u001b[0m\u001b[1;33m[\u001b[0m\u001b[1;34m'Track Name'\u001b[0m\u001b[1;33m]\u001b[0m\u001b[1;33m.\u001b[0m\u001b[0mcount\u001b[0m\u001b[1;33m(\u001b[0m\u001b[1;33m)\u001b[0m\u001b[1;33m.\u001b[0m\u001b[0mto_frame\u001b[0m\u001b[1;33m(\u001b[0m\u001b[0mname\u001b[0m\u001b[1;33m=\u001b[0m\u001b[1;34m'count'\u001b[0m\u001b[1;33m)\u001b[0m\u001b[1;33m.\u001b[0m\u001b[0mreset_index\u001b[0m\u001b[1;33m(\u001b[0m\u001b[1;33m)\u001b[0m\u001b[1;33m\u001b[0m\u001b[1;33m\u001b[0m\u001b[0m\n\u001b[0;32m      3\u001b[0m \u001b[1;33m\u001b[0m\u001b[0m\n\u001b[1;32m----> 4\u001b[1;33m \u001b[0mis_featured_pivot\u001b[0m \u001b[1;33m=\u001b[0m \u001b[0mpd\u001b[0m\u001b[1;33m.\u001b[0m\u001b[0mpivot_table\u001b[0m\u001b[1;33m(\u001b[0m\u001b[0mis_featured_mean\u001b[0m\u001b[1;33m,\u001b[0m \u001b[0mvalues\u001b[0m\u001b[1;33m=\u001b[0m\u001b[1;33m[\u001b[0m\u001b[1;34m'count'\u001b[0m\u001b[1;33m]\u001b[0m\u001b[1;33m,\u001b[0m \u001b[0mindex\u001b[0m\u001b[1;33m=\u001b[0m\u001b[1;33m[\u001b[0m\u001b[1;34m'Artist'\u001b[0m\u001b[1;33m]\u001b[0m\u001b[1;33m,\u001b[0m \u001b[0mcolumns\u001b[0m\u001b[1;33m=\u001b[0m\u001b[1;33m[\u001b[0m\u001b[1;34m'is_featured'\u001b[0m\u001b[1;33m]\u001b[0m\u001b[1;33m,\u001b[0m \u001b[0maggfunc\u001b[0m\u001b[1;33m=\u001b[0m\u001b[0mnp\u001b[0m\u001b[1;33m.\u001b[0m\u001b[0msum\u001b[0m\u001b[1;33m,\u001b[0m \u001b[0mfill_value\u001b[0m\u001b[1;33m=\u001b[0m\u001b[1;36m0\u001b[0m\u001b[1;33m)\u001b[0m\u001b[1;33m\u001b[0m\u001b[1;33m\u001b[0m\u001b[0m\n\u001b[0m\u001b[0;32m      5\u001b[0m \u001b[1;33m\u001b[0m\u001b[0m\n\u001b[0;32m      6\u001b[0m \u001b[1;33m\u001b[0m\u001b[0m\n",
      "\u001b[1;31mNameError\u001b[0m: name 'is_featured_mean' is not defined"
     ]
    }
   ],
   "source": [
    "#Groupging artist by how often they feature another artist\n",
    "is_featured_pivot = df.groupby(['Artist','is_featured'])['Track Name'].count().to_frame(name='count').reset_index()\n",
    "\n",
    "is_featured_pivot = pd.pivot_table(is_featured_mean, values=['count'], index=['Artist'], columns=['is_featured'], aggfunc=np.sum, fill_value=0)\n",
    "\n",
    "\n",
    "is_featured_pivot.reset_index(inplace=True,col_level=1)\n",
    "is_featured_pivot.columns = is_featured_pivot.columns.droplevel()\n",
    "\n",
    "is_featured_pivot.columns = ['Artist','not_featured','featured']\n",
    "\n",
    "is_featured_pivot['%featured'] = is_featured_pivot['featured'] / (is_featured_pivot['not_featured'] + is_featured_pivot['featured'])\n",
    "\n",
    "is_featured_pivot.sort_values('%featured',ascending=False)"
   ]
  },
  {
   "cell_type": "code",
   "execution_count": null,
   "metadata": {},
   "outputs": [],
   "source": [
    "#determine if a featured song generally has more streams\n",
    "is_featured_mean = df.groupby('is_featured')['Streams'].mean()\n",
    "is_featured_mean.index = ['non-featured', 'featured']\n",
    "is_featured_std = df.groupby('is_featured')['Streams'].std()\n",
    "is_featured_std.index = ['non-featured', 'featured']\n",
    "\n",
    "print (is_featured_mean)\n",
    "print (is_featured_std)"
   ]
  },
  {
   "cell_type": "code",
   "execution_count": null,
   "metadata": {},
   "outputs": [],
   "source": [
    "#charting featured vs non-featured\n",
    "_, axes = plt.subplots(1, 2,figsize=(10,6))\n",
    "plt.tight_layout(w_pad=4)\n",
    "_ = sns.barplot(is_featured_mean.index, is_featured_mean,ax=axes[0])\n",
    "_ = _.set(label='# of streams', title='Mean streams for featured and non-featured songs', ylabel='# of streams')\n",
    "_ = sns.barplot(is_featured_std.index, is_featured_std,ax=axes[1])\n",
    "_.set(label='# of streams', title='Standard deviation of streams for featured and non-featured songs', ylabel='# of streams')\n",
    "_.figure.savefig(r'C:\\Users\\abels\\Desktop\\spotify_scrape\\Data Story\\graphics\\featuring_mean_sd.png')"
   ]
  },
  {
   "cell_type": "code",
   "execution_count": null,
   "metadata": {},
   "outputs": [],
   "source": [
    "#To determine if the means are significantly different, a bootstrap sampling of the means was performed\n",
    "\n",
    "#loading the songs into numpy arrays\n",
    "featured_songs = np.array(df['Streams'][df['is_featured']==1])\n",
    "not_featured_songs = np.array(df['Streams'][df['is_featured']==0])\n",
    "\n",
    "#calculate the difference in means\n",
    "difference_in_mean = np.mean(featured_songs) - np.mean(not_featured_songs)\n",
    "\n",
    "#compute mean stream of both samples\n",
    "mean_streams = np.mean(np.append(featured_songs, not_featured_songs))\n",
    "print (mean_streams)\n",
    "\n",
    "#adjusting the two samples to have the same mean\n",
    "featured_songs = featured_songs - np.mean(featured_songs) + mean_streams\n",
    "not_featured_songs = not_featured_songs - np.mean(not_featured_songs) + mean_streams\n",
    "\n",
    "print (np.mean(featured_songs))\n",
    "print (np.mean(not_featured_songs))\n",
    "print ('The difference between the sample means is %s' %difference_in_mean)"
   ]
  },
  {
   "cell_type": "code",
   "execution_count": null,
   "metadata": {},
   "outputs": [],
   "source": [
    "#generate replicates for each sample\n",
    "featured_replicates = np.array([np.random.choice(featured_songs, len(not_featured_songs), replace=True).mean() for x in range(10000)])\n",
    "not_featured_replicates = np.array([np.random.choice(not_featured_songs, len(not_featured_songs), replace=True).mean() for x in range(10000)])"
   ]
  },
  {
   "cell_type": "code",
   "execution_count": null,
   "metadata": {},
   "outputs": [],
   "source": [
    "replicate_differences = featured_replicates - not_featured_replicates\n",
    "pvalue = np.sum(replicate_differences >= difference_in_mean) / len(replicate_differences)\n",
    "print (pvalue)"
   ]
  },
  {
   "cell_type": "markdown",
   "metadata": {},
   "source": [
    "## With a pvalue of 0, we can reject the null hypothesis that the average stream numbers between songs that feature another artist are higher than those that are not featured."
   ]
  },
  {
   "cell_type": "markdown",
   "metadata": {},
   "source": [
    "## 2) What kind of growth in stream numbers has Spotify achieved over the past two years?"
   ]
  },
  {
   "cell_type": "code",
   "execution_count": null,
   "metadata": {},
   "outputs": [],
   "source": [
    "#confirming datatype\n",
    "type(df.iloc[0]['Date'])"
   ]
  },
  {
   "cell_type": "code",
   "execution_count": null,
   "metadata": {},
   "outputs": [],
   "source": [
    "#converting timestamp object to datetime\n",
    "df['Date'] = pd.to_datetime(df['Date']).apply(lambda x: x.date())"
   ]
  },
  {
   "cell_type": "code",
   "execution_count": null,
   "metadata": {},
   "outputs": [],
   "source": [
    "#confirming\n",
    "type(df.iloc[0]['Date'])\n",
    "df2 = df"
   ]
  },
  {
   "cell_type": "code",
   "execution_count": null,
   "metadata": {},
   "outputs": [],
   "source": [
    "df2 = df2.set_index('Date')\n",
    "df2.index = pd.to_datetime(df2.index)"
   ]
  },
  {
   "cell_type": "code",
   "execution_count": null,
   "metadata": {},
   "outputs": [],
   "source": [
    "df2.head()"
   ]
  },
  {
   "cell_type": "code",
   "execution_count": null,
   "metadata": {},
   "outputs": [],
   "source": [
    "monthly_resample = df2['Streams'].resample('M').mean().to_frame()\n",
    "monthly_resample = monthly_resample.reset_index()\n",
    "monthly_resample.head()\n",
    "#_, ax = plt.subplots()\n",
    "#_ = plt.figure(figsize=(12,6))\n",
    "#ax.set_xticks(monthly_resample.Date)\n",
    "#_ = sns.regplot(x = 'index', y='Streams', data=monthly_resample, fit_reg=True,x_estimator=np.mean,ci=95).set_title('Average Number of Monthly Streams')\n"
   ]
  },
  {
   "cell_type": "code",
   "execution_count": null,
   "metadata": {},
   "outputs": [],
   "source": [
    "y = monthly_resample['Streams'].values"
   ]
  },
  {
   "cell_type": "code",
   "execution_count": null,
   "metadata": {},
   "outputs": [],
   "source": [
    "x = np.arange(0,len(monthly_resample.Date))\n",
    "asdf = monthly_resample['Streams'].values\n",
    "print (x)\n",
    "print (y)\n",
    "\n",
    "#B = np.reshape(A, (-1, 2))"
   ]
  },
  {
   "cell_type": "code",
   "execution_count": null,
   "metadata": {},
   "outputs": [],
   "source": [
    "x = x.reshape(-1,1)\n",
    "y = y.reshape(-1,1)"
   ]
  },
  {
   "cell_type": "code",
   "execution_count": null,
   "metadata": {},
   "outputs": [],
   "source": [
    "reg = linear_model.LinearRegression()\n",
    "reg.fit(x, y)\n",
    "intercept = int(round(reg.intercept_[0],0))\n",
    "coef = int(round(reg.coef_[0][0],0))\n",
    "equation = str(coef) + 'x + ' + str(intercept)\n",
    "print(intercept)\n",
    "print(coef)\n",
    "print (equation)"
   ]
  },
  {
   "cell_type": "code",
   "execution_count": null,
   "metadata": {},
   "outputs": [],
   "source": [
    "y_hat = reg.predict(x)\n",
    "y_hat = y_hat.ravel()\n",
    "monthly_resample['y_model'] = y_hat"
   ]
  },
  {
   "cell_type": "code",
   "execution_count": null,
   "metadata": {},
   "outputs": [],
   "source": [
    "monthly_resample['year-month'] = pd.to_datetime(monthly_resample['Date']).dt.year.apply(str) + '-' + pd.to_datetime(monthly_resample['Date']).dt.month.apply(str)\n",
    "monthly_resample.head()"
   ]
  },
  {
   "cell_type": "code",
   "execution_count": null,
   "metadata": {},
   "outputs": [],
   "source": [
    "sns.set_style(style='white')\n",
    "sns.set_style('ticks')\n",
    "plt.figure(figsize = (15,7))\n",
    "_ = sns.lineplot(monthly_resample.index, monthly_resample.Streams)\n",
    "_ = sns.lineplot(monthly_resample.index, monthly_resample.y_model,color='r',label=equation)\n",
    "_.set(title='Top 200 Daily Average Streams by month', ylabel='average daily streams', xlabel='Date (by month)')\n",
    "_.set_xlim(xmin=0)\n",
    "plt.locator_params(axis='x', nbins=30)\n",
    "_.set_xticklabels([monthly_resample['year-month'][x] if x % 3 == 0 else '' for x in range(len(monthly_resample['year-month']))])\n",
    "_.set_yticklabels(['{:,}'.format(int(x)) for x in _.get_yticks().tolist()])\n",
    "plt.xticks(rotation=45)\n",
    "_ = plt.legend(title='equation', loc='center right', bbox_to_anchor=(1.27, 0.5) )\n",
    "_.figure.savefig(r'C:\\Users\\abels\\Desktop\\spotify_scrape\\Data Story\\graphics\\streams_over_time.png')"
   ]
  },
  {
   "cell_type": "markdown",
   "metadata": {},
   "source": [
    "#### The above plot shows significant growth over time. Between January 2017 and April 2019, the top 200 Spotify chart daily stream numbers grew at an average of ~8700 streams.\n",
    "#### In other words, the average daily streams in a month grew by ~8700 streams.\n"
   ]
  },
  {
   "cell_type": "markdown",
   "metadata": {},
   "source": [
    "## 3) What does the distribution of stream numbers look like for the top 200 stream list? "
   ]
  },
  {
   "cell_type": "code",
   "execution_count": null,
   "metadata": {},
   "outputs": [],
   "source": [
    "top_artists = df.groupby('Artist')['Streams'].sum().reset_index()\n",
    "top_artists = top_artists.sort_values('Streams', ascending=False)"
   ]
  },
  {
   "cell_type": "code",
   "execution_count": null,
   "metadata": {},
   "outputs": [],
   "source": [
    "top_artists['log_streams'] = np.log(top_artists['Streams'])"
   ]
  },
  {
   "cell_type": "code",
   "execution_count": null,
   "metadata": {},
   "outputs": [],
   "source": [
    "top_artists.head()"
   ]
  },
  {
   "cell_type": "code",
   "execution_count": null,
   "metadata": {},
   "outputs": [],
   "source": [
    "sns.set_style(style='white')\n",
    "sns.set_style('ticks')\n",
    "\n",
    "\n",
    "fig = plt.figure()\n",
    "with sns.axes_style(\"whitegrid\"):\n",
    "    ax1 = fig.add_subplot(121)\n",
    "    ax2 = fig.add_subplot(122)\n",
    "\n",
    "_ = sns.set(font_scale=1.5)\n",
    "_ , ax = plt.subplots(nrows=1, ncols=2, figsize=(19,8))\n",
    "sns.set_style(style='white')\n",
    "sns.set_style('ticks')\n",
    "_ = sns.distplot(top_artists['Streams'], ax=ax[0], bins=20)\n",
    "_ =_.set(title='1) Distribution of Stream Numbers Amoung Top Artists', ylabel='% of Artists', xlabel='Top Artists Total Stream Numbers')\n",
    "_ = sns.distplot(top_artists['log_streams'], ax=ax[1],bins=100)\n",
    "_.set(title='2) Log Distribution of Top 200 Song Streams', ylabel='% of Artists', xlabel='Log of Top Artists Total Stream Numbers')\n",
    "_.figure.savefig(r'C:\\Users\\abels\\Desktop\\spotify_scrape\\Data Story\\graphics\\dist_of_songs.png')"
   ]
  },
  {
   "cell_type": "code",
   "execution_count": null,
   "metadata": {},
   "outputs": [],
   "source": [
    "top_artists['Streams'].values"
   ]
  },
  {
   "cell_type": "code",
   "execution_count": null,
   "metadata": {},
   "outputs": [],
   "source": [
    "\n",
    "fig = plt.figure(figsize=(19,8))\n",
    "with sns.axes_style(\"white\"):\n",
    "    ax1 = fig.add_subplot(121)\n",
    "    ax2 = fig.add_subplot(122)\n",
    "\n",
    "_ = sns.set(font_scale=1.5)\n",
    "\n",
    "_ = sns.distplot(top_artists['Streams'].values, ax=ax1, bins=25, norm_hist=True)\n",
    "_ =_.set(title='1) Distribution of Stream Numbers Amoung Top Artists', ylabel='% of Artists', xlabel='Top Artists Total Stream Numbers')\n",
    "_ = sns.distplot(top_artists['log_streams'], ax=ax2,bins=200)\n",
    "_.set(title='2) Log Distribution of Top 200 Song Streams', ylabel='% of Artists', xlabel='Log of Top Artists Total Stream Numbers')\n",
    "_.figure.savefig(r'C:\\Users\\abels\\Desktop\\spotify_scrape\\Data Story\\graphics\\dist_of_songs.png')"
   ]
  },
  {
   "cell_type": "markdown",
   "metadata": {},
   "source": [
    "#### From the left graph, we see there is a rough exponential relationship between the most popular artists.\n",
    "#### From the right graph, we see a gaussian distribution of stream numbers among the artists."
   ]
  },
  {
   "cell_type": "markdown",
   "metadata": {},
   "source": [
    "## 4) When do Spotify users tend to stream the most (day of week, time of year, etc.)?"
   ]
  },
  {
   "cell_type": "code",
   "execution_count": null,
   "metadata": {},
   "outputs": [],
   "source": [
    "#resampling by day of week and plotting the results\n",
    "flatui = [\"#9b59b6\", \"#3498db\", \"#95a5a6\", \"#e74c3c\", \"#34495e\", \"#2ecc71\"]\n",
    "\n",
    "sns.set_style(style='white')\n",
    "sns.set_style('ticks')\n",
    "sns.set_palette(flatui, n_colors=8, desat=.5)\n",
    "\n",
    "weekly_resample = df2['Streams'].reset_index()\n",
    "weekly_resample['day_of_week'] = weekly_resample['Date'].dt.dayofweek\n",
    "weekly_resample = weekly_resample.groupby('day_of_week')['Streams'].mean().reset_index()\n",
    "day_dict = {0:'Monday',1:'Tuesday',2:'Wednesday',3:'Thursday',4:'Friday',5:'Saturday',6:'Sunday'}\n",
    "weekly_resample['day_of_week'] = weekly_resample['day_of_week'].map(day_dict)\n",
    "weekly_resample['Streams'] = weekly_resample['Streams'] / 1000000\n",
    "\n",
    "_ = plt.figure(figsize=(12,6))\n",
    "\n",
    "_ = sns.barplot(weekly_resample['day_of_week'], weekly_resample['Streams'])\n",
    "_ =_.set(title='Top 200: Average Daily Streams by Day of Week', xlabel='Day of Week', ylabel='Streams (in millions)')\n",
    "_ = plt.axhline(np.mean(weekly_resample['Streams']), 10,0,color='b',label=str(round(np.mean(weekly_resample['Streams']),2)))\n",
    "_ = plt.legend(title='mean', loc='center right', bbox_to_anchor=(1.17, 0.5))\n",
    "_.figure.savefig(r'C:\\Users\\abels\\Desktop\\spotify_scrape\\Data Story\\graphics\\DOW_streams.png')"
   ]
  },
  {
   "cell_type": "markdown",
   "metadata": {},
   "source": [
    "#### From the above graph, among the top 200 list of songs, we see that Friday and Saturday have the highest stream numbers with Sunday being the lowest."
   ]
  },
  {
   "cell_type": "code",
   "execution_count": null,
   "metadata": {},
   "outputs": [],
   "source": [
    "monthly_resample = df2['Streams'].reset_index()\n",
    "mask = (monthly_resample['Date'] >= '2017-01-01') & (monthly_resample['Date'] <= '2018-12-31')\n",
    "monthly_resample = monthly_resample[mask]"
   ]
  },
  {
   "cell_type": "code",
   "execution_count": null,
   "metadata": {},
   "outputs": [],
   "source": [
    "#resampling by day of week and plotting the results\n",
    "monthly_resample['month'] = monthly_resample['Date'].dt.month\n",
    "monthly_resample['month'] = monthly_resample['Date'].dt.month\n",
    "monthly_resample = monthly_resample.groupby('month')['Streams'].mean().reset_index()\n",
    "monthly_resample['Streams'] = monthly_resample['Streams'] / 1000000\n",
    "month_dict = {1:'January', 2:'February', 3:'March', 4:'April',5:'May',6:'June', 7:'July', 8:'August', 9:'September', 10:'October',11:'November',12:'December'}\n",
    "monthly_resample['month'] = monthly_resample['month'].map(month_dict)\n",
    "monthly_resample.head()\n"
   ]
  },
  {
   "cell_type": "code",
   "execution_count": null,
   "metadata": {},
   "outputs": [],
   "source": [
    "\n",
    "sns.set_palette(flatui, n_colors=8, desat=.5)\n",
    "sns.set_style(style='white')\n",
    "sns.set_style('ticks')\n",
    "\n",
    "_ = plt.figure(figsize=(14,6))\n",
    "_ = sns.barplot(monthly_resample['month'], monthly_resample['Streams'])\n",
    "sns.set_palette(flatui, n_colors=8, desat=.5)\n",
    "_ =_.set(title='Average Number of Daily Streams by month (two year period - Jan-17 to Dec-18)', xlabel='Month', ylabel='Streams (in millions)')\n",
    "_ = plt.axhline(np.mean(monthly_resample['Streams']), 10,0,label=str(round(np.mean(monthly_resample['Streams']),2)))\n",
    "plt.xticks(rotation=45)\n",
    "_ = plt.legend(title='mean', loc='center right', bbox_to_anchor=(1.13, 0.5))\n",
    "sns.set_palette(flatui, n_colors=8, desat=.5)\n",
    "_.figure.savefig(r'C:\\Users\\abels\\Desktop\\spotify_scrape\\Data Story\\graphics\\streams_by_month.png')"
   ]
  },
  {
   "cell_type": "markdown",
   "metadata": {},
   "source": [
    "#### Splitting the data into monthly streams, we see that December is significantly higher than other months. While February is the lowest month. Given that Spotify's user demographic is largely younger, one could postulate that the dip in February could be due to school or exams. Additional data is required to confirm this hypothesis"
   ]
  },
  {
   "cell_type": "markdown",
   "metadata": {},
   "source": [
    "## 5) Who is the most popular artist in the last 2.33 years?"
   ]
  },
  {
   "cell_type": "code",
   "execution_count": null,
   "metadata": {},
   "outputs": [],
   "source": [
    "top10_artists = top_artists.head(10)"
   ]
  },
  {
   "cell_type": "code",
   "execution_count": null,
   "metadata": {},
   "outputs": [],
   "source": [
    "top10_artists"
   ]
  },
  {
   "cell_type": "code",
   "execution_count": null,
   "metadata": {},
   "outputs": [],
   "source": [
    "list(top10_artists.Artist)"
   ]
  },
  {
   "cell_type": "code",
   "execution_count": null,
   "metadata": {},
   "outputs": [],
   "source": [
    "is_featured_pivot[is_featured_pivot['Artist'].isin(list(top10_artists.Artist))].sort_values('%featured', ascending=False)"
   ]
  },
  {
   "cell_type": "code",
   "execution_count": null,
   "metadata": {},
   "outputs": [],
   "source": [
    "sns.set_style(style='white')\n",
    "sns.set_style('ticks')\n",
    "sns.set_context(\"paper\", rc={\"font.size\":30,\"axes.titlesize\":22,\"axes.labelsize\":15}) \n",
    "_ = plt.figure(figsize=(14,6))\n",
    "_ = sns.barplot(top10_artists.Artist, top10_artists.Streams)\n",
    "_.set(title='Most Popular Artists (by total stream numbers)' )\n",
    "_.set_xlabel(xlabel='Artist',fontsize=20)\n",
    "_.set_ylabel(ylabel='Streams (in billions)',fontsize=20)\n",
    "plt.xticks(rotation=45, fontsize=12)\n",
    "_.figure.savefig(r'C:\\Users\\abels\\Desktop\\spotify_scrape\\Data Story\\graphics\\top_artists.png')"
   ]
  },
  {
   "cell_type": "markdown",
   "metadata": {},
   "source": [
    "#### Post Malone appears to be the most popular artist in the last two years."
   ]
  },
  {
   "cell_type": "code",
   "execution_count": null,
   "metadata": {},
   "outputs": [],
   "source": [
    "artist_group = df.groupby('Artist').agg({'Streams': ['sum','count']})\n",
    "artist_group = artist_group['Streams'].rename(columns={\"sum\": \"total_streams\", 'count':'instances_in_top200'})\n",
    "artist_group = artist_group.reset_index()\n",
    "artist_group[artist_group.Artist == 'Post Malone']"
   ]
  },
  {
   "cell_type": "code",
   "execution_count": null,
   "metadata": {},
   "outputs": [],
   "source": [
    "placeholder = df.drop_duplicates(keep = False)\n",
    "placeholder['is_featured'] = placeholder['is_featured'] * 1\n",
    "placeholder = placeholder.groupby(['Track Name', 'Artist']).agg({'is_featured':'count'})\n",
    "placeholder = placeholder.sort_values('Track Name', ascending=False).reset_index()\n",
    "#print (placeholder[placeholder.Artist == 'Post Malone'])"
   ]
  },
  {
   "cell_type": "code",
   "execution_count": null,
   "metadata": {},
   "outputs": [],
   "source": [
    "top_song = df.groupby(['Track Name','Artist']).sum().sort_values('Streams', ascending=False).reset_index()"
   ]
  },
  {
   "cell_type": "code",
   "execution_count": null,
   "metadata": {},
   "outputs": [],
   "source": [
    "top_song = top_song.head(5)\n",
    "top_song.head()"
   ]
  },
  {
   "cell_type": "code",
   "execution_count": null,
   "metadata": {},
   "outputs": [],
   "source": [
    "sns.set_context(\"paper\", rc={\"font.size\":30,\"axes.titlesize\":20,\"axes.labelsize\":22}) \n",
    "sns.set_style(style='white')\n",
    "sns.set_style('ticks')\n",
    "_ = plt.figure(figsize=(14,6))\n",
    "_ = sns.barplot(top_song['Track Name'] + ' - ' + top_song['Artist'], top_song.Streams)\n",
    "_.set(title='Most Popular Songs (by total stream numbers)')\n",
    "_.set_xlabel(xlabel='Song Name and Artist',fontsize=20)\n",
    "_.set_ylabel( ylabel='Streams (in billions)',fontsize=20)\n",
    "plt.xticks(fontsize=14)\n",
    "_.figure.savefig(r'C:\\Users\\abels\\Desktop\\spotify_scrape\\Data Story\\graphics\\top_songs.png')"
   ]
  },
  {
   "cell_type": "markdown",
   "metadata": {},
   "source": [
    "#### Shape of You - Ed Sheeran holds the title for most popular song."
   ]
  },
  {
   "cell_type": "markdown",
   "metadata": {},
   "source": [
    "## 6) What types of genres tend to be on the top 200 charts?"
   ]
  },
  {
   "cell_type": "code",
   "execution_count": null,
   "metadata": {},
   "outputs": [],
   "source": [
    "#IMPORTANT - URL for songs is too long, an adjustment to pandas settings is required\n",
    "pd.set_option(\"display.max_colwidth\", 10000)\n",
    "\n",
    "#grabbing API keys from hidden file\n",
    "CLIENT_ID, SECRET_CLIENT_ID = grab_api_keys()"
   ]
  },
  {
   "cell_type": "code",
   "execution_count": null,
   "metadata": {},
   "outputs": [],
   "source": [
    "credentials = oauth2.SpotifyClientCredentials(\n",
    "        client_id=CLIENT_ID,\n",
    "        client_secret=SECRET_CLIENT_ID)\n",
    "\n",
    "token = credentials.get_access_token()\n",
    "spotify = spotipy.Spotify(auth=token)"
   ]
  },
  {
   "cell_type": "code",
   "execution_count": null,
   "metadata": {},
   "outputs": [],
   "source": [
    "cwd = os.getcwd()\n",
    "print (cwd)"
   ]
  },
  {
   "cell_type": "code",
   "execution_count": null,
   "metadata": {},
   "outputs": [],
   "source": [
    "top_200 = pd.read_csv(cwd + r'\\Data_Wrangling\\final_csv_files\\Combined_Top_200_Stream_Numbers.csv')"
   ]
  },
  {
   "cell_type": "code",
   "execution_count": null,
   "metadata": {},
   "outputs": [],
   "source": [
    "df['Streams'] = pd.to_numeric(df['Streams'], errors='coerce')\n",
    "mask = (~np.isnan(df['Streams']))\n",
    "df = df[mask]"
   ]
  },
  {
   "cell_type": "code",
   "execution_count": null,
   "metadata": {},
   "outputs": [],
   "source": [
    "df.head()"
   ]
  },
  {
   "cell_type": "code",
   "execution_count": null,
   "metadata": {},
   "outputs": [],
   "source": [
    "unique_artists = df['Artist'].drop_duplicates().to_frame()"
   ]
  },
  {
   "cell_type": "code",
   "execution_count": null,
   "metadata": {},
   "outputs": [],
   "source": [
    "unique_artists.head()"
   ]
  },
  {
   "cell_type": "code",
   "execution_count": null,
   "metadata": {},
   "outputs": [],
   "source": [
    "unique_artists['api_artist'] = \"\""
   ]
  },
  {
   "cell_type": "code",
   "execution_count": null,
   "metadata": {},
   "outputs": [],
   "source": [
    "unique_artists['api_url'] = \"\""
   ]
  },
  {
   "cell_type": "code",
   "execution_count": null,
   "metadata": {},
   "outputs": [],
   "source": [
    "unique_artists = unique_artists.reset_index()\n",
    "unique_artists = unique_artists.drop('index', axis=1)\n",
    "unique_artists.head()"
   ]
  },
  {
   "cell_type": "code",
   "execution_count": null,
   "metadata": {},
   "outputs": [],
   "source": [
    "for x in range(len(unique_artists)):\n",
    "    placeholder = spotify.search(unique_artists.iloc[x][0])\n",
    "    if len(placeholder['tracks']['items']) != 0:\n",
    "        try:\n",
    "            for counter in range(len(placeholder['tracks']['items'])):\n",
    "                if unique_artists.iloc[x][0] == placeholder['tracks']['items'][counter]['album']['artists'][0]['name']:\n",
    "                    unique_artists.at[x,'api_artist'] = placeholder['tracks']['items'][counter]['album']['artists'][0]['name']\n",
    "                    unique_artists.at[x,'api_url'] = placeholder['tracks']['items'][counter]['album']['artists'][0]['external_urls']['spotify']\n",
    "        except:\n",
    "            print (placeholder)\n",
    "          "
   ]
  },
  {
   "cell_type": "code",
   "execution_count": null,
   "metadata": {},
   "outputs": [],
   "source": [
    "unique_artists.head()"
   ]
  },
  {
   "cell_type": "code",
   "execution_count": null,
   "metadata": {},
   "outputs": [],
   "source": [
    "unique_artists[unique_artists['Artist'] != unique_artists['api_artist']].head()"
   ]
  },
  {
   "cell_type": "code",
   "execution_count": null,
   "metadata": {},
   "outputs": [],
   "source": [
    "unique_artists['artist_api_id'] = unique_artists['api_url'].str[32:1000]\n",
    "unique_artists['genres'] = np.NaN\n",
    "unique_artists['genres'].astype('object')\n",
    "unique_artists.head()"
   ]
  },
  {
   "cell_type": "code",
   "execution_count": null,
   "metadata": {},
   "outputs": [],
   "source": [
    "unique_artists.shape"
   ]
  },
  {
   "cell_type": "code",
   "execution_count": null,
   "metadata": {},
   "outputs": [],
   "source": [
    "genre_df = unique_artists\n",
    "genre_df.head()"
   ]
  },
  {
   "cell_type": "code",
   "execution_count": null,
   "metadata": {},
   "outputs": [],
   "source": [
    "genre_df.shape"
   ]
  },
  {
   "cell_type": "code",
   "execution_count": null,
   "metadata": {},
   "outputs": [],
   "source": [
    "genre_df[genre_df['api_url'] == ''].head()"
   ]
  },
  {
   "cell_type": "code",
   "execution_count": null,
   "metadata": {},
   "outputs": [],
   "source": [
    "spotify.artist(genre_df.iloc[1]['artist_api_id'])"
   ]
  },
  {
   "cell_type": "code",
   "execution_count": null,
   "metadata": {},
   "outputs": [],
   "source": [
    "genre_df['artist_api_id'].head()"
   ]
  },
  {
   "cell_type": "code",
   "execution_count": null,
   "metadata": {},
   "outputs": [],
   "source": [
    "unique_artists['genres'] = unique_artists['genres'].astype('object')"
   ]
  },
  {
   "cell_type": "code",
   "execution_count": null,
   "metadata": {},
   "outputs": [],
   "source": [
    "for x in range(1):\n",
    "    placeholder = spotify.artist(genre_df.iloc[x]['artist_api_id'])\n",
    "    try:\n",
    "        genre_df.at[x,'genres'] = placeholder['genres']\n",
    "    except:\n",
    "        genre_df.at[x,'genres'] = 'error'"
   ]
  },
  {
   "cell_type": "code",
   "execution_count": null,
   "metadata": {},
   "outputs": [],
   "source": [
    "genre_df.head()"
   ]
  },
  {
   "cell_type": "code",
   "execution_count": null,
   "metadata": {},
   "outputs": [],
   "source": [
    "for x in range(len(genre_df)):\n",
    "    if genre_df.iloc[x]['artist_api_id'] != '':\n",
    "        placeholder = spotify.artist(genre_df.iloc[x]['artist_api_id'])\n",
    "        try:\n",
    "            genre_df.at[x,'genres'] = placeholder['genres']\n",
    "        except:\n",
    "            genre_df.at[x,'genres'] = 'error'"
   ]
  },
  {
   "cell_type": "code",
   "execution_count": null,
   "metadata": {},
   "outputs": [],
   "source": [
    "genre_df[genre_df['genres']=='error'].head()"
   ]
  },
  {
   "cell_type": "code",
   "execution_count": null,
   "metadata": {},
   "outputs": [],
   "source": [
    "genre_df[genre_df['genres'].str.len() == 0].head()"
   ]
  },
  {
   "cell_type": "code",
   "execution_count": null,
   "metadata": {},
   "outputs": [],
   "source": [
    "genre_df.head()"
   ]
  },
  {
   "cell_type": "code",
   "execution_count": null,
   "metadata": {},
   "outputs": [],
   "source": [
    "len(genre_df.iloc[706]['genres'])"
   ]
  },
  {
   "cell_type": "code",
   "execution_count": null,
   "metadata": {},
   "outputs": [],
   "source": [
    "genre_df.iloc[706]['genres']"
   ]
  },
  {
   "cell_type": "code",
   "execution_count": null,
   "metadata": {},
   "outputs": [],
   "source": [
    "genre_df.head()"
   ]
  },
  {
   "cell_type": "code",
   "execution_count": null,
   "metadata": {},
   "outputs": [],
   "source": [
    "unique_genres = genre_df['genres'].reset_index()"
   ]
  },
  {
   "cell_type": "code",
   "execution_count": null,
   "metadata": {},
   "outputs": [],
   "source": [
    "print(unique_genres.iloc[706])"
   ]
  },
  {
   "cell_type": "code",
   "execution_count": null,
   "metadata": {},
   "outputs": [],
   "source": [
    "print (type(unique_genres.iloc[706]))"
   ]
  },
  {
   "cell_type": "code",
   "execution_count": null,
   "metadata": {},
   "outputs": [],
   "source": [
    "len(unique_genres)"
   ]
  },
  {
   "cell_type": "code",
   "execution_count": null,
   "metadata": {},
   "outputs": [],
   "source": [
    "type(unique_genres.iloc[44]['genres'])"
   ]
  },
  {
   "cell_type": "code",
   "execution_count": null,
   "metadata": {},
   "outputs": [],
   "source": [
    "placeholder_list = []\n",
    "for x in range(len(unique_genres)):\n",
    "    if type(unique_genres.iloc[x]['genres']) != float:\n",
    "        print (x)\n",
    "        placeholder_list.extend(unique_genres.iloc[x]['genres'])\n",
    "        print (unique_genres.iloc[x]['genres'])"
   ]
  },
  {
   "cell_type": "code",
   "execution_count": null,
   "metadata": {},
   "outputs": [],
   "source": [
    "placeholder_list = list(set(placeholder_list))"
   ]
  },
  {
   "cell_type": "code",
   "execution_count": null,
   "metadata": {},
   "outputs": [],
   "source": [
    "placeholder_list"
   ]
  },
  {
   "cell_type": "code",
   "execution_count": null,
   "metadata": {},
   "outputs": [],
   "source": [
    "len(placeholder_list)"
   ]
  },
  {
   "cell_type": "code",
   "execution_count": null,
   "metadata": {},
   "outputs": [],
   "source": [
    "d = defaultdict(int)\n",
    "for x in range(len(unique_genres)):\n",
    "    if type(unique_genres.iloc[x]['genres']) != float:\n",
    "        for genre in unique_genres.iloc[x]['genres']:\n",
    "            d[genre] +=1"
   ]
  },
  {
   "cell_type": "code",
   "execution_count": null,
   "metadata": {},
   "outputs": [],
   "source": [
    "result = sorted(d.items(), key=lambda kv: kv[1], reverse=True)\n",
    "print (result)"
   ]
  },
  {
   "cell_type": "code",
   "execution_count": null,
   "metadata": {},
   "outputs": [],
   "source": [
    "import matplotlib.pyplot as plt"
   ]
  },
  {
   "cell_type": "code",
   "execution_count": null,
   "metadata": {},
   "outputs": [],
   "source": [
    "from collections import Counter"
   ]
  },
  {
   "cell_type": "code",
   "execution_count": null,
   "metadata": {},
   "outputs": [],
   "source": [
    "scores = Counter(result)\n",
    "scores = scores.most_common(10)"
   ]
  },
  {
   "cell_type": "code",
   "execution_count": null,
   "metadata": {},
   "outputs": [],
   "source": [
    "popular = result"
   ]
  },
  {
   "cell_type": "code",
   "execution_count": null,
   "metadata": {},
   "outputs": [],
   "source": [
    "print (scores)"
   ]
  },
  {
   "cell_type": "code",
   "execution_count": null,
   "metadata": {},
   "outputs": [],
   "source": [
    "x,y = zip(*scores)\n",
    "x,y = zip(*x)"
   ]
  },
  {
   "cell_type": "code",
   "execution_count": null,
   "metadata": {},
   "outputs": [],
   "source": [
    "print (x,y)"
   ]
  },
  {
   "cell_type": "code",
   "execution_count": null,
   "metadata": {},
   "outputs": [],
   "source": [
    "sns.set_style(style='white')\n",
    "sns.set_style('ticks')\n",
    "plt.figure(figsize = (14,6))\n",
    "_ = sns.barplot(list(x),y)\n",
    "_.set(title='Top 200 genre count (top 10 genres)', xlabel='Genres', ylabel='count of genre')"
   ]
  },
  {
   "cell_type": "code",
   "execution_count": null,
   "metadata": {},
   "outputs": [],
   "source": [
    "_.figure.savefig(r'C:\\Users\\abels\\Desktop\\spotify_scrape\\Data Story\\graphics\\genre_count.png')"
   ]
  },
  {
   "cell_type": "code",
   "execution_count": null,
   "metadata": {},
   "outputs": [],
   "source": [
    "dict_score = dict(scores)"
   ]
  },
  {
   "cell_type": "code",
   "execution_count": null,
   "metadata": {},
   "outputs": [],
   "source": [
    "dict_score"
   ]
  },
  {
   "cell_type": "code",
   "execution_count": null,
   "metadata": {},
   "outputs": [],
   "source": []
  }
 ],
 "metadata": {
  "kernelspec": {
   "display_name": "Python 3",
   "language": "python",
   "name": "python3"
  },
  "language_info": {
   "codemirror_mode": {
    "name": "ipython",
    "version": 3
   },
   "file_extension": ".py",
   "mimetype": "text/x-python",
   "name": "python",
   "nbconvert_exporter": "python",
   "pygments_lexer": "ipython3",
   "version": "3.7.3"
  }
 },
 "nbformat": 4,
 "nbformat_minor": 2
}
